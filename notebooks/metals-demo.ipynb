{
 "cells": [
  {
   "cell_type": "markdown",
   "metadata": {
    "id": "MKAxElazTp6I"
   },
   "source": [
    "# Metals"
   ]
  },
  {
   "cell_type": "markdown",
   "metadata": {},
   "source": [
    "# Библиотеки"
   ]
  },
  {
   "cell_type": "code",
   "execution_count": 4,
   "metadata": {
    "execution": {
     "iopub.execute_input": "2025-04-18T14:32:29.342235Z",
     "iopub.status.busy": "2025-04-18T14:32:29.341886Z",
     "iopub.status.idle": "2025-04-18T14:32:48.391771Z",
     "shell.execute_reply": "2025-04-18T14:32:48.390892Z",
     "shell.execute_reply.started": "2025-04-18T14:32:29.342204Z"
    },
    "id": "BPRPtF0iksJz",
    "outputId": "7347e803-75e1-4a18-d8b6-34b51e95baa4",
    "trusted": true
   },
   "outputs": [],
   "source": [
    "%pip install lovely-tensors\n",
    "%pip install torcheval\n",
    "%pip install matplotlib\n",
    "%pip install kagglehub\n",
    "%pip install torch\n",
    "%pip install torcheval\n",
    "%pip install torchvision\n",
    "%pip install tqdm\n",
    "%pip install lovely_tensors\n",
    "%pip install pandas\n",
    "\n",
    "import IPython\n",
    "import IPython.display as ipd\n",
    "import numpy as np\n",
    "import pandas as pd\n",
    "import scipy\n",
    "import matplotlib.pyplot as plt\n",
    "%matplotlib inline\n",
    "import shutil\n",
    "import kagglehub\n",
    "import os\n",
    "import torch\n",
    "from torch import optim\n",
    "from torch import clamp\n",
    "from torcheval.metrics import MeanSquaredError\n",
    "import torch.nn as nn\n",
    "import torch.nn.functional as F\n",
    "import torch.utils.data\n",
    "import torchvision\n",
    "from torchvision.io import decode_image, encode_png\n",
    "from torchvision.utils import save_image\n",
    "import torchvision.transforms.functional as F\n",
    "import math\n",
    "from sklearn.model_selection import train_test_split\n",
    "from sklearn.preprocessing import MinMaxScaler\n",
    "import random\n",
    "from time import time, sleep\n",
    "from tqdm import tqdm\n",
    "import glob\n",
    "from IPython.display import clear_output\n",
    "from PIL import Image \n",
    "import PIL\n",
    "from torchvision.transforms import v2\n",
    "from torch.utils.data import default_collate\n",
    "from collections import defaultdict\n",
    "import lovely_tensors as lt\n",
    "lt.monkey_patch()\n",
    "clear_output()"
   ]
  },
  {
   "cell_type": "code",
   "execution_count": 11,
   "metadata": {
    "execution": {
     "iopub.execute_input": "2025-04-18T14:40:50.632537Z",
     "iopub.status.busy": "2025-04-18T14:40:50.632225Z",
     "iopub.status.idle": "2025-04-18T14:40:52.921362Z",
     "shell.execute_reply": "2025-04-18T14:40:52.920660Z",
     "shell.execute_reply.started": "2025-04-18T14:40:50.632512Z"
    },
    "trusted": true
   },
   "outputs": [],
   "source": [
    "from PIL import Image\n",
    "import requests\n",
    "\n",
    "from transformers import CLIPProcessor, CLIPModel\n",
    "\n",
    "model = CLIPModel.from_pretrained(\"openai/clip-vit-large-patch14\")\n",
    "processor = CLIPProcessor.from_pretrained(\"openai/clip-vit-large-patch14\")\n",
    "\n",
    "url = \"http://images.cocodataset.org/val2017/000000039769.jpg\"\n",
    "image = Image.open('/kaggle/working/temperature/images/CPJ7J_0003_part1.png')\n",
    "\n",
    "inputs = processor(text=[\"low carbon steel\", \"medium carbon steel\", \"high carbon steel\"], images=image, return_tensors=\"pt\", padding=True)\n",
    "\n",
    "outputs = model(**inputs)\n",
    "logits_per_image = outputs.logits_per_image # this is the image-text similarity score\n",
    "probs = logits_per_image.softmax(dim=1)"
   ]
  },
  {
   "cell_type": "code",
   "execution_count": 13,
   "metadata": {
    "execution": {
     "iopub.execute_input": "2025-04-18T14:41:38.479842Z",
     "iopub.status.busy": "2025-04-18T14:41:38.479516Z",
     "iopub.status.idle": "2025-04-18T14:41:38.486662Z",
     "shell.execute_reply": "2025-04-18T14:41:38.485988Z",
     "shell.execute_reply.started": "2025-04-18T14:41:38.479819Z"
    },
    "trusted": true
   },
   "outputs": [
    {
     "data": {
      "text/plain": [
       "CLIPModel(\n",
       "  (text_model): CLIPTextTransformer(\n",
       "    (embeddings): CLIPTextEmbeddings(\n",
       "      (token_embedding): Embedding(49408, 768)\n",
       "      (position_embedding): Embedding(77, 768)\n",
       "    )\n",
       "    (encoder): CLIPEncoder(\n",
       "      (layers): ModuleList(\n",
       "        (0-11): 12 x CLIPEncoderLayer(\n",
       "          (self_attn): CLIPSdpaAttention(\n",
       "            (k_proj): Linear(in_features=768, out_features=768, bias=True)\n",
       "            (v_proj): Linear(in_features=768, out_features=768, bias=True)\n",
       "            (q_proj): Linear(in_features=768, out_features=768, bias=True)\n",
       "            (out_proj): Linear(in_features=768, out_features=768, bias=True)\n",
       "          )\n",
       "          (layer_norm1): LayerNorm((768,), eps=1e-05, elementwise_affine=True)\n",
       "          (mlp): CLIPMLP(\n",
       "            (activation_fn): QuickGELUActivation()\n",
       "            (fc1): Linear(in_features=768, out_features=3072, bias=True)\n",
       "            (fc2): Linear(in_features=3072, out_features=768, bias=True)\n",
       "          )\n",
       "          (layer_norm2): LayerNorm((768,), eps=1e-05, elementwise_affine=True)\n",
       "        )\n",
       "      )\n",
       "    )\n",
       "    (final_layer_norm): LayerNorm((768,), eps=1e-05, elementwise_affine=True)\n",
       "  )\n",
       "  (vision_model): CLIPVisionTransformer(\n",
       "    (embeddings): CLIPVisionEmbeddings(\n",
       "      (patch_embedding): Conv2d(3, 1024, kernel_size=(14, 14), stride=(14, 14), bias=False)\n",
       "      (position_embedding): Embedding(257, 1024)\n",
       "    )\n",
       "    (pre_layrnorm): LayerNorm((1024,), eps=1e-05, elementwise_affine=True)\n",
       "    (encoder): CLIPEncoder(\n",
       "      (layers): ModuleList(\n",
       "        (0-23): 24 x CLIPEncoderLayer(\n",
       "          (self_attn): CLIPSdpaAttention(\n",
       "            (k_proj): Linear(in_features=1024, out_features=1024, bias=True)\n",
       "            (v_proj): Linear(in_features=1024, out_features=1024, bias=True)\n",
       "            (q_proj): Linear(in_features=1024, out_features=1024, bias=True)\n",
       "            (out_proj): Linear(in_features=1024, out_features=1024, bias=True)\n",
       "          )\n",
       "          (layer_norm1): LayerNorm((1024,), eps=1e-05, elementwise_affine=True)\n",
       "          (mlp): CLIPMLP(\n",
       "            (activation_fn): QuickGELUActivation()\n",
       "            (fc1): Linear(in_features=1024, out_features=4096, bias=True)\n",
       "            (fc2): Linear(in_features=4096, out_features=1024, bias=True)\n",
       "          )\n",
       "          (layer_norm2): LayerNorm((1024,), eps=1e-05, elementwise_affine=True)\n",
       "        )\n",
       "      )\n",
       "    )\n",
       "    (post_layernorm): LayerNorm((1024,), eps=1e-05, elementwise_affine=True)\n",
       "  )\n",
       "  (visual_projection): Linear(in_features=1024, out_features=768, bias=False)\n",
       "  (text_projection): Linear(in_features=768, out_features=768, bias=False)\n",
       ")"
      ]
     },
     "execution_count": 13,
     "metadata": {},
     "output_type": "execute_result"
    }
   ],
   "source": [
    "model"
   ]
  },
  {
   "cell_type": "markdown",
   "metadata": {
    "id": "BLOh3i56kmz0"
   },
   "source": [
    "# Настройки окружения"
   ]
  },
  {
   "cell_type": "code",
   "execution_count": 108,
   "metadata": {
    "execution": {
     "iopub.execute_input": "2025-04-17T17:08:35.067727Z",
     "iopub.status.busy": "2025-04-17T17:08:35.067436Z",
     "iopub.status.idle": "2025-04-17T17:08:35.076024Z",
     "shell.execute_reply": "2025-04-17T17:08:35.075358Z",
     "shell.execute_reply.started": "2025-04-17T17:08:35.067703Z"
    },
    "id": "uvdIHZ8Bmphf",
    "outputId": "4512a6e7-cd85-4bcd-c582-a4001a007a1b",
    "trusted": true
   },
   "outputs": [
    {
     "data": {
      "text/plain": [
       "device(type='cuda')"
      ]
     },
     "execution_count": 108,
     "metadata": {},
     "output_type": "execute_result"
    }
   ],
   "source": [
    "SEED = 11\n",
    "\n",
    "random.seed(SEED)\n",
    "torch.manual_seed(SEED)\n",
    "torch.backends.cudnn.deterministic = True\n",
    "\n",
    "device = torch.device('cuda' if torch.cuda.is_available() else 'cpu')\n",
    "device"
   ]
  },
  {
   "cell_type": "markdown",
   "metadata": {
    "id": "zzCNUhyfOeg4"
   },
   "source": [
    "# Вспомогательное"
   ]
  },
  {
   "cell_type": "markdown",
   "metadata": {
    "id": "SeBI7xGbOjNY"
   },
   "source": [
    "## Обработка файлов"
   ]
  },
  {
   "cell_type": "code",
   "execution_count": 109,
   "metadata": {
    "execution": {
     "iopub.execute_input": "2025-04-17T17:08:35.077730Z",
     "iopub.status.busy": "2025-04-17T17:08:35.077507Z",
     "iopub.status.idle": "2025-04-17T17:08:35.924014Z",
     "shell.execute_reply": "2025-04-17T17:08:35.922847Z",
     "shell.execute_reply.started": "2025-04-17T17:08:35.077704Z"
    },
    "trusted": true
   },
   "outputs": [
    {
     "name": "stdout",
     "output_type": "stream",
     "text": [
      "mkdir: cannot create directory ‘/kaggle/working/pretrain_states’: File exists\n",
      "mkdir: cannot create directory ‘/kaggle/working/temperature_states’: File exists\n"
     ]
    }
   ],
   "source": [
    "!rm -r /kaggle/working/pretrain\n",
    "!rm -r /kaggle/working/temperature\n",
    "!mkdir /kaggle/working/pretrain_states\n",
    "!mkdir /kaggle/working/temperature_states"
   ]
  },
  {
   "cell_type": "code",
   "execution_count": 110,
   "metadata": {
    "execution": {
     "iopub.execute_input": "2025-04-17T17:08:35.926513Z",
     "iopub.status.busy": "2025-04-17T17:08:35.926169Z",
     "iopub.status.idle": "2025-04-17T17:08:39.207207Z",
     "shell.execute_reply": "2025-04-17T17:08:39.206208Z",
     "shell.execute_reply.started": "2025-04-17T17:08:35.926483Z"
    },
    "id": "GodG-_n3Omdb",
    "trusted": true
   },
   "outputs": [
    {
     "name": "stdout",
     "output_type": "stream",
     "text": [
      "rm: cannot remove '/kaggle/working/pretrain': No such file or directory\n"
     ]
    },
    {
     "name": "stderr",
     "output_type": "stream",
     "text": [
      "100%|██████████| 1225/1225 [00:01<00:00, 897.49it/s]\n"
     ]
    }
   ],
   "source": [
    "def pretrain_files_processing(dir_name, file_format):\n",
    "    files = list(glob.glob(\"**/*\" + file_format, root_dir=dir_name, recursive=True))\n",
    "\n",
    "    if not os.path.exists('/kaggle/working/pretrain'):\n",
    "        !rm -r /kaggle/working/pretrain\n",
    "        !mkdir /kaggle/working/pretrain\n",
    "        !mkdir /kaggle/working/pretrain/images\n",
    "\n",
    "    path_to_id = dict()\n",
    "    dir_to_id = dict()\n",
    "    \n",
    "    for file in tqdm(files):\n",
    "        file_path = os.path.join(dir_name, file)\n",
    "\n",
    "        new_file_name = file.replace('/', '_')\n",
    "        target_path = os.path.join('/kaggle/working/pretrain/images', new_file_name)\n",
    "        sub_dir = target_path[target_path.rfind('/') + 1:target_path.find('_')]\n",
    "        if sub_dir not in dir_to_id:\n",
    "            dir_to_id[sub_dir] = len(dir_to_id)\n",
    "        \n",
    "        path_to_id[target_path] = {'id': dir_to_id[sub_dir]}\n",
    "        \n",
    "        shutil.copy(file_path, target_path)\n",
    "\n",
    "    answers = pd.DataFrame.from_dict(path_to_id, orient='index')\n",
    "    answers.to_csv(\"/kaggle/working/pretrain/path_to_label_id.csv\")\n",
    "\n",
    "\n",
    "pretrain_files_processing('/kaggle/input/data-3-classes-for-pretrain/microstructure_dataset/microstructure_dataset', 'png')"
   ]
  },
  {
   "cell_type": "code",
   "execution_count": 111,
   "metadata": {
    "execution": {
     "iopub.execute_input": "2025-04-17T17:08:39.208881Z",
     "iopub.status.busy": "2025-04-17T17:08:39.208489Z",
     "iopub.status.idle": "2025-04-17T17:10:11.685273Z",
     "shell.execute_reply": "2025-04-17T17:10:11.684479Z",
     "shell.execute_reply.started": "2025-04-17T17:08:39.208841Z"
    },
    "trusted": true
   },
   "outputs": [
    {
     "name": "stderr",
     "output_type": "stream",
     "text": [
      "100%|██████████| 1225/1225 [01:32<00:00, 13.25it/s]\n"
     ]
    }
   ],
   "source": [
    "def image_size_processing(dir_name='/kaggle/working/pretrain/images', answers_file='/kaggle/working/pretrain/path_to_label_id.csv', cut=False):\n",
    "    answers = pd.read_csv(answers_file, index_col=0)\n",
    "    \n",
    "    for file in tqdm(os.listdir(dir_name)):\n",
    "        fullpath = os.path.join(dir_name, file)\n",
    "        new_path = fullpath[:fullpath.rfind('.')] + '.png'\n",
    "        image = Image.open(fullpath)\n",
    "        image = image.convert('RGB')\n",
    "\n",
    "        width, height = image.size\n",
    "        if (width, height) == (224, 224):\n",
    "            answers[new_path] = answers[fullpath]\n",
    "            answers.drop(fullpath)\n",
    "            image.save(new_path)\n",
    "            continue\n",
    "        elif width < 224 or height < 224:\n",
    "            os.remove(fullpath)\n",
    "            answers[new_path] = answers[fullpath]\n",
    "            answers.drop(fullpath)\n",
    "            image.save(new_path)\n",
    "            print('Be careful, size is less, then 224')\n",
    "            continue\n",
    "        elif width < 448 or height < 448:\n",
    "            raise RuntimeError('You need to do smth here')\n",
    "\n",
    "        if cut:\n",
    "            image = image.crop((25, 25, width - 25, height - 25))\n",
    "\n",
    "        image_part1 = image.crop((0, 0, 224, 224))\n",
    "        image_part2 = image.crop((width - 224, height - 224, width, height))\n",
    "        image_part3 = image.crop((0, height - 224, 224, height))\n",
    "        image_part4 = image.crop((width - 224, 0, width, 224))\n",
    "\n",
    "        os.remove(fullpath)\n",
    "\n",
    "        new_path1 = new_path.replace('.', '_part1.')\n",
    "        new_path2 = new_path.replace('.', '_part2.')\n",
    "        new_path3 = new_path.replace('.', '_part3.')\n",
    "        new_path4 = new_path.replace('.', '_part4.')\n",
    "        \n",
    "        image_part1.save(new_path1)\n",
    "        image_part2.save(new_path2)\n",
    "        image_part3.save(new_path3)\n",
    "        image_part4.save(new_path4)\n",
    "\n",
    "        answers.loc[new_path1] = answers.loc[fullpath]\n",
    "        answers.loc[new_path2] = answers.loc[fullpath]\n",
    "        answers.loc[new_path3] = answers.loc[fullpath]\n",
    "        answers.loc[new_path4] = answers.loc[fullpath]\n",
    "        answers.drop(fullpath, inplace=True)\n",
    "\n",
    "        answers.to_csv(answers_file)\n",
    "\n",
    "image_size_processing(cut=True)"
   ]
  },
  {
   "cell_type": "code",
   "execution_count": 112,
   "metadata": {
    "execution": {
     "iopub.execute_input": "2025-04-17T17:10:11.686642Z",
     "iopub.status.busy": "2025-04-17T17:10:11.686287Z",
     "iopub.status.idle": "2025-04-17T17:10:11.690878Z",
     "shell.execute_reply": "2025-04-17T17:10:11.690044Z",
     "shell.execute_reply.started": "2025-04-17T17:10:11.686589Z"
    },
    "trusted": true
   },
   "outputs": [],
   "source": [
    "from sklearn.preprocessing import StandardScaler, MinMaxScaler\n",
    "\n",
    "a = pd.DataFrame([[1,2],[3,4]])\n",
    "sc = MinMaxScaler()"
   ]
  },
  {
   "cell_type": "code",
   "execution_count": 113,
   "metadata": {
    "execution": {
     "iopub.execute_input": "2025-04-17T17:10:11.691888Z",
     "iopub.status.busy": "2025-04-17T17:10:11.691660Z",
     "iopub.status.idle": "2025-04-17T17:10:29.154663Z",
     "shell.execute_reply": "2025-04-17T17:10:29.153731Z",
     "shell.execute_reply.started": "2025-04-17T17:10:11.691869Z"
    },
    "trusted": true
   },
   "outputs": [
    {
     "name": "stdout",
     "output_type": "stream",
     "text": [
      "rm: cannot remove '/kaggle/working/temperature': No such file or directory\n"
     ]
    },
    {
     "name": "stderr",
     "output_type": "stream",
     "text": [
      "100%|██████████| 212/212 [00:16<00:00, 13.03it/s]\n"
     ]
    }
   ],
   "source": [
    "def temperature_files_processing(dir_name='/kaggle/input/metal-files-only-100mkm/archive-2'):\n",
    "    props = pd.read_csv(os.path.join(dir_name, 'tensile-properties-from-jeffs-ml-sheet-20220208.csv')).fillna(0)\n",
    "\n",
    "    !rm -r /kaggle/working/temperature\n",
    "    !mkdir /kaggle/working/temperature\n",
    "    !mkdir /kaggle/working/temperature/images\n",
    "\n",
    "    get_right_file_ind = defaultdict(int)\n",
    "    all_files = dict()\n",
    "    for sub_dir in os.listdir(dir_name):\n",
    "        if not os.path.isdir(os.path.join(dir_name, sub_dir)):\n",
    "            continue\n",
    "    \n",
    "        all_files[sub_dir] = []\n",
    "        for filename in os.listdir(os.path.join(dir_name, sub_dir)):\n",
    "            new_filename = '0' * (8 - len(filename)) + filename\n",
    "            all_files[sub_dir].append((filename, new_filename))\n",
    "        all_files[sub_dir] = sorted(all_files[sub_dir], key=lambda x: x[1])\n",
    "\n",
    "    new_props = dict()\n",
    "\n",
    "    for ind, row in props.iterrows():\n",
    "        sub_dir = str(row['Alloy']).replace('-', '')\n",
    "        sub_dir_path = os.path.join(dir_name, sub_dir)\n",
    "                    \n",
    "        if os.path.exists(sub_dir_path) and get_right_file_ind[sub_dir] < len(all_files[sub_dir]):\n",
    "            filename, new_filename = all_files[sub_dir][get_right_file_ind[sub_dir]]\n",
    "            full_path = os.path.join(sub_dir_path, filename)\n",
    "            target_path = os.path.join('/kaggle/working/temperature/images', sub_dir + '_' + new_filename)\n",
    "            \n",
    "            shutil.copy(full_path, target_path)\n",
    "            new_props[target_path] = row\n",
    "            new_props[target_path]['Temperature, [C]'] = np.log1p(new_props[target_path]['Temperature, [C]'])\n",
    "\n",
    "            get_right_file_ind[sub_dir] += 1\n",
    "            \n",
    "    new_props = pd.DataFrame.from_dict(new_props, orient='index')\n",
    "    new_props['Temperature, [C]'] = sc.fit_transform(new_props['Temperature, [C]'].values.reshape(-1,1))\n",
    "    new_props.to_csv(\"/kaggle/working/temperature/properties.csv\")\n",
    "\n",
    "\n",
    "temperature_files_processing()\n",
    "image_size_processing(dir_name='/kaggle/working/temperature/images', answers_file='/kaggle/working/temperature/properties.csv', cut=True)"
   ]
  },
  {
   "cell_type": "markdown",
   "metadata": {},
   "source": [
    "## Ауги и трансформации"
   ]
  },
  {
   "cell_type": "code",
   "execution_count": 114,
   "metadata": {
    "execution": {
     "iopub.execute_input": "2025-04-17T17:10:29.157172Z",
     "iopub.status.busy": "2025-04-17T17:10:29.156936Z",
     "iopub.status.idle": "2025-04-17T17:10:29.171127Z",
     "shell.execute_reply": "2025-04-17T17:10:29.170370Z",
     "shell.execute_reply.started": "2025-04-17T17:10:29.157149Z"
    },
    "trusted": true
   },
   "outputs": [
    {
     "name": "stdout",
     "output_type": "stream",
     "text": [
      "[[[118 118 118]\n",
      "  [139 139 139]\n",
      "  [156 156 156]\n",
      "  ...\n",
      "  [138 138 138]\n",
      "  [121 121 121]\n",
      "  [151 151 151]]\n",
      "\n",
      " [[158 158 158]\n",
      "  [117 117 117]\n",
      "  [146 146 146]\n",
      "  ...\n",
      "  [151 151 151]\n",
      "  [132 132 132]\n",
      "  [160 160 160]]\n",
      "\n",
      " [[149 149 149]\n",
      "  [135 135 135]\n",
      "  [131 131 131]\n",
      "  ...\n",
      "  [131 131 131]\n",
      "  [146 146 146]\n",
      "  [159 159 159]]\n",
      "\n",
      " ...\n",
      "\n",
      " [[145 145 145]\n",
      "  [139 139 139]\n",
      "  [167 167 167]\n",
      "  ...\n",
      "  [145 145 145]\n",
      "  [114 114 114]\n",
      "  [143 143 143]]\n",
      "\n",
      " [[146 146 146]\n",
      "  [146 146 146]\n",
      "  [161 161 161]\n",
      "  ...\n",
      "  [155 155 155]\n",
      "  [113 113 113]\n",
      "  [127 127 127]]\n",
      "\n",
      " [[154 154 154]\n",
      "  [161 161 161]\n",
      "  [159 159 159]\n",
      "  ...\n",
      "  [155 155 155]\n",
      "  [137 137 137]\n",
      "  [103 103 103]]]\n"
     ]
    },
    {
     "data": {
      "text/plain": [
       "Image[3, 224, 224] n=150528 (0.6Mb) x∈[0.008, 0.984] μ=0.568 σ=0.07, )"
      ]
     },
     "execution_count": 114,
     "metadata": {},
     "output_type": "execute_result"
    }
   ],
   "source": [
    "def transform(pic):\n",
    "    trans = v2.Compose([\n",
    "        v2.RandomHorizontalFlip(p=0.5),\n",
    "        v2.RandomVerticalFlip(p=0.5),\n",
    "        v2.RandomRotation(degrees=(-180, 180)),\n",
    "        # v2.GaussianBlur(kernel_size=5, sigma=(0.0001, 1)),\n",
    "    ])\n",
    "    return trans(pic)\n",
    "\n",
    "\n",
    "def to_tensor(pic):\n",
    "    tensor = v2.Compose([\n",
    "        v2.ToImage(),\n",
    "        v2.ToDtype(torch.float32, scale=True)\n",
    "    ])\n",
    "    return tensor(pic)\n",
    "\n",
    "\n",
    "image = Image.open('/kaggle/working/temperature/images/CPJ10_0001_part1.png')\n",
    "im = np.asarray(image)\n",
    "print(im)\n",
    "ten = to_tensor(im)\n",
    "ten"
   ]
  },
  {
   "cell_type": "markdown",
   "metadata": {
    "id": "P_yoCClBshoN"
   },
   "source": [
    "## Разное"
   ]
  },
  {
   "cell_type": "code",
   "execution_count": 115,
   "metadata": {
    "execution": {
     "iopub.execute_input": "2025-04-17T17:10:29.172942Z",
     "iopub.status.busy": "2025-04-17T17:10:29.172714Z",
     "iopub.status.idle": "2025-04-17T17:10:29.179017Z",
     "shell.execute_reply": "2025-04-17T17:10:29.178214Z",
     "shell.execute_reply.started": "2025-04-17T17:10:29.172922Z"
    },
    "id": "8jp__WDtsjxd",
    "trusted": true
   },
   "outputs": [],
   "source": [
    "def listdir_fullpath(dir):\n",
    "    return [os.path.join(dir, file) for file in os.listdir(dir)]"
   ]
  },
  {
   "cell_type": "markdown",
   "metadata": {
    "id": "45ePzpG-T0Nw"
   },
   "source": [
    "# Данные"
   ]
  },
  {
   "cell_type": "markdown",
   "metadata": {
    "id": "Vmu5F92580K8"
   },
   "source": [
    "## Посмотреть данные"
   ]
  },
  {
   "cell_type": "code",
   "execution_count": 116,
   "metadata": {
    "execution": {
     "iopub.execute_input": "2025-04-17T17:10:29.179976Z",
     "iopub.status.busy": "2025-04-17T17:10:29.179732Z",
     "iopub.status.idle": "2025-04-17T17:10:29.246560Z",
     "shell.execute_reply": "2025-04-17T17:10:29.245823Z",
     "shell.execute_reply.started": "2025-04-17T17:10:29.179957Z"
    },
    "trusted": true
   },
   "outputs": [
    {
     "data": {
      "image/png": "[encoded data removed]",
      "text/plain": [
       "<lovely_tensors.repr_rgb.RGBProxy at 0x7f6137e6d8d0>"
      ]
     },
     "execution_count": 116,
     "metadata": {},
     "output_type": "execute_result"
    }
   ],
   "source": [
    "img = decode_image(listdir_fullpath('/kaggle/working/pretrain/images')[0])\n",
    "img.rgb"
   ]
  },
  {
   "cell_type": "markdown",
   "metadata": {
    "id": "OrbgHS009ZE8"
   },
   "source": [
    "# Датасет"
   ]
  },
  {
   "cell_type": "code",
   "execution_count": 117,
   "metadata": {
    "execution": {
     "iopub.execute_input": "2025-04-17T17:10:29.247654Z",
     "iopub.status.busy": "2025-04-17T17:10:29.247409Z",
     "iopub.status.idle": "2025-04-17T17:10:29.260593Z",
     "shell.execute_reply": "2025-04-17T17:10:29.259824Z",
     "shell.execute_reply.started": "2025-04-17T17:10:29.247609Z"
    },
    "trusted": true
   },
   "outputs": [
    {
     "name": "stdout",
     "output_type": "stream",
     "text": [
      "/kaggle/working/temperature/images/CPJ1_0004_part1.png      0.440984\n",
      "/kaggle/working/temperature/images/CPJ1_0004_part2.png      0.440984\n",
      "/kaggle/working/temperature/images/CPJ1_0004_part3.png      0.440984\n",
      "/kaggle/working/temperature/images/CPJ1_0004_part4.png      0.440984\n",
      "/kaggle/working/temperature/images/CPJ7_0016_part1.png      0.680562\n",
      "                                                              ...   \n",
      "/kaggle/working/temperature/images/P92LBN_0003_part4.png    0.440984\n",
      "/kaggle/working/temperature/images/CPJ8A_0001_part1.png     0.000000\n",
      "/kaggle/working/temperature/images/CPJ8A_0001_part2.png     0.000000\n",
      "/kaggle/working/temperature/images/CPJ8A_0001_part3.png     0.000000\n",
      "/kaggle/working/temperature/images/CPJ8A_0001_part4.png     0.000000\n",
      "Name: Temperature, [C], Length: 848, dtype: float64\n"
     ]
    }
   ],
   "source": [
    "answers = pd.read_csv('/kaggle/working/temperature/properties.csv', index_col=0)\n",
    "print(answers['Temperature, [C]'])"
   ]
  },
  {
   "cell_type": "code",
   "execution_count": 118,
   "metadata": {
    "execution": {
     "iopub.execute_input": "2025-04-17T17:10:29.261827Z",
     "iopub.status.busy": "2025-04-17T17:10:29.261486Z",
     "iopub.status.idle": "2025-04-17T17:10:29.268317Z",
     "shell.execute_reply": "2025-04-17T17:10:29.267388Z",
     "shell.execute_reply.started": "2025-04-17T17:10:29.261795Z"
    },
    "id": "i2fIREHX9anE",
    "trusted": true
   },
   "outputs": [],
   "source": [
    "class Metal_Dataset(torch.utils.data.Dataset):\n",
    "    def __init__(self, img_paths: str, answers_file: str, answer_column: str, train: bool):\n",
    "        \"\"\"Initializes Dataset with passed files.\n",
    "        Args:\n",
    "            imgs_folder: path to files with microstructures,\n",
    "            answers_file: path to file with dict: label to label_id.\n",
    "        \"\"\"\n",
    "        self.img_paths = img_paths\n",
    "        self.answers = pd.read_csv(answers_file, index_col=0)\n",
    "        self.answer_column = answer_column\n",
    "        self.train = train\n",
    "\n",
    "        float64_cols = list(self.answers.select_dtypes(include='float64'))\n",
    "        self.answers[float64_cols] = self.answers[float64_cols].astype('float32')\n",
    "\n",
    "\n",
    "    def __getitem__(self, idx: int):\n",
    "        \"\"\"Returns the object by given index.\n",
    "        Args:\n",
    "            idx - index of the image.\n",
    "        Returns:\n",
    "            image with microstructure and label_id.\n",
    "        \"\"\"\n",
    "\n",
    "        path = self.img_paths[idx]\n",
    "\n",
    "        img = to_tensor(Image.open(path))\n",
    "        answer = self.answers.loc[path][self.answer_column]\n",
    "\n",
    "        if self.train:\n",
    "            img = transform(img)\n",
    "\n",
    "        return img, answer\n",
    "\n",
    "\n",
    "    def __len__(self):\n",
    "        \"\"\"Returns num of images.\"\"\"\n",
    "\n",
    "        return 10#len(self.img_paths)"
   ]
  },
  {
   "cell_type": "markdown",
   "metadata": {
    "id": "-Bow4qv2RDh0"
   },
   "source": [
    "# Модель"
   ]
  },
  {
   "cell_type": "code",
   "execution_count": 119,
   "metadata": {
    "execution": {
     "iopub.execute_input": "2025-04-17T17:10:29.269593Z",
     "iopub.status.busy": "2025-04-17T17:10:29.269333Z",
     "iopub.status.idle": "2025-04-17T17:10:29.285326Z",
     "shell.execute_reply": "2025-04-17T17:10:29.284494Z",
     "shell.execute_reply.started": "2025-04-17T17:10:29.269572Z"
    },
    "id": "yqniCMN7RI5k",
    "trusted": true
   },
   "outputs": [],
   "source": [
    "class Net():\n",
    "    pass"
   ]
  },
  {
   "cell_type": "markdown",
   "metadata": {
    "id": "51sQ-m4-Zprg"
   },
   "source": [
    "# Метрики"
   ]
  },
  {
   "cell_type": "code",
   "execution_count": 120,
   "metadata": {
    "execution": {
     "iopub.execute_input": "2025-04-17T17:10:29.286695Z",
     "iopub.status.busy": "2025-04-17T17:10:29.286337Z",
     "iopub.status.idle": "2025-04-17T17:10:29.302908Z",
     "shell.execute_reply": "2025-04-17T17:10:29.302118Z",
     "shell.execute_reply.started": "2025-04-17T17:10:29.286663Z"
    },
    "id": "FaENyNJ6Zrhc",
    "trusted": true
   },
   "outputs": [
    {
     "data": {
      "text/plain": [
       "0.6666666865348816"
      ]
     },
     "execution_count": 120,
     "metadata": {},
     "output_type": "execute_result"
    }
   ],
   "source": [
    "# Accuracy\n",
    "\n",
    "def calc_acc(preds, y):\n",
    "    \"\"\"\n",
    "    Returns accuracy per batch in percents, i.e. if you get 8/10 right, this returns 80\n",
    "    \"\"\"\n",
    "    predicted_classes = torch.argmax(preds, axis=1)\n",
    "\n",
    "    return (torch.sum(predicted_classes == y) / len(y)).item()\n",
    "\n",
    "\n",
    "calc_acc(torch.tensor([[1,0,0], [0,1,0], [0,0,1]]), torch.tensor([0,0,2]))"
   ]
  },
  {
   "cell_type": "code",
   "execution_count": 121,
   "metadata": {
    "execution": {
     "iopub.execute_input": "2025-04-17T17:10:29.303996Z",
     "iopub.status.busy": "2025-04-17T17:10:29.303763Z",
     "iopub.status.idle": "2025-04-17T17:10:29.321171Z",
     "shell.execute_reply": "2025-04-17T17:10:29.320268Z",
     "shell.execute_reply.started": "2025-04-17T17:10:29.303976Z"
    },
    "trusted": true
   },
   "outputs": [
    {
     "data": {
      "text/plain": [
       "0.2958039866362248"
      ]
     },
     "execution_count": 121,
     "metadata": {},
     "output_type": "execute_result"
    }
   ],
   "source": [
    "# Sqrt(MSE)\n",
    "\n",
    "def calc_sqrt_mse(input, target):\n",
    "    metric = MeanSquaredError(device=device)\n",
    "    metric.update(input, target)\n",
    "    return math.sqrt(metric.compute())\n",
    "\n",
    "\n",
    "calc_sqrt_mse(torch.tensor([0.9, 0.5, 0.3, 0.5]), torch.tensor([0.5, 0.8, 0.2, 0.8]))"
   ]
  },
  {
   "cell_type": "markdown",
   "metadata": {
    "id": "vqxnN1ceaH8M"
   },
   "source": [
    "# Функции обучения"
   ]
  },
  {
   "cell_type": "markdown",
   "metadata": {
    "id": "4trrf3FkaONz"
   },
   "source": [
    "## Train"
   ]
  },
  {
   "cell_type": "code",
   "execution_count": 122,
   "metadata": {
    "execution": {
     "iopub.execute_input": "2025-04-17T17:10:29.322598Z",
     "iopub.status.busy": "2025-04-17T17:10:29.322260Z",
     "iopub.status.idle": "2025-04-17T17:10:29.336553Z",
     "shell.execute_reply": "2025-04-17T17:10:29.335814Z",
     "shell.execute_reply.started": "2025-04-17T17:10:29.322568Z"
    },
    "id": "Vzg03DkcaVRk",
    "trusted": true
   },
   "outputs": [],
   "source": [
    "def train_epoch(model, loader, optimizer, criterion, val_l, metric_func=None, need_to_reshape=False):\n",
    "    epoch_loss = 0\n",
    "    epoch_metric = 0\n",
    "    total_samples = 0\n",
    "\n",
    "    preds = None\n",
    "\n",
    "    val_losses, val_metrics = [], []\n",
    "\n",
    "    model.train()\n",
    "    for input_data, true_answers in tqdm(loader, desc='Train'):\n",
    "\n",
    "        input_data = input_data.to(device)\n",
    "        true_answers = true_answers.to(device)\n",
    "\n",
    "        optimizer.zero_grad()\n",
    "\n",
    "        \n",
    "        predicted_answers = model(input_data)\n",
    "        if need_to_reshape:\n",
    "            true_answers = true_answers.reshape(predicted_answers.shape)\n",
    "            if preds is None:\n",
    "                print(\"Train (0,1)\")\n",
    "                print(\"Preds\\tTrue\")\n",
    "                for i in range(10):\n",
    "                    print(predicted_answers[i].detach().cpu(), true_answers[i])\n",
    "                print()\n",
    "                print(\"Train unscaled\")\n",
    "                print(\"Preds\\tTrue\")\n",
    "                preds = sc.inverse_transform(predicted_answers.detach().cpu())\n",
    "                trues = sc.inverse_transform(true_answers.cpu())\n",
    "                for i in range(10):\n",
    "                    print(preds[i], trues[i])\n",
    "                print()\n",
    "        \n",
    "        loss = criterion(predicted_answers, true_answers)\n",
    "        loss.backward()\n",
    "        optimizer.step()\n",
    "\n",
    "        epoch_loss += loss.item() * input_data.size(0)\n",
    "        if metric_func:\n",
    "            metric = metric_func(predicted_answers, true_answers)\n",
    "            epoch_metric += metric * input_data.size(0)\n",
    "        total_samples += input_data.size(0)\n",
    "\n",
    "    return epoch_loss / total_samples, epoch_metric / total_samples"
   ]
  },
  {
   "cell_type": "markdown",
   "metadata": {
    "id": "2IUlY2RvaRKV"
   },
   "source": [
    "## Валидация"
   ]
  },
  {
   "cell_type": "code",
   "execution_count": 123,
   "metadata": {
    "execution": {
     "iopub.execute_input": "2025-04-17T17:10:29.337655Z",
     "iopub.status.busy": "2025-04-17T17:10:29.337351Z",
     "iopub.status.idle": "2025-04-17T17:10:29.359359Z",
     "shell.execute_reply": "2025-04-17T17:10:29.358542Z",
     "shell.execute_reply.started": "2025-04-17T17:10:29.337579Z"
    },
    "id": "jPI4moxyaVr7",
    "trusted": true
   },
   "outputs": [],
   "source": [
    "def evaluate_epoch(model, loader, criterion, metric_func=None, need_to_reshape=False):\n",
    "    epoch_loss = 0\n",
    "    epoch_metric = 0\n",
    "    total_samples = 0\n",
    "\n",
    "    preds = None\n",
    "\n",
    "    model.eval()\n",
    "    with torch.no_grad():\n",
    "        for input_data, true_answers in loader:\n",
    "\n",
    "            input_data = input_data.to(device)\n",
    "            true_answers = true_answers.to(device)\n",
    "\n",
    "\n",
    "            predicted_answers = model(input_data)\n",
    "            if need_to_reshape:\n",
    "                true_answers = true_answers.reshape(predicted_answers.shape)\n",
    "                if preds is None:\n",
    "                    preds = sc.inverse_transform(predicted_answers.cpu())\n",
    "                    trues = sc.inverse_transform(true_answers.cpu())\n",
    "                    print(\"Val unscaled\")\n",
    "                    print(\"Preds\\tTrue\")\n",
    "                    for i in range(10):\n",
    "                        print(preds[i], trues[i])\n",
    "                    print()\n",
    "            \n",
    "\n",
    "            loss = criterion(predicted_answers, true_answers)\n",
    "\n",
    "            epoch_loss += loss.item() * input_data.size(0)\n",
    "            if metric_func:\n",
    "                metric = metric_func(predicted_answers, true_answers)\n",
    "                epoch_metric += metric * input_data.size(0)\n",
    "            total_samples += input_data.size(0)\n",
    "\n",
    "    return epoch_loss / total_samples, epoch_metric / total_samples"
   ]
  },
  {
   "cell_type": "markdown",
   "metadata": {
    "id": "J6jZt5vFaTqb"
   },
   "source": [
    "## Время"
   ]
  },
  {
   "cell_type": "code",
   "execution_count": 124,
   "metadata": {
    "execution": {
     "iopub.execute_input": "2025-04-17T17:10:29.360474Z",
     "iopub.status.busy": "2025-04-17T17:10:29.360245Z",
     "iopub.status.idle": "2025-04-17T17:10:29.376552Z",
     "shell.execute_reply": "2025-04-17T17:10:29.375706Z",
     "shell.execute_reply.started": "2025-04-17T17:10:29.360453Z"
    },
    "id": "UDcL8hlLaU30",
    "trusted": true
   },
   "outputs": [],
   "source": [
    "def epoch_time(start_time, end_time):\n",
    "    elapsed_time = end_time - start_time\n",
    "    elapsed_mins = int(elapsed_time / 60)\n",
    "    elapsed_secs = int(elapsed_time - (elapsed_mins * 60))\n",
    "    return elapsed_mins, elapsed_secs"
   ]
  },
  {
   "cell_type": "markdown",
   "metadata": {
    "id": "GaZMDIA6c1_A"
   },
   "source": [
    "# Настройки обучения"
   ]
  },
  {
   "cell_type": "markdown",
   "metadata": {
    "id": "N-_xZJpbdbtT"
   },
   "source": [
    "## Параметры предобучения"
   ]
  },
  {
   "cell_type": "code",
   "execution_count": 125,
   "metadata": {
    "execution": {
     "iopub.execute_input": "2025-04-17T17:10:29.377776Z",
     "iopub.status.busy": "2025-04-17T17:10:29.377443Z",
     "iopub.status.idle": "2025-04-17T17:10:30.523969Z",
     "shell.execute_reply": "2025-04-17T17:10:30.523208Z",
     "shell.execute_reply.started": "2025-04-17T17:10:29.377745Z"
    },
    "trusted": true
   },
   "outputs": [
    {
     "name": "stderr",
     "output_type": "stream",
     "text": [
      "Using cache found in /root/.cache/torch/hub/pytorch_vision_main\n"
     ]
    },
    {
     "data": {
      "text/plain": [
       "ResNet(\n",
       "  (conv1): Conv2d(3, 64, kernel_size=(7, 7), stride=(2, 2), padding=(3, 3), bias=False)\n",
       "  (bn1): BatchNorm2d(64, eps=1e-05, momentum=0.1, affine=True, track_running_stats=True)\n",
       "  (relu): ReLU(inplace=True)\n",
       "  (maxpool): MaxPool2d(kernel_size=3, stride=2, padding=1, dilation=1, ceil_mode=False)\n",
       "  (layer1): Sequential(\n",
       "    (0): Bottleneck(\n",
       "      (conv1): Conv2d(64, 64, kernel_size=(1, 1), stride=(1, 1), bias=False)\n",
       "      (bn1): BatchNorm2d(64, eps=1e-05, momentum=0.1, affine=True, track_running_stats=True)\n",
       "      (conv2): Conv2d(64, 64, kernel_size=(3, 3), stride=(1, 1), padding=(1, 1), bias=False)\n",
       "      (bn2): BatchNorm2d(64, eps=1e-05, momentum=0.1, affine=True, track_running_stats=True)\n",
       "      (conv3): Conv2d(64, 256, kernel_size=(1, 1), stride=(1, 1), bias=False)\n",
       "      (bn3): BatchNorm2d(256, eps=1e-05, momentum=0.1, affine=True, track_running_stats=True)\n",
       "      (relu): ReLU(inplace=True)\n",
       "      (downsample): Sequential(\n",
       "        (0): Conv2d(64, 256, kernel_size=(1, 1), stride=(1, 1), bias=False)\n",
       "        (1): BatchNorm2d(256, eps=1e-05, momentum=0.1, affine=True, track_running_stats=True)\n",
       "      )\n",
       "    )\n",
       "    (1): Bottleneck(\n",
       "      (conv1): Conv2d(256, 64, kernel_size=(1, 1), stride=(1, 1), bias=False)\n",
       "      (bn1): BatchNorm2d(64, eps=1e-05, momentum=0.1, affine=True, track_running_stats=True)\n",
       "      (conv2): Conv2d(64, 64, kernel_size=(3, 3), stride=(1, 1), padding=(1, 1), bias=False)\n",
       "      (bn2): BatchNorm2d(64, eps=1e-05, momentum=0.1, affine=True, track_running_stats=True)\n",
       "      (conv3): Conv2d(64, 256, kernel_size=(1, 1), stride=(1, 1), bias=False)\n",
       "      (bn3): BatchNorm2d(256, eps=1e-05, momentum=0.1, affine=True, track_running_stats=True)\n",
       "      (relu): ReLU(inplace=True)\n",
       "    )\n",
       "    (2): Bottleneck(\n",
       "      (conv1): Conv2d(256, 64, kernel_size=(1, 1), stride=(1, 1), bias=False)\n",
       "      (bn1): BatchNorm2d(64, eps=1e-05, momentum=0.1, affine=True, track_running_stats=True)\n",
       "      (conv2): Conv2d(64, 64, kernel_size=(3, 3), stride=(1, 1), padding=(1, 1), bias=False)\n",
       "      (bn2): BatchNorm2d(64, eps=1e-05, momentum=0.1, affine=True, track_running_stats=True)\n",
       "      (conv3): Conv2d(64, 256, kernel_size=(1, 1), stride=(1, 1), bias=False)\n",
       "      (bn3): BatchNorm2d(256, eps=1e-05, momentum=0.1, affine=True, track_running_stats=True)\n",
       "      (relu): ReLU(inplace=True)\n",
       "    )\n",
       "  )\n",
       "  (layer2): Sequential(\n",
       "    (0): Bottleneck(\n",
       "      (conv1): Conv2d(256, 128, kernel_size=(1, 1), stride=(1, 1), bias=False)\n",
       "      (bn1): BatchNorm2d(128, eps=1e-05, momentum=0.1, affine=True, track_running_stats=True)\n",
       "      (conv2): Conv2d(128, 128, kernel_size=(3, 3), stride=(2, 2), padding=(1, 1), bias=False)\n",
       "      (bn2): BatchNorm2d(128, eps=1e-05, momentum=0.1, affine=True, track_running_stats=True)\n",
       "      (conv3): Conv2d(128, 512, kernel_size=(1, 1), stride=(1, 1), bias=False)\n",
       "      (bn3): BatchNorm2d(512, eps=1e-05, momentum=0.1, affine=True, track_running_stats=True)\n",
       "      (relu): ReLU(inplace=True)\n",
       "      (downsample): Sequential(\n",
       "        (0): Conv2d(256, 512, kernel_size=(1, 1), stride=(2, 2), bias=False)\n",
       "        (1): BatchNorm2d(512, eps=1e-05, momentum=0.1, affine=True, track_running_stats=True)\n",
       "      )\n",
       "    )\n",
       "    (1): Bottleneck(\n",
       "      (conv1): Conv2d(512, 128, kernel_size=(1, 1), stride=(1, 1), bias=False)\n",
       "      (bn1): BatchNorm2d(128, eps=1e-05, momentum=0.1, affine=True, track_running_stats=True)\n",
       "      (conv2): Conv2d(128, 128, kernel_size=(3, 3), stride=(1, 1), padding=(1, 1), bias=False)\n",
       "      (bn2): BatchNorm2d(128, eps=1e-05, momentum=0.1, affine=True, track_running_stats=True)\n",
       "      (conv3): Conv2d(128, 512, kernel_size=(1, 1), stride=(1, 1), bias=False)\n",
       "      (bn3): BatchNorm2d(512, eps=1e-05, momentum=0.1, affine=True, track_running_stats=True)\n",
       "      (relu): ReLU(inplace=True)\n",
       "    )\n",
       "    (2): Bottleneck(\n",
       "      (conv1): Conv2d(512, 128, kernel_size=(1, 1), stride=(1, 1), bias=False)\n",
       "      (bn1): BatchNorm2d(128, eps=1e-05, momentum=0.1, affine=True, track_running_stats=True)\n",
       "      (conv2): Conv2d(128, 128, kernel_size=(3, 3), stride=(1, 1), padding=(1, 1), bias=False)\n",
       "      (bn2): BatchNorm2d(128, eps=1e-05, momentum=0.1, affine=True, track_running_stats=True)\n",
       "      (conv3): Conv2d(128, 512, kernel_size=(1, 1), stride=(1, 1), bias=False)\n",
       "      (bn3): BatchNorm2d(512, eps=1e-05, momentum=0.1, affine=True, track_running_stats=True)\n",
       "      (relu): ReLU(inplace=True)\n",
       "    )\n",
       "    (3): Bottleneck(\n",
       "      (conv1): Conv2d(512, 128, kernel_size=(1, 1), stride=(1, 1), bias=False)\n",
       "      (bn1): BatchNorm2d(128, eps=1e-05, momentum=0.1, affine=True, track_running_stats=True)\n",
       "      (conv2): Conv2d(128, 128, kernel_size=(3, 3), stride=(1, 1), padding=(1, 1), bias=False)\n",
       "      (bn2): BatchNorm2d(128, eps=1e-05, momentum=0.1, affine=True, track_running_stats=True)\n",
       "      (conv3): Conv2d(128, 512, kernel_size=(1, 1), stride=(1, 1), bias=False)\n",
       "      (bn3): BatchNorm2d(512, eps=1e-05, momentum=0.1, affine=True, track_running_stats=True)\n",
       "      (relu): ReLU(inplace=True)\n",
       "    )\n",
       "  )\n",
       "  (layer3): Sequential(\n",
       "    (0): Bottleneck(\n",
       "      (conv1): Conv2d(512, 256, kernel_size=(1, 1), stride=(1, 1), bias=False)\n",
       "      (bn1): BatchNorm2d(256, eps=1e-05, momentum=0.1, affine=True, track_running_stats=True)\n",
       "      (conv2): Conv2d(256, 256, kernel_size=(3, 3), stride=(2, 2), padding=(1, 1), bias=False)\n",
       "      (bn2): BatchNorm2d(256, eps=1e-05, momentum=0.1, affine=True, track_running_stats=True)\n",
       "      (conv3): Conv2d(256, 1024, kernel_size=(1, 1), stride=(1, 1), bias=False)\n",
       "      (bn3): BatchNorm2d(1024, eps=1e-05, momentum=0.1, affine=True, track_running_stats=True)\n",
       "      (relu): ReLU(inplace=True)\n",
       "      (downsample): Sequential(\n",
       "        (0): Conv2d(512, 1024, kernel_size=(1, 1), stride=(2, 2), bias=False)\n",
       "        (1): BatchNorm2d(1024, eps=1e-05, momentum=0.1, affine=True, track_running_stats=True)\n",
       "      )\n",
       "    )\n",
       "    (1): Bottleneck(\n",
       "      (conv1): Conv2d(1024, 256, kernel_size=(1, 1), stride=(1, 1), bias=False)\n",
       "      (bn1): BatchNorm2d(256, eps=1e-05, momentum=0.1, affine=True, track_running_stats=True)\n",
       "      (conv2): Conv2d(256, 256, kernel_size=(3, 3), stride=(1, 1), padding=(1, 1), bias=False)\n",
       "      (bn2): BatchNorm2d(256, eps=1e-05, momentum=0.1, affine=True, track_running_stats=True)\n",
       "      (conv3): Conv2d(256, 1024, kernel_size=(1, 1), stride=(1, 1), bias=False)\n",
       "      (bn3): BatchNorm2d(1024, eps=1e-05, momentum=0.1, affine=True, track_running_stats=True)\n",
       "      (relu): ReLU(inplace=True)\n",
       "    )\n",
       "    (2): Bottleneck(\n",
       "      (conv1): Conv2d(1024, 256, kernel_size=(1, 1), stride=(1, 1), bias=False)\n",
       "      (bn1): BatchNorm2d(256, eps=1e-05, momentum=0.1, affine=True, track_running_stats=True)\n",
       "      (conv2): Conv2d(256, 256, kernel_size=(3, 3), stride=(1, 1), padding=(1, 1), bias=False)\n",
       "      (bn2): BatchNorm2d(256, eps=1e-05, momentum=0.1, affine=True, track_running_stats=True)\n",
       "      (conv3): Conv2d(256, 1024, kernel_size=(1, 1), stride=(1, 1), bias=False)\n",
       "      (bn3): BatchNorm2d(1024, eps=1e-05, momentum=0.1, affine=True, track_running_stats=True)\n",
       "      (relu): ReLU(inplace=True)\n",
       "    )\n",
       "    (3): Bottleneck(\n",
       "      (conv1): Conv2d(1024, 256, kernel_size=(1, 1), stride=(1, 1), bias=False)\n",
       "      (bn1): BatchNorm2d(256, eps=1e-05, momentum=0.1, affine=True, track_running_stats=True)\n",
       "      (conv2): Conv2d(256, 256, kernel_size=(3, 3), stride=(1, 1), padding=(1, 1), bias=False)\n",
       "      (bn2): BatchNorm2d(256, eps=1e-05, momentum=0.1, affine=True, track_running_stats=True)\n",
       "      (conv3): Conv2d(256, 1024, kernel_size=(1, 1), stride=(1, 1), bias=False)\n",
       "      (bn3): BatchNorm2d(1024, eps=1e-05, momentum=0.1, affine=True, track_running_stats=True)\n",
       "      (relu): ReLU(inplace=True)\n",
       "    )\n",
       "    (4): Bottleneck(\n",
       "      (conv1): Conv2d(1024, 256, kernel_size=(1, 1), stride=(1, 1), bias=False)\n",
       "      (bn1): BatchNorm2d(256, eps=1e-05, momentum=0.1, affine=True, track_running_stats=True)\n",
       "      (conv2): Conv2d(256, 256, kernel_size=(3, 3), stride=(1, 1), padding=(1, 1), bias=False)\n",
       "      (bn2): BatchNorm2d(256, eps=1e-05, momentum=0.1, affine=True, track_running_stats=True)\n",
       "      (conv3): Conv2d(256, 1024, kernel_size=(1, 1), stride=(1, 1), bias=False)\n",
       "      (bn3): BatchNorm2d(1024, eps=1e-05, momentum=0.1, affine=True, track_running_stats=True)\n",
       "      (relu): ReLU(inplace=True)\n",
       "    )\n",
       "    (5): Bottleneck(\n",
       "      (conv1): Conv2d(1024, 256, kernel_size=(1, 1), stride=(1, 1), bias=False)\n",
       "      (bn1): BatchNorm2d(256, eps=1e-05, momentum=0.1, affine=True, track_running_stats=True)\n",
       "      (conv2): Conv2d(256, 256, kernel_size=(3, 3), stride=(1, 1), padding=(1, 1), bias=False)\n",
       "      (bn2): BatchNorm2d(256, eps=1e-05, momentum=0.1, affine=True, track_running_stats=True)\n",
       "      (conv3): Conv2d(256, 1024, kernel_size=(1, 1), stride=(1, 1), bias=False)\n",
       "      (bn3): BatchNorm2d(1024, eps=1e-05, momentum=0.1, affine=True, track_running_stats=True)\n",
       "      (relu): ReLU(inplace=True)\n",
       "    )\n",
       "  )\n",
       "  (layer4): Sequential(\n",
       "    (0): Bottleneck(\n",
       "      (conv1): Conv2d(1024, 512, kernel_size=(1, 1), stride=(1, 1), bias=False)\n",
       "      (bn1): BatchNorm2d(512, eps=1e-05, momentum=0.1, affine=True, track_running_stats=True)\n",
       "      (conv2): Conv2d(512, 512, kernel_size=(3, 3), stride=(2, 2), padding=(1, 1), bias=False)\n",
       "      (bn2): BatchNorm2d(512, eps=1e-05, momentum=0.1, affine=True, track_running_stats=True)\n",
       "      (conv3): Conv2d(512, 2048, kernel_size=(1, 1), stride=(1, 1), bias=False)\n",
       "      (bn3): BatchNorm2d(2048, eps=1e-05, momentum=0.1, affine=True, track_running_stats=True)\n",
       "      (relu): ReLU(inplace=True)\n",
       "      (downsample): Sequential(\n",
       "        (0): Conv2d(1024, 2048, kernel_size=(1, 1), stride=(2, 2), bias=False)\n",
       "        (1): BatchNorm2d(2048, eps=1e-05, momentum=0.1, affine=True, track_running_stats=True)\n",
       "      )\n",
       "    )\n",
       "    (1): Bottleneck(\n",
       "      (conv1): Conv2d(2048, 512, kernel_size=(1, 1), stride=(1, 1), bias=False)\n",
       "      (bn1): BatchNorm2d(512, eps=1e-05, momentum=0.1, affine=True, track_running_stats=True)\n",
       "      (conv2): Conv2d(512, 512, kernel_size=(3, 3), stride=(1, 1), padding=(1, 1), bias=False)\n",
       "      (bn2): BatchNorm2d(512, eps=1e-05, momentum=0.1, affine=True, track_running_stats=True)\n",
       "      (conv3): Conv2d(512, 2048, kernel_size=(1, 1), stride=(1, 1), bias=False)\n",
       "      (bn3): BatchNorm2d(2048, eps=1e-05, momentum=0.1, affine=True, track_running_stats=True)\n",
       "      (relu): ReLU(inplace=True)\n",
       "    )\n",
       "    (2): Bottleneck(\n",
       "      (conv1): Conv2d(2048, 512, kernel_size=(1, 1), stride=(1, 1), bias=False)\n",
       "      (bn1): BatchNorm2d(512, eps=1e-05, momentum=0.1, affine=True, track_running_stats=True)\n",
       "      (conv2): Conv2d(512, 512, kernel_size=(3, 3), stride=(1, 1), padding=(1, 1), bias=False)\n",
       "      (bn2): BatchNorm2d(512, eps=1e-05, momentum=0.1, affine=True, track_running_stats=True)\n",
       "      (conv3): Conv2d(512, 2048, kernel_size=(1, 1), stride=(1, 1), bias=False)\n",
       "      (bn3): BatchNorm2d(2048, eps=1e-05, momentum=0.1, affine=True, track_running_stats=True)\n",
       "      (relu): ReLU(inplace=True)\n",
       "    )\n",
       "  )\n",
       "  (avgpool): AdaptiveAvgPool2d(output_size=(1, 1))\n",
       "  (fc): Linear(in_features=2048, out_features=1000, bias=True)\n",
       ")"
      ]
     },
     "execution_count": 125,
     "metadata": {},
     "output_type": "execute_result"
    }
   ],
   "source": [
    "model = torch.hub.load(\"pytorch/vision\", \"resnet50\", weights=\"ResNet50_Weights.IMAGENET1K_V1\")\n",
    "model"
   ]
  },
  {
   "cell_type": "code",
   "execution_count": 126,
   "metadata": {
    "execution": {
     "iopub.execute_input": "2025-04-17T17:10:30.525009Z",
     "iopub.status.busy": "2025-04-17T17:10:30.524745Z",
     "iopub.status.idle": "2025-04-17T17:10:31.157374Z",
     "shell.execute_reply": "2025-04-17T17:10:31.156706Z",
     "shell.execute_reply.started": "2025-04-17T17:10:30.524976Z"
    },
    "id": "ZKEwfWdJdY2w",
    "trusted": true
   },
   "outputs": [
    {
     "name": "stderr",
     "output_type": "stream",
     "text": [
      "Using cache found in /root/.cache/torch/hub/pytorch_vision_main\n"
     ]
    }
   ],
   "source": [
    "batch_size = 32\n",
    "val_size = 0.2\n",
    "\n",
    "\n",
    "model = torch.hub.load(\"pytorch/vision\", \"resnet50\", weights=\"ResNet50_Weights.IMAGENET1K_V1\")\n",
    "model.fc = nn.Linear(in_features=2048, out_features=3, bias=True)\n",
    "# model.load_state_dict(torch.load('/kaggle/working/model.pt'))\n",
    "model = torch.nn.DataParallel(model, device_ids = [0]).to(device)\n",
    "\n",
    "\n",
    "\n",
    "my_list = ['fc.weight', 'fc.bias']\n",
    "my_params = list(map(lambda x: x[1],list(filter(lambda kv: kv[0] in my_list, model.named_parameters()))))\n",
    "base_params = list(map(lambda x: x[1],list(filter(lambda kv: kv[0] not in my_list, model.named_parameters()))))\n",
    "\n",
    "optimizer = optim.Adam([{'params': base_params}, {'params': my_params, 'lr': '1e-3'}], lr=1e-4)\n",
    "# model.load_state_dict(torch.load('/kaggle/working/model.pt'))\n",
    "\n",
    "criterion = nn.CrossEntropyLoss()\n",
    "\n",
    "N_EPOCHS = 20"
   ]
  },
  {
   "cell_type": "markdown",
   "metadata": {
    "id": "8nPR4D7vdFnz"
   },
   "source": [
    "## Загрузчики данных предобучения"
   ]
  },
  {
   "cell_type": "code",
   "execution_count": 127,
   "metadata": {
    "execution": {
     "iopub.execute_input": "2025-04-17T17:10:31.158542Z",
     "iopub.status.busy": "2025-04-17T17:10:31.158196Z",
     "iopub.status.idle": "2025-04-17T17:10:31.189303Z",
     "shell.execute_reply": "2025-04-17T17:10:31.188692Z",
     "shell.execute_reply.started": "2025-04-17T17:10:31.158484Z"
    },
    "id": "Z-if05JWQkxy",
    "trusted": true
   },
   "outputs": [],
   "source": [
    "img_dir = '/kaggle/working/pretrain/images'\n",
    "answers_path = '/kaggle/working/pretrain/path_to_label_id.csv'\n",
    "\n",
    "img_paths = listdir_fullpath(img_dir)\n",
    "\n",
    "train_img_paths, val_img_paths = train_test_split(img_paths, test_size=val_size, random_state=42)\n",
    "\n",
    "train_dataset = Metal_Dataset(\n",
    "    img_paths=train_img_paths,\n",
    "    answers_file=answers_path,\n",
    "    answer_column='id',\n",
    "    train=True\n",
    ")\n",
    "val_dataset = Metal_Dataset(\n",
    "    img_paths=val_img_paths,\n",
    "    answers_file=answers_path,\n",
    "    answer_column='id',\n",
    "    train=False\n",
    ")\n",
    "\n",
    "\n",
    "cutmix = v2.CutMix(num_classes=3)\n",
    "mixup = v2.MixUp(num_classes=3)\n",
    "cutmix_or_mixup = v2.RandomChoice([cutmix, mixup])\n",
    "def collate_fn(batch):\n",
    "    return cutmix_or_mixup(*default_collate(batch))\n",
    "\n",
    "\n",
    "train_loader = torch.utils.data.DataLoader(\n",
    "    train_dataset, batch_size=batch_size, shuffle=True, pin_memory=True, num_workers=4, collate_fn=collate_fn\n",
    ")\n",
    "val_loader = torch.utils.data.DataLoader(\n",
    "    val_dataset, batch_size=batch_size, shuffle=False, pin_memory=True, num_workers=4\n",
    ")"
   ]
  },
  {
   "cell_type": "markdown",
   "metadata": {
    "id": "ud6VhnwzkigX"
   },
   "source": [
    "# Предобучение"
   ]
  },
  {
   "cell_type": "code",
   "execution_count": 128,
   "metadata": {
    "execution": {
     "iopub.execute_input": "2025-04-17T17:10:31.190258Z",
     "iopub.status.busy": "2025-04-17T17:10:31.190060Z",
     "iopub.status.idle": "2025-04-17T17:11:16.823171Z",
     "shell.execute_reply": "2025-04-17T17:11:16.822196Z",
     "shell.execute_reply.started": "2025-04-17T17:10:31.190241Z"
    },
    "id": "LuIK9KeWkms1",
    "outputId": "ccd7d2aa-1031-43b5-e755-33b05b6e81ad",
    "trusted": true
   },
   "outputs": [
    {
     "name": "stdout",
     "output_type": "stream",
     "text": [
      "Epoch: 0. Default val values:\n",
      "\t Val Loss: 1.040|  Val acc: 60.00\n",
      "\n"
     ]
    },
    {
     "name": "stderr",
     "output_type": "stream",
     "text": [
      "Train: 100%|██████████| 1/1 [00:00<00:00,  2.31it/s]\n"
     ]
    },
    {
     "name": "stdout",
     "output_type": "stream",
     "text": [
      "Epoch: 01 | Epoch Time: 0m 0s\n",
      "\tTrain Loss: 1.202\n",
      "\n",
      "\tVal Loss: 1.010|  Val acc: 70.00\n",
      "\n"
     ]
    },
    {
     "name": "stderr",
     "output_type": "stream",
     "text": [
      "Train: 100%|██████████| 1/1 [00:00<00:00,  2.41it/s]\n"
     ]
    },
    {
     "name": "stdout",
     "output_type": "stream",
     "text": [
      "Epoch: 02 | Epoch Time: 0m 0s\n",
      "\tTrain Loss: 0.993\n",
      "\n",
      "\tVal Loss: 0.979|  Val acc: 60.00\n",
      "\n"
     ]
    },
    {
     "name": "stderr",
     "output_type": "stream",
     "text": [
      "Train: 100%|██████████| 1/1 [00:00<00:00,  2.45it/s]\n"
     ]
    },
    {
     "name": "stdout",
     "output_type": "stream",
     "text": [
      "Epoch: 03 | Epoch Time: 0m 0s\n",
      "\tTrain Loss: 0.908\n",
      "\n",
      "\tVal Loss: 0.937|  Val acc: 70.00\n",
      "\n"
     ]
    },
    {
     "name": "stderr",
     "output_type": "stream",
     "text": [
      "Train: 100%|██████████| 1/1 [00:00<00:00,  2.31it/s]\n"
     ]
    },
    {
     "name": "stdout",
     "output_type": "stream",
     "text": [
      "Epoch: 04 | Epoch Time: 0m 0s\n",
      "\tTrain Loss: 0.536\n",
      "\n",
      "\tVal Loss: 0.885|  Val acc: 80.00\n",
      "\n"
     ]
    },
    {
     "name": "stderr",
     "output_type": "stream",
     "text": [
      "Train: 100%|██████████| 1/1 [00:00<00:00,  2.42it/s]\n"
     ]
    },
    {
     "name": "stdout",
     "output_type": "stream",
     "text": [
      "Epoch: 05 | Epoch Time: 0m 0s\n",
      "\tTrain Loss: 0.914\n",
      "\n",
      "\tVal Loss: 0.850|  Val acc: 80.00\n",
      "\n"
     ]
    },
    {
     "name": "stderr",
     "output_type": "stream",
     "text": [
      "Train: 100%|██████████| 1/1 [00:00<00:00,  2.31it/s]\n"
     ]
    },
    {
     "name": "stdout",
     "output_type": "stream",
     "text": [
      "Epoch: 06 | Epoch Time: 0m 0s\n",
      "\tTrain Loss: 0.757\n",
      "\n",
      "\tVal Loss: 0.807|  Val acc: 80.00\n",
      "\n"
     ]
    },
    {
     "name": "stderr",
     "output_type": "stream",
     "text": [
      "Train: 100%|██████████| 1/1 [00:00<00:00,  2.39it/s]\n"
     ]
    },
    {
     "name": "stdout",
     "output_type": "stream",
     "text": [
      "Epoch: 07 | Epoch Time: 0m 0s\n",
      "\tTrain Loss: 0.627\n",
      "\n",
      "\tVal Loss: 0.759|  Val acc: 80.00\n",
      "\n"
     ]
    },
    {
     "name": "stderr",
     "output_type": "stream",
     "text": [
      "Train: 100%|██████████| 1/1 [00:00<00:00,  2.40it/s]\n"
     ]
    },
    {
     "name": "stdout",
     "output_type": "stream",
     "text": [
      "Epoch: 08 | Epoch Time: 0m 0s\n",
      "\tTrain Loss: 0.793\n",
      "\n",
      "\tVal Loss: 0.705|  Val acc: 80.00\n",
      "\n"
     ]
    },
    {
     "name": "stderr",
     "output_type": "stream",
     "text": [
      "Train: 100%|██████████| 1/1 [00:00<00:00,  2.28it/s]\n"
     ]
    },
    {
     "name": "stdout",
     "output_type": "stream",
     "text": [
      "Epoch: 09 | Epoch Time: 0m 0s\n",
      "\tTrain Loss: 0.852\n",
      "\n",
      "\tVal Loss: 0.654|  Val acc: 80.00\n",
      "\n"
     ]
    },
    {
     "name": "stderr",
     "output_type": "stream",
     "text": [
      "Train: 100%|██████████| 1/1 [00:00<00:00,  2.40it/s]\n"
     ]
    },
    {
     "name": "stdout",
     "output_type": "stream",
     "text": [
      "Epoch: 10 | Epoch Time: 0m 0s\n",
      "\tTrain Loss: 0.526\n",
      "\n",
      "\tVal Loss: 0.616|  Val acc: 80.00\n",
      "\n"
     ]
    },
    {
     "name": "stderr",
     "output_type": "stream",
     "text": [
      "Train: 100%|██████████| 1/1 [00:00<00:00,  2.26it/s]\n"
     ]
    },
    {
     "name": "stdout",
     "output_type": "stream",
     "text": [
      "Epoch: 11 | Epoch Time: 0m 0s\n",
      "\tTrain Loss: 0.479\n",
      "\n",
      "\tVal Loss: 0.574|  Val acc: 80.00\n",
      "\n"
     ]
    },
    {
     "name": "stderr",
     "output_type": "stream",
     "text": [
      "Train: 100%|██████████| 1/1 [00:00<00:00,  2.36it/s]\n"
     ]
    },
    {
     "name": "stdout",
     "output_type": "stream",
     "text": [
      "Epoch: 12 | Epoch Time: 0m 0s\n",
      "\tTrain Loss: 0.684\n",
      "\n",
      "\tVal Loss: 0.550|  Val acc: 80.00\n",
      "\n"
     ]
    },
    {
     "name": "stderr",
     "output_type": "stream",
     "text": [
      "Train: 100%|██████████| 1/1 [00:00<00:00,  2.39it/s]\n"
     ]
    },
    {
     "name": "stdout",
     "output_type": "stream",
     "text": [
      "Epoch: 13 | Epoch Time: 0m 0s\n",
      "\tTrain Loss: 0.659\n",
      "\n",
      "\tVal Loss: 0.525|  Val acc: 80.00\n",
      "\n"
     ]
    },
    {
     "name": "stderr",
     "output_type": "stream",
     "text": [
      "Train: 100%|██████████| 1/1 [00:00<00:00,  2.45it/s]\n"
     ]
    },
    {
     "name": "stdout",
     "output_type": "stream",
     "text": [
      "Epoch: 14 | Epoch Time: 0m 0s\n",
      "\tTrain Loss: 0.585\n",
      "\n",
      "\tVal Loss: 0.532|  Val acc: 80.00\n",
      "\n"
     ]
    },
    {
     "name": "stderr",
     "output_type": "stream",
     "text": [
      "Train: 100%|██████████| 1/1 [00:00<00:00,  2.44it/s]\n"
     ]
    },
    {
     "name": "stdout",
     "output_type": "stream",
     "text": [
      "Epoch: 15 | Epoch Time: 0m 0s\n",
      "\tTrain Loss: 0.239\n",
      "\n",
      "\tVal Loss: 0.525|  Val acc: 80.00\n",
      "\n"
     ]
    },
    {
     "name": "stderr",
     "output_type": "stream",
     "text": [
      "Train: 100%|██████████| 1/1 [00:00<00:00,  2.35it/s]\n"
     ]
    },
    {
     "name": "stdout",
     "output_type": "stream",
     "text": [
      "Epoch: 16 | Epoch Time: 0m 0s\n",
      "\tTrain Loss: 0.195\n",
      "\n",
      "\tVal Loss: 0.506|  Val acc: 80.00\n",
      "\n"
     ]
    },
    {
     "name": "stderr",
     "output_type": "stream",
     "text": [
      "Train: 100%|██████████| 1/1 [00:00<00:00,  2.39it/s]\n"
     ]
    },
    {
     "name": "stdout",
     "output_type": "stream",
     "text": [
      "Epoch: 17 | Epoch Time: 0m 0s\n",
      "\tTrain Loss: 0.664\n",
      "\n",
      "\tVal Loss: 0.494|  Val acc: 80.00\n",
      "\n"
     ]
    },
    {
     "name": "stderr",
     "output_type": "stream",
     "text": [
      "Train: 100%|██████████| 1/1 [00:00<00:00,  2.38it/s]\n"
     ]
    },
    {
     "name": "stdout",
     "output_type": "stream",
     "text": [
      "Epoch: 18 | Epoch Time: 0m 0s\n",
      "\tTrain Loss: 0.588\n",
      "\n",
      "\tVal Loss: 0.494|  Val acc: 80.00\n",
      "\n"
     ]
    },
    {
     "name": "stderr",
     "output_type": "stream",
     "text": [
      "Train: 100%|██████████| 1/1 [00:00<00:00,  2.32it/s]\n"
     ]
    },
    {
     "name": "stdout",
     "output_type": "stream",
     "text": [
      "Epoch: 19 | Epoch Time: 0m 0s\n",
      "\tTrain Loss: 0.696\n",
      "\n",
      "\tVal Loss: 0.499|  Val acc: 80.00\n",
      "\n"
     ]
    },
    {
     "name": "stderr",
     "output_type": "stream",
     "text": [
      "Train: 100%|██████████| 1/1 [00:00<00:00,  2.44it/s]\n"
     ]
    },
    {
     "name": "stdout",
     "output_type": "stream",
     "text": [
      "Epoch: 20 | Epoch Time: 0m 0s\n",
      "\tTrain Loss: 0.324\n",
      "\n",
      "\tVal Loss: 0.520|  Val acc: 80.00\n",
      "\n"
     ]
    },
    {
     "data": {
      "image/png": "[encoded data removed]",
      "text/plain": [
       "<Figure size 600x800 with 4 Axes>"
      ]
     },
     "metadata": {},
     "output_type": "display_data"
    }
   ],
   "source": [
    "def train(states_path='/kaggle/working/states', train_metric_func=None, val_metric_func=None, metric_name='', metric_mul=1, need_to_reshape=False):\n",
    "    best_val_loss = float(\"inf\")\n",
    "    train_losses, val_losses = [], []\n",
    "    train_metrics, val_metrics = [], []\n",
    "\n",
    "    val_loss, val_metric = evaluate_epoch(model, val_loader, criterion, val_metric_func, need_to_reshape)\n",
    "    print(f'Epoch: 0. Default val values:')\n",
    "    print(f'\\t Val Loss: {val_loss:.3f}', end='')\n",
    "    print(f'|  Val {metric_name}: {val_metric * metric_mul:.2f}\\n' if val_metric != 0 else '\\n')\n",
    "    \n",
    "    for epoch in range(N_EPOCHS):\n",
    "        \n",
    "        start_time = time()\n",
    "        train_loss, train_metric = train_epoch(model, train_loader, optimizer, criterion, val_loader, train_metric_func, need_to_reshape)\n",
    "        val_loss, val_metric = evaluate_epoch(model, val_loader, criterion, val_metric_func, need_to_reshape)\n",
    "        end_time = time()\n",
    "    \n",
    "        epoch_mins, epoch_secs = epoch_time(start_time, end_time)\n",
    "    \n",
    "        if val_loss < best_val_loss:\n",
    "            best_val_loss = val_loss\n",
    "            torch.save(model.module.state_dict(), f'{states_path}/best_model.pt')\n",
    "            torch.save(optimizer.state_dict(), f'{states_path}/best_optimizer.pt')\n",
    "        torch.save(model.module.state_dict(), f'{states_path}/last_model.pt')\n",
    "        torch.save(optimizer.state_dict(), f'{states_path}/last_optimizer.pt')\n",
    "    \n",
    "    \n",
    "        # clear_output()\n",
    "        print(f'Epoch: {epoch + 1:02} | Epoch Time: {epoch_mins}m {epoch_secs}s')\n",
    "        print(f'\\tTrain Loss: {train_loss:.3f}', end='')\n",
    "        print(f'| Train {metric_name}: {train_metric * metric_mul:.2f}\\n' if train_metric != 0 else '\\n')\n",
    "        print(f'\\tVal Loss: {val_loss:.3f}', end='')\n",
    "        print(f'|  Val {metric_name}: {val_metric * metric_mul:.2f}\\n' if val_metric != 0 else '\\n')\n",
    "    \n",
    "        train_losses.append(train_loss)\n",
    "        val_losses.append(val_loss)\n",
    "        train_metrics.append(train_metric)\n",
    "        val_metrics.append(val_metric)\n",
    "    \n",
    "    fig, ax = plt.subplots(2,2, figsize=(6,8))\n",
    "    ax[0,0].plot(range(1, len(train_losses) + 1), train_losses)\n",
    "    ax[0,0].set_title(f'Train loss')\n",
    "    ax[0,1].plot(range(1, len(train_metrics) + 1), train_metrics)\n",
    "    ax[0,1].set_title(f'Train {metric_name}')\n",
    "    \n",
    "    ax[1,0].plot(range(1, len(val_losses) + 1), val_losses)\n",
    "    ax[1,0].set_title(f'Val loss')\n",
    "    ax[1,1].plot(range(1, len(val_metrics) + 1), val_metrics)\n",
    "    ax[1,1].set_title(f'Val {metric_name}')\n",
    "\n",
    "\n",
    "train('/kaggle/working/pretrain_states', None, calc_acc, 'acc', 100)"
   ]
  },
  {
   "cell_type": "markdown",
   "metadata": {},
   "source": [
    "## Параметры дообучения"
   ]
  },
  {
   "cell_type": "code",
   "execution_count": 129,
   "metadata": {
    "execution": {
     "iopub.execute_input": "2025-04-17T17:11:16.826714Z",
     "iopub.status.busy": "2025-04-17T17:11:16.826458Z",
     "iopub.status.idle": "2025-04-17T17:11:18.112825Z",
     "shell.execute_reply": "2025-04-17T17:11:18.111883Z",
     "shell.execute_reply.started": "2025-04-17T17:11:16.826689Z"
    },
    "trusted": true
   },
   "outputs": [
    {
     "name": "stderr",
     "output_type": "stream",
     "text": [
      "Using cache found in /root/.cache/torch/hub/pytorch_vision_main\n"
     ]
    }
   ],
   "source": [
    "batch_size = 24\n",
    "val_size = 0.2\n",
    "\n",
    "\n",
    "model = torch.hub.load(\"pytorch/vision\", \"resnet50\", weights=None)\n",
    "model.fc = nn.Linear(in_features=2048, out_features=3, bias=True)\n",
    "# model.load_state_dict(torch.load('/kaggle/working/pretrain_states/best_model.pt'))\n",
    "model.fc = nn.Linear(in_features=2048, out_features=1, bias=True)\n",
    "model = torch.nn.DataParallel(model, device_ids = [0]).to(device)\n",
    "\n",
    "\n",
    "\n",
    "my_list = ['fc.weight', 'fc.bias']\n",
    "my_params = list(map(lambda x: x[1],list(filter(lambda kv: kv[0] in my_list, model.named_parameters()))))\n",
    "base_params = list(map(lambda x: x[1],list(filter(lambda kv: kv[0] not in my_list, model.named_parameters()))))\n",
    "\n",
    "optimizer = optim.Adam([{'params': base_params}, {'params': my_params, 'lr': '1e-3'}], lr=1e-3)\n",
    "# model.load_state_dict(torch.load('/kaggle/working/model.pt'))\n",
    "\n",
    "criterion = nn.MSELoss()\n",
    "\n",
    "N_EPOCHS = 100"
   ]
  },
  {
   "cell_type": "markdown",
   "metadata": {},
   "source": [
    "## Загрузчики данных дообучения"
   ]
  },
  {
   "cell_type": "code",
   "execution_count": 130,
   "metadata": {
    "execution": {
     "iopub.execute_input": "2025-04-17T17:11:18.114134Z",
     "iopub.status.busy": "2025-04-17T17:11:18.113889Z",
     "iopub.status.idle": "2025-04-17T17:11:18.142710Z",
     "shell.execute_reply": "2025-04-17T17:11:18.141859Z",
     "shell.execute_reply.started": "2025-04-17T17:11:18.114108Z"
    },
    "trusted": true
   },
   "outputs": [],
   "source": [
    "img_dir = '/kaggle/working/temperature/images'\n",
    "answers_path = '/kaggle/working/temperature/properties.csv'\n",
    "\n",
    "img_paths = listdir_fullpath(img_dir)\n",
    "\n",
    "train_img_paths, val_img_paths = train_test_split(img_paths, test_size=val_size, random_state=42)\n",
    "\n",
    "train_dataset = Metal_Dataset(\n",
    "    img_paths=train_img_paths,\n",
    "    answers_file=answers_path,\n",
    "    answer_column='Temperature, [C]',\n",
    "    train=True\n",
    ")\n",
    "val_dataset = Metal_Dataset(\n",
    "    img_paths=val_img_paths,\n",
    "    answers_file=answers_path,\n",
    "    answer_column='Temperature, [C]',\n",
    "    train=False\n",
    ")\n",
    "\n",
    "train_loader = torch.utils.data.DataLoader(\n",
    "    train_dataset, batch_size=batch_size, shuffle=True, pin_memory=True, num_workers=4\n",
    ")\n",
    "val_loader = torch.utils.data.DataLoader(\n",
    "    val_dataset, batch_size=batch_size, shuffle=False, pin_memory=True, num_workers=4\n",
    ")"
   ]
  },
  {
   "cell_type": "markdown",
   "metadata": {},
   "source": [
    "# Дообучение на температуру"
   ]
  },
  {
   "cell_type": "code",
   "execution_count": 131,
   "metadata": {
    "collapsed": true,
    "execution": {
     "iopub.execute_input": "2025-04-17T17:11:18.143937Z",
     "iopub.status.busy": "2025-04-17T17:11:18.143708Z",
     "iopub.status.idle": "2025-04-17T17:13:50.679933Z",
     "shell.execute_reply": "2025-04-17T17:13:50.678404Z",
     "shell.execute_reply.started": "2025-04-17T17:11:18.143917Z"
    },
    "id": "5hV1NUKFmVgG",
    "jupyter": {
     "outputs_hidden": true
    },
    "trusted": true
   },
   "outputs": [
    {
     "name": "stdout",
     "output_type": "stream",
     "text": [
      "Val unscaled\n",
      "Preds\tTrue\n",
      "[-4073.45582781] [199.99999194]\n",
      "[-3203.54651351] [23.9]\n",
      "[-3861.42154708] [600.0000074]\n",
      "[-5163.00582228] [499.99998487]\n",
      "[-3843.46210895] [350.00000706]\n",
      "[-4011.45701475] [399.99999967]\n",
      "[-3150.05929666] [499.99998487]\n",
      "[-4755.82849512] [650.]\n",
      "[-4099.43963223] [199.99999194]\n",
      "[-4653.32690372] [399.99999967]\n",
      "\n",
      "Epoch: 0. Default val values:\n",
      "\t Val Loss: 52.109|  Val sqrt(mse): 7.22\n",
      "\n"
     ]
    },
    {
     "name": "stderr",
     "output_type": "stream",
     "text": [
      "Train: 100%|██████████| 1/1 [00:00<00:00,  2.45it/s]"
     ]
    },
    {
     "name": "stdout",
     "output_type": "stream",
     "text": [
      "Train (0,1)\n",
      "Preds\tTrue\n",
      "tensor[1] [-0.765] tensor[1] cuda:0 [0.122]\n",
      "tensor[1] [-1.242] tensor[1] cuda:0 [0.920]\n",
      "tensor[1] [-0.777] tensor[1] cuda:0 [0.601]\n",
      "tensor[1] [-0.559] tensor[1] cuda:0 [0.601]\n",
      "tensor[1] [-0.717] tensor[1] cuda:0 [0.281]\n",
      "tensor[1] [-0.294] tensor[1] cuda:0 [0.201]\n",
      "tensor[1] [-0.291] tensor[1] cuda:0 [1.000]\n",
      "tensor[1] [-0.680] tensor[1] cuda:0 [0.920]\n",
      "tensor[1] [-0.391] tensor[1] cuda:0 [0.840]\n",
      "tensor[1] [-0.480] tensor[1] cuda:0 [0.760]\n",
      "\n",
      "Train unscaled\n",
      "Preds\tTrue\n",
      "[-455.10728013] [100.00000206]\n",
      "[-754.0238433] [600.0000074]\n",
      "[-462.86160998] [399.99999967]\n",
      "[-326.03911912] [399.99999967]\n",
      "[-425.06595063] [199.99999194]\n",
      "[-160.37021745] [149.99999933]\n",
      "[-157.98534343] [650.]\n",
      "[-401.96738626] [600.0000074]\n",
      "[-220.91013964] [550.00001479]\n",
      "[-276.50661497] [499.99998487]\n",
      "\n"
     ]
    },
    {
     "name": "stderr",
     "output_type": "stream",
     "text": [
      "\n"
     ]
    },
    {
     "name": "stdout",
     "output_type": "stream",
     "text": [
      "Val unscaled\n",
      "Preds\tTrue\n",
      "[1203.93630797] [199.99999194]\n",
      "[949.08013002] [23.9]\n",
      "[1013.89850261] [600.0000074]\n",
      "[1543.42741289] [499.99998487]\n",
      "[981.87612224] [350.00000706]\n",
      "[1045.21205601] [399.99999967]\n",
      "[946.67831341] [499.99998487]\n",
      "[1617.10750356] [650.]\n",
      "[1208.77785674] [199.99999194]\n",
      "[1515.49021058] [399.99999967]\n",
      "\n",
      "Epoch: 01 | Epoch Time: 0m 0s\n",
      "\tTrain Loss: 1.723| Train sqrt(mse): 1.31\n",
      "\n",
      "\tVal Loss: 1.871|  Val sqrt(mse): 1.37\n",
      "\n"
     ]
    },
    {
     "name": "stderr",
     "output_type": "stream",
     "text": [
      "Train: 100%|██████████| 1/1 [00:00<00:00,  2.27it/s]"
     ]
    },
    {
     "name": "stdout",
     "output_type": "stream",
     "text": [
      "Train (0,1)\n",
      "Preds\tTrue\n",
      "tensor[1] [-3.092] tensor[1] cuda:0 [1.000]\n",
      "tensor[1] [1.840] tensor[1] cuda:0 [0.601]\n",
      "tensor[1] [-2.668] tensor[1] cuda:0 [0.201]\n",
      "tensor[1] [-2.815] tensor[1] cuda:0 [0.122]\n",
      "tensor[1] [3.900] tensor[1] cuda:0 [0.920]\n",
      "tensor[1] [-2.443] tensor[1] cuda:0 [0.760]\n",
      "tensor[1] [-1.263] tensor[1] cuda:0 [0.840]\n",
      "tensor[1] [9.788] tensor[1] cuda:0 [0.281]\n",
      "tensor[1] [17.298] tensor[1] cuda:0 [0.920]\n",
      "tensor[1] [3.902] tensor[1] cuda:0 [0.601]\n",
      "\n",
      "Train unscaled\n",
      "Preds\tTrue\n",
      "[-1912.1507772] [650.]\n",
      "[1176.08232584] [399.99999967]\n",
      "[-1646.42178893] [149.99999933]\n",
      "[-1738.64124672] [100.00000206]\n",
      "[2465.96845548] [600.0000074]\n",
      "[-1505.68265021] [499.99998487]\n",
      "[-766.99999712] [550.00001479]\n",
      "[6152.14835691] [199.99999194]\n",
      "[10854.39654713] [600.0000074]\n",
      "[2467.2229531] [399.99999967]\n",
      "\n"
     ]
    },
    {
     "name": "stderr",
     "output_type": "stream",
     "text": [
      "\n"
     ]
    },
    {
     "name": "stdout",
     "output_type": "stream",
     "text": [
      "Val unscaled\n",
      "Preds\tTrue\n",
      "[79.56294419] [199.99999194]\n",
      "[86.60744412] [23.9]\n",
      "[60.59935471] [600.0000074]\n",
      "[59.92016792] [499.99998487]\n",
      "[64.28053237] [350.00000706]\n",
      "[57.35337569] [399.99999967]\n",
      "[89.55504799] [499.99998487]\n",
      "[60.88019484] [650.]\n",
      "[77.98136885] [199.99999194]\n",
      "[57.97073978] [399.99999967]\n",
      "\n",
      "Epoch: 02 | Epoch Time: 0m 0s\n",
      "\tTrain Loss: 42.823| Train sqrt(mse): 6.54\n",
      "\n",
      "\tVal Loss: 0.344|  Val sqrt(mse): 0.59\n",
      "\n"
     ]
    },
    {
     "name": "stderr",
     "output_type": "stream",
     "text": [
      "Train: 100%|██████████| 1/1 [00:00<00:00,  2.46it/s]"
     ]
    },
    {
     "name": "stdout",
     "output_type": "stream",
     "text": [
      "Train (0,1)\n",
      "Preds\tTrue\n",
      "tensor[1] [2.572] tensor[1] cuda:0 [0.760]\n",
      "tensor[1] [0.225] tensor[1] cuda:0 [0.601]\n",
      "tensor[1] [0.750] tensor[1] cuda:0 [0.601]\n",
      "tensor[1] [0.696] tensor[1] cuda:0 [0.122]\n",
      "tensor[1] [2.873] tensor[1] cuda:0 [1.000]\n",
      "tensor[1] [0.741] tensor[1] cuda:0 [0.920]\n",
      "tensor[1] [0.198] tensor[1] cuda:0 [0.920]\n",
      "tensor[1] [0.273] tensor[1] cuda:0 [0.281]\n",
      "tensor[1] [2.451] tensor[1] cuda:0 [0.840]\n",
      "tensor[1] [2.675] tensor[1] cuda:0 [0.201]\n",
      "\n",
      "Train unscaled\n",
      "Preds\tTrue\n",
      "[1634.28340313] [499.99998487]\n",
      "[164.73723965] [399.99999967]\n",
      "[493.2537388] [399.99999967]\n",
      "[459.91315818] [100.00000206]\n",
      "[1822.38609664] [650.]\n",
      "[487.69974315] [600.0000074]\n",
      "[147.7484642] [600.0000074]\n",
      "[195.06048218] [199.99999194]\n",
      "[1558.33524525] [550.00001479]\n",
      "[1698.42354989] [149.99999933]\n",
      "\n"
     ]
    },
    {
     "name": "stderr",
     "output_type": "stream",
     "text": [
      "\n"
     ]
    },
    {
     "name": "stdout",
     "output_type": "stream",
     "text": [
      "Val unscaled\n",
      "Preds\tTrue\n",
      "[124.02358397] [199.99999194]\n",
      "[125.77615253] [23.9]\n",
      "[122.54177956] [600.0000074]\n",
      "[129.52828193] [499.99998487]\n",
      "[120.33551173] [350.00000706]\n",
      "[118.20304116] [399.99999967]\n",
      "[125.98097494] [499.99998487]\n",
      "[111.3807214] [650.]\n",
      "[119.18619621] [199.99999194]\n",
      "[115.11904296] [399.99999967]\n",
      "\n",
      "Epoch: 03 | Epoch Time: 0m 0s\n",
      "\tTrain Loss: 1.655| Train sqrt(mse): 1.29\n",
      "\n",
      "\tVal Loss: 0.263|  Val sqrt(mse): 0.51\n",
      "\n"
     ]
    },
    {
     "name": "stderr",
     "output_type": "stream",
     "text": [
      "Train: 100%|██████████| 1/1 [00:00<00:00,  2.42it/s]"
     ]
    },
    {
     "name": "stdout",
     "output_type": "stream",
     "text": [
      "Train (0,1)\n",
      "Preds\tTrue\n",
      "tensor[1] [0.760] tensor[1] cuda:0 [0.760]\n",
      "tensor[1] [0.589] tensor[1] cuda:0 [0.281]\n",
      "tensor[1] [0.745] tensor[1] cuda:0 [0.201]\n",
      "tensor[1] [1.083] tensor[1] cuda:0 [0.840]\n",
      "tensor[1] [-0.590] tensor[1] cuda:0 [0.122]\n",
      "tensor[1] [0.247] tensor[1] cuda:0 [0.601]\n",
      "tensor[1] [0.294] tensor[1] cuda:0 [0.601]\n",
      "tensor[1] [-1.241] tensor[1] cuda:0 [0.920]\n",
      "tensor[1] [-0.039] tensor[1] cuda:0 [0.920]\n",
      "tensor[1] [0.716] tensor[1] cuda:0 [1.000]\n",
      "\n",
      "Train unscaled\n",
      "Preds\tTrue\n",
      "[499.69173433] [499.99998487]\n",
      "[392.82018763] [199.99999194]\n",
      "[490.11797988] [149.99999933]\n",
      "[701.90073414] [550.00001479]\n",
      "[-345.37613118] [100.00000206]\n",
      "[178.36910693] [399.99999967]\n",
      "[208.072611] [399.99999967]\n",
      "[-753.23769245] [600.0000074]\n",
      "[-0.48709178] [600.0000074]\n",
      "[472.39838755] [650.]\n",
      "\n"
     ]
    },
    {
     "name": "stderr",
     "output_type": "stream",
     "text": [
      "\n"
     ]
    },
    {
     "name": "stdout",
     "output_type": "stream",
     "text": [
      "Val unscaled\n",
      "Preds\tTrue\n",
      "[-148.67716587] [199.99999194]\n",
      "[-169.20767852] [23.9]\n",
      "[-170.04769858] [600.0000074]\n",
      "[-144.68285827] [499.99998487]\n",
      "[-171.20606382] [350.00000706]\n",
      "[-162.6145128] [399.99999967]\n",
      "[-170.5166611] [499.99998487]\n",
      "[-139.95526144] [650.]\n",
      "[-149.34781606] [199.99999194]\n",
      "[-146.77644299] [399.99999967]\n",
      "\n",
      "Epoch: 04 | Epoch Time: 0m 0s\n",
      "\tTrain Loss: 0.685| Train sqrt(mse): 0.83\n",
      "\n",
      "\tVal Loss: 0.829|  Val sqrt(mse): 0.91\n",
      "\n"
     ]
    },
    {
     "name": "stderr",
     "output_type": "stream",
     "text": [
      "Train: 100%|██████████| 1/1 [00:00<00:00,  2.57it/s]"
     ]
    },
    {
     "name": "stdout",
     "output_type": "stream",
     "text": [
      "Train (0,1)\n",
      "Preds\tTrue\n",
      "tensor[1] [-1.329] tensor[1] cuda:0 [1.000]\n",
      "tensor[1] [-1.507] tensor[1] cuda:0 [0.840]\n",
      "tensor[1] [0.024] tensor[1] cuda:0 [0.601]\n",
      "tensor[1] [-0.058] tensor[1] cuda:0 [0.920]\n",
      "tensor[1] [-0.453] tensor[1] cuda:0 [0.601]\n",
      "tensor[1] [0.783] tensor[1] cuda:0 [0.281]\n",
      "tensor[1] [-1.508] tensor[1] cuda:0 [0.201]\n",
      "tensor[1] [-1.118] tensor[1] cuda:0 [0.760]\n",
      "tensor[1] [1.087] tensor[1] cuda:0 [0.122]\n",
      "tensor[1] [0.491] tensor[1] cuda:0 [0.920]\n",
      "\n",
      "Train unscaled\n",
      "Preds\tTrue\n",
      "[-808.02978686] [650.]\n",
      "[-919.50975386] [550.00001479]\n",
      "[38.85088155] [399.99999967]\n",
      "[-12.17984715] [600.0000074]\n",
      "[-259.64542203] [399.99999967]\n",
      "[514.12491309] [199.99999194]\n",
      "[-920.08206989] [149.99999933]\n",
      "[-676.25887312] [499.99998487]\n",
      "[704.51481819] [100.00000206]\n",
      "[331.44407054] [600.0000074]\n",
      "\n"
     ]
    },
    {
     "name": "stderr",
     "output_type": "stream",
     "text": [
      "Train: 100%|██████████| 1/1 [00:00<00:00,  2.13it/s]\n"
     ]
    },
    {
     "name": "stdout",
     "output_type": "stream",
     "text": [
      "Val unscaled\n",
      "Preds\tTrue\n",
      "[-404.41480603] [199.99999194]\n",
      "[-361.07145786] [23.9]\n",
      "[-377.75729131] [600.0000074]\n",
      "[-449.71431367] [499.99998487]\n",
      "[-375.97805871] [350.00000706]\n",
      "[-390.91884328] [399.99999967]\n",
      "[-358.42856395] [499.99998487]\n",
      "[-452.46968544] [650.]\n",
      "[-412.77160523] [199.99999194]\n",
      "[-449.80037006] [399.99999967]\n",
      "\n",
      "Epoch: 05 | Epoch Time: 0m 0s\n",
      "\tTrain Loss: 2.115| Train sqrt(mse): 1.45\n",
      "\n",
      "\tVal Loss: 1.677|  Val sqrt(mse): 1.30\n",
      "\n"
     ]
    },
    {
     "name": "stderr",
     "output_type": "stream",
     "text": [
      "Train: 100%|██████████| 1/1 [00:00<00:00,  2.42it/s]"
     ]
    },
    {
     "name": "stdout",
     "output_type": "stream",
     "text": [
      "Train (0,1)\n",
      "Preds\tTrue\n",
      "tensor[1] [0.193] tensor[1] cuda:0 [0.840]\n",
      "tensor[1] [0.005] tensor[1] cuda:0 [1.000]\n",
      "tensor[1] [-0.326] tensor[1] cuda:0 [0.122]\n",
      "tensor[1] [-0.527] tensor[1] cuda:0 [0.281]\n",
      "tensor[1] [-0.444] tensor[1] cuda:0 [0.920]\n",
      "tensor[1] [-0.465] tensor[1] cuda:0 [0.601]\n",
      "tensor[1] [0.045] tensor[1] cuda:0 [0.760]\n",
      "tensor[1] [-0.538] tensor[1] cuda:0 [0.601]\n",
      "tensor[1] [-0.262] tensor[1] cuda:0 [0.201]\n",
      "tensor[1] [-0.261] tensor[1] cuda:0 [0.920]\n",
      "\n",
      "Train unscaled\n",
      "Preds\tTrue\n",
      "[145.01764798] [550.00001479]\n",
      "[26.83235752] [650.]\n",
      "[-180.10204025] [100.00000206]\n",
      "[-305.84221491] [199.99999194]\n",
      "[-254.1799831] [600.0000074]\n",
      "[-266.97372425] [399.99999967]\n",
      "[51.83409788] [499.99998487]\n",
      "[-312.78285288] [399.99999967]\n",
      "[-140.07637852] [149.99999933]\n",
      "[-139.39882442] [600.0000074]\n",
      "\n"
     ]
    },
    {
     "name": "stderr",
     "output_type": "stream",
     "text": [
      "\n"
     ]
    },
    {
     "name": "stdout",
     "output_type": "stream",
     "text": [
      "Val unscaled\n",
      "Preds\tTrue\n",
      "[-182.76420915] [199.99999194]\n",
      "[-171.62906866] [23.9]\n",
      "[-156.04763795] [600.0000074]\n",
      "[-281.30910996] [499.99998487]\n",
      "[-160.00337691] [350.00000706]\n",
      "[-167.86234774] [399.99999967]\n",
      "[-172.04237069] [499.99998487]\n",
      "[-299.11089623] [650.]\n",
      "[-196.73741913] [199.99999194]\n",
      "[-286.66634399] [399.99999967]\n",
      "\n",
      "Epoch: 06 | Epoch Time: 0m 0s\n",
      "\tTrain Loss: 0.868| Train sqrt(mse): 0.93\n",
      "\n",
      "\tVal Loss: 1.003|  Val sqrt(mse): 1.00\n",
      "\n"
     ]
    },
    {
     "name": "stderr",
     "output_type": "stream",
     "text": [
      "Train: 100%|██████████| 1/1 [00:00<00:00,  2.42it/s]"
     ]
    },
    {
     "name": "stdout",
     "output_type": "stream",
     "text": [
      "Train (0,1)\n",
      "Preds\tTrue\n",
      "tensor[1] [0.886] tensor[1] cuda:0 [0.840]\n",
      "tensor[1] [-0.164] tensor[1] cuda:0 [0.920]\n",
      "tensor[1] [0.807] tensor[1] cuda:0 [1.000]\n",
      "tensor[1] [0.068] tensor[1] cuda:0 [0.601]\n",
      "tensor[1] [0.028] tensor[1] cuda:0 [0.601]\n",
      "tensor[1] [0.985] tensor[1] cuda:0 [0.760]\n",
      "tensor[1] [0.145] tensor[1] cuda:0 [0.122]\n",
      "tensor[1] [0.700] tensor[1] cuda:0 [0.201]\n",
      "tensor[1] [-0.573] tensor[1] cuda:0 [0.281]\n",
      "tensor[1] [-0.622] tensor[1] cuda:0 [0.920]\n",
      "\n",
      "Train unscaled\n",
      "Preds\tTrue\n",
      "[578.8168134] [550.00001479]\n",
      "[-79.05281832] [600.0000074]\n",
      "[528.89115918] [650.]\n",
      "[66.7188651] [399.99999967]\n",
      "[41.44796587] [399.99999967]\n",
      "[640.50830887] [499.99998487]\n",
      "[114.8116694] [100.00000206]\n",
      "[461.88849933] [149.99999933]\n",
      "[-335.1075815] [199.99999194]\n",
      "[-365.61565308] [600.0000074]\n",
      "\n"
     ]
    },
    {
     "name": "stderr",
     "output_type": "stream",
     "text": [
      "\n"
     ]
    },
    {
     "name": "stdout",
     "output_type": "stream",
     "text": [
      "Val unscaled\n",
      "Preds\tTrue\n",
      "[-186.52975453] [199.99999194]\n",
      "[-197.72913876] [23.9]\n",
      "[-189.01997859] [600.0000074]\n",
      "[-198.7129842] [499.99998487]\n",
      "[-187.05141074] [350.00000706]\n",
      "[-197.03173123] [399.99999967]\n",
      "[-197.15266173] [499.99998487]\n",
      "[-232.69193454] [650.]\n",
      "[-183.90785226] [199.99999194]\n",
      "[-223.76882759] [399.99999967]\n",
      "\n",
      "Epoch: 07 | Epoch Time: 0m 0s\n",
      "\tTrain Loss: 0.524| Train sqrt(mse): 0.72\n",
      "\n",
      "\tVal Loss: 0.958|  Val sqrt(mse): 0.98\n",
      "\n"
     ]
    },
    {
     "name": "stderr",
     "output_type": "stream",
     "text": [
      "Train: 100%|██████████| 1/1 [00:00<00:00,  2.42it/s]"
     ]
    },
    {
     "name": "stdout",
     "output_type": "stream",
     "text": [
      "Train (0,1)\n",
      "Preds\tTrue\n",
      "tensor[1] [0.005] tensor[1] cuda:0 [0.840]\n",
      "tensor[1] [3.398] tensor[1] cuda:0 [0.920]\n",
      "tensor[1] [-0.482] tensor[1] cuda:0 [0.201]\n",
      "tensor[1] [0.546] tensor[1] cuda:0 [0.281]\n",
      "tensor[1] [-0.430] tensor[1] cuda:0 [0.760]\n",
      "tensor[1] [1.908] tensor[1] cuda:0 [0.122]\n",
      "tensor[1] [2.721] tensor[1] cuda:0 [0.601]\n",
      "tensor[1] [0.426] tensor[1] cuda:0 [0.601]\n",
      "tensor[1] [0.699] tensor[1] cuda:0 [0.920]\n",
      "tensor[1] [-0.472] tensor[1] cuda:0 [1.000]\n",
      "\n",
      "Train unscaled\n",
      "Preds\tTrue\n",
      "[27.33901695] [550.00001479]\n",
      "[2151.55961542] [600.0000074]\n",
      "[-278.09638171] [149.99999933]\n",
      "[365.96585531] [199.99999194]\n",
      "[-245.34188762] [499.99998487]\n",
      "[1218.59358413] [100.00000206]\n",
      "[1727.71780097] [399.99999967]\n",
      "[290.84292071] [399.99999967]\n",
      "[461.55841748] [600.0000074]\n",
      "[-271.65631501] [650.]\n",
      "\n"
     ]
    },
    {
     "name": "stderr",
     "output_type": "stream",
     "text": [
      "\n"
     ]
    },
    {
     "name": "stdout",
     "output_type": "stream",
     "text": [
      "Val unscaled\n",
      "Preds\tTrue\n",
      "[-605.47723323] [199.99999194]\n",
      "[-633.92010078] [23.9]\n",
      "[-620.77429721] [600.0000074]\n",
      "[-561.57171965] [499.99998487]\n",
      "[-621.85810016] [350.00000706]\n",
      "[-622.73866674] [399.99999967]\n",
      "[-637.58275915] [499.99998487]\n",
      "[-634.52540634] [650.]\n",
      "[-596.01293386] [199.99999194]\n",
      "[-621.11195471] [399.99999967]\n",
      "\n",
      "Epoch: 08 | Epoch Time: 0m 0s\n",
      "\tTrain Loss: 1.873| Train sqrt(mse): 1.37\n",
      "\n",
      "\tVal Loss: 2.630|  Val sqrt(mse): 1.62\n",
      "\n"
     ]
    },
    {
     "name": "stderr",
     "output_type": "stream",
     "text": [
      "Train: 100%|██████████| 1/1 [00:00<00:00,  2.45it/s]"
     ]
    },
    {
     "name": "stdout",
     "output_type": "stream",
     "text": [
      "Train (0,1)\n",
      "Preds\tTrue\n",
      "tensor[1] [0.234] tensor[1] cuda:0 [0.920]\n",
      "tensor[1] [2.915] tensor[1] cuda:0 [0.201]\n",
      "tensor[1] [-0.409] tensor[1] cuda:0 [0.601]\n",
      "tensor[1] [1.700] tensor[1] cuda:0 [0.840]\n",
      "tensor[1] [2.844] tensor[1] cuda:0 [0.760]\n",
      "tensor[1] [3.063] tensor[1] cuda:0 [1.000]\n",
      "tensor[1] [-0.680] tensor[1] cuda:0 [0.281]\n",
      "tensor[1] [1.590] tensor[1] cuda:0 [0.920]\n",
      "tensor[1] [-0.572] tensor[1] cuda:0 [0.122]\n",
      "tensor[1] [1.861] tensor[1] cuda:0 [0.601]\n",
      "\n",
      "Train unscaled\n",
      "Preds\tTrue\n",
      "[170.62717615] [600.0000074]\n",
      "[1848.72263522] [149.99999933]\n",
      "[-231.86503192] [399.99999967]\n",
      "[1087.99581375] [550.00001479]\n",
      "[1804.71147306] [499.99998487]\n",
      "[1941.65278592] [650.]\n",
      "[-402.08329742] [199.99999194]\n",
      "[1019.2416116] [600.0000074]\n",
      "[-334.28351509] [100.00000206]\n",
      "[1189.1870791] [399.99999967]\n",
      "\n"
     ]
    },
    {
     "name": "stderr",
     "output_type": "stream",
     "text": [
      "\n"
     ]
    },
    {
     "name": "stdout",
     "output_type": "stream",
     "text": [
      "Val unscaled\n",
      "Preds\tTrue\n",
      "[-317.96097692] [199.99999194]\n",
      "[-361.45908478] [23.9]\n",
      "[-285.03627331] [600.0000074]\n",
      "[-231.31014362] [499.99998487]\n",
      "[-289.76079137] [350.00000706]\n",
      "[-284.87987161] [399.99999967]\n",
      "[-382.55592385] [499.99998487]\n",
      "[-321.54183321] [650.]\n",
      "[-313.24291496] [199.99999194]\n",
      "[-304.64738952] [399.99999967]\n",
      "\n",
      "Epoch: 09 | Epoch Time: 0m 0s\n",
      "\tTrain Loss: 2.163| Train sqrt(mse): 1.47\n",
      "\n",
      "\tVal Loss: 1.300|  Val sqrt(mse): 1.14\n",
      "\n"
     ]
    },
    {
     "name": "stderr",
     "output_type": "stream",
     "text": [
      "Train: 100%|██████████| 1/1 [00:00<00:00,  2.41it/s]"
     ]
    },
    {
     "name": "stdout",
     "output_type": "stream",
     "text": [
      "Train (0,1)\n",
      "Preds\tTrue\n",
      "tensor[1] [1.268] tensor[1] cuda:0 [0.760]\n",
      "tensor[1] [1.745] tensor[1] cuda:0 [0.840]\n",
      "tensor[1] [1.424] tensor[1] cuda:0 [0.201]\n",
      "tensor[1] [1.664] tensor[1] cuda:0 [0.281]\n",
      "tensor[1] [1.140] tensor[1] cuda:0 [1.000]\n",
      "tensor[1] [1.676] tensor[1] cuda:0 [0.601]\n",
      "tensor[1] [-0.805] tensor[1] cuda:0 [0.920]\n",
      "tensor[1] [1.527] tensor[1] cuda:0 [0.601]\n",
      "tensor[1] [1.006] tensor[1] cuda:0 [0.122]\n",
      "tensor[1] [1.484] tensor[1] cuda:0 [0.920]\n",
      "\n",
      "Train unscaled\n",
      "Preds\tTrue\n",
      "[817.49021084] [499.99998487]\n",
      "[1116.3901673] [550.00001479]\n",
      "[915.65002239] [149.99999933]\n",
      "[1065.78318981] [199.99999194]\n",
      "[737.96186841] [650.]\n",
      "[1072.99610332] [399.99999967]\n",
      "[-480.42267346] [600.0000074]\n",
      "[979.97571657] [399.99999967]\n",
      "[653.76879209] [100.00000206]\n",
      "[953.214046] [600.0000074]\n",
      "\n"
     ]
    },
    {
     "name": "stderr",
     "output_type": "stream",
     "text": [
      "\n"
     ]
    },
    {
     "name": "stdout",
     "output_type": "stream",
     "text": [
      "Val unscaled\n",
      "Preds\tTrue\n",
      "[-282.98855298] [199.99999194]\n",
      "[-407.86000969] [23.9]\n",
      "[-268.86784175] [600.0000074]\n",
      "[-221.54067247] [499.99998487]\n",
      "[-299.84890625] [350.00000706]\n",
      "[-272.59004174] [399.99999967]\n",
      "[-426.86574571] [499.99998487]\n",
      "[-308.77753634] [650.]\n",
      "[-296.71184119] [199.99999194]\n",
      "[-300.97984243] [399.99999967]\n",
      "\n",
      "Epoch: 10 | Epoch Time: 0m 0s\n",
      "\tTrain Loss: 1.059| Train sqrt(mse): 1.03\n",
      "\n",
      "\tVal Loss: 1.298|  Val sqrt(mse): 1.14\n",
      "\n"
     ]
    },
    {
     "name": "stderr",
     "output_type": "stream",
     "text": [
      "Train: 100%|██████████| 1/1 [00:00<00:00,  2.42it/s]"
     ]
    },
    {
     "name": "stdout",
     "output_type": "stream",
     "text": [
      "Train (0,1)\n",
      "Preds\tTrue\n",
      "tensor[1] [-0.025] tensor[1] cuda:0 [0.840]\n",
      "tensor[1] [0.037] tensor[1] cuda:0 [0.201]\n",
      "tensor[1] [1.353] tensor[1] cuda:0 [0.920]\n",
      "tensor[1] [3.167] tensor[1] cuda:0 [0.920]\n",
      "tensor[1] [1.002] tensor[1] cuda:0 [0.601]\n",
      "tensor[1] [2.067] tensor[1] cuda:0 [0.601]\n",
      "tensor[1] [2.352] tensor[1] cuda:0 [0.281]\n",
      "tensor[1] [-0.179] tensor[1] cuda:0 [0.760]\n",
      "tensor[1] [-0.320] tensor[1] cuda:0 [1.000]\n",
      "tensor[1] [0.519] tensor[1] cuda:0 [0.122]\n",
      "\n",
      "Train unscaled\n",
      "Preds\tTrue\n",
      "[8.36559289] [550.00001479]\n",
      "[47.06960241] [149.99999933]\n",
      "[870.94391571] [600.0000074]\n",
      "[2006.9120389] [600.0000074]\n",
      "[651.52759417] [399.99999967]\n",
      "[1318.29733534] [399.99999967]\n",
      "[1496.59542236] [199.99999194]\n",
      "[-87.86613434] [499.99998487]\n",
      "[-176.57139596] [650.]\n",
      "[348.94803677] [100.00000206]\n",
      "\n"
     ]
    },
    {
     "name": "stderr",
     "output_type": "stream",
     "text": [
      "\n"
     ]
    },
    {
     "name": "stdout",
     "output_type": "stream",
     "text": [
      "Val unscaled\n",
      "Preds\tTrue\n",
      "[-649.95987692] [199.99999194]\n",
      "[-783.21479686] [23.9]\n",
      "[-685.92555054] [600.0000074]\n",
      "[-514.07736363] [499.99998487]\n",
      "[-696.22141734] [350.00000706]\n",
      "[-688.85087062] [399.99999967]\n",
      "[-767.34131182] [499.99998487]\n",
      "[-511.27497059] [650.]\n",
      "[-676.52704363] [199.99999194]\n",
      "[-562.01566015] [399.99999967]\n",
      "\n",
      "Epoch: 11 | Epoch Time: 0m 0s\n",
      "\tTrain Loss: 1.540| Train sqrt(mse): 1.24\n",
      "\n",
      "\tVal Loss: 2.802|  Val sqrt(mse): 1.67\n",
      "\n"
     ]
    },
    {
     "name": "stderr",
     "output_type": "stream",
     "text": [
      "Train: 100%|██████████| 1/1 [00:00<00:00,  2.41it/s]"
     ]
    },
    {
     "name": "stdout",
     "output_type": "stream",
     "text": [
      "Train (0,1)\n",
      "Preds\tTrue\n",
      "tensor[1] [0.745] tensor[1] cuda:0 [0.601]\n",
      "tensor[1] [0.934] tensor[1] cuda:0 [0.920]\n",
      "tensor[1] [0.218] tensor[1] cuda:0 [0.201]\n",
      "tensor[1] [1.195] tensor[1] cuda:0 [0.760]\n",
      "tensor[1] [0.241] tensor[1] cuda:0 [0.601]\n",
      "tensor[1] [0.823] tensor[1] cuda:0 [0.281]\n",
      "tensor[1] [0.817] tensor[1] cuda:0 [1.000]\n",
      "tensor[1] [0.945] tensor[1] cuda:0 [0.840]\n",
      "tensor[1] [-0.163] tensor[1] cuda:0 [0.920]\n",
      "tensor[1] [0.592] tensor[1] cuda:0 [0.122]\n",
      "\n",
      "Train unscaled\n",
      "Preds\tTrue\n",
      "[490.37745519] [399.99999967]\n",
      "[608.88128034] [600.0000074]\n",
      "[160.18300575] [149.99999933]\n",
      "[771.84808235] [499.99998487]\n",
      "[174.64759734] [399.99999967]\n",
      "[539.10514926] [199.99999194]\n",
      "[535.37046625] [650.]\n",
      "[615.55218043] [550.00001479]\n",
      "[-77.9731204] [600.0000074]\n",
      "[394.4211126] [100.00000206]\n",
      "\n"
     ]
    },
    {
     "name": "stderr",
     "output_type": "stream",
     "text": [
      "\n"
     ]
    },
    {
     "name": "stdout",
     "output_type": "stream",
     "text": [
      "Val unscaled\n",
      "Preds\tTrue\n",
      "[-647.83138077] [199.99999194]\n",
      "[-679.74225357] [23.9]\n",
      "[-682.47978711] [600.0000074]\n",
      "[-456.56572318] [499.99998487]\n",
      "[-682.06234273] [350.00000706]\n",
      "[-668.85839698] [399.99999967]\n",
      "[-683.01314266] [499.99998487]\n",
      "[-494.3265644] [650.]\n",
      "[-670.08184564] [199.99999194]\n",
      "[-478.99789167] [399.99999967]\n",
      "\n",
      "Epoch: 12 | Epoch Time: 0m 0s\n",
      "\tTrain Loss: 0.207| Train sqrt(mse): 0.46\n",
      "\n",
      "\tVal Loss: 2.607|  Val sqrt(mse): 1.61\n",
      "\n"
     ]
    },
    {
     "name": "stderr",
     "output_type": "stream",
     "text": [
      "Train: 100%|██████████| 1/1 [00:00<00:00,  2.41it/s]"
     ]
    },
    {
     "name": "stdout",
     "output_type": "stream",
     "text": [
      "Train (0,1)\n",
      "Preds\tTrue\n",
      "tensor[1] [0.462] tensor[1] cuda:0 [0.920]\n",
      "tensor[1] [0.537] tensor[1] cuda:0 [1.000]\n",
      "tensor[1] [-0.559] tensor[1] cuda:0 [0.601]\n",
      "tensor[1] [0.904] tensor[1] cuda:0 [0.840]\n",
      "tensor[1] [0.476] tensor[1] cuda:0 [0.601]\n",
      "tensor[1] [0.047] tensor[1] cuda:0 [0.122]\n",
      "tensor[1] [-0.380] tensor[1] cuda:0 [0.920]\n",
      "tensor[1] [0.749] tensor[1] cuda:0 [0.201]\n",
      "tensor[1] [-0.448] tensor[1] cuda:0 [0.281]\n",
      "tensor[1] [1.224] tensor[1] cuda:0 [0.760]\n",
      "\n",
      "Train unscaled\n",
      "Preds\tTrue\n",
      "[313.40135624] [600.0000074]\n",
      "[359.82487748] [650.]\n",
      "[-325.93320931] [399.99999967]\n",
      "[589.89472601] [550.00001479]\n",
      "[321.65317859] [399.99999967]\n",
      "[53.04674751] [100.00000206]\n",
      "[-214.01781042] [600.0000074]\n",
      "[492.62540776] [149.99999933]\n",
      "[-256.87547739] [199.99999194]\n",
      "[790.29385476] [499.99998487]\n",
      "\n"
     ]
    },
    {
     "name": "stderr",
     "output_type": "stream",
     "text": [
      "\n"
     ]
    },
    {
     "name": "stdout",
     "output_type": "stream",
     "text": [
      "Val unscaled\n",
      "Preds\tTrue\n",
      "[-227.79093744] [199.99999194]\n",
      "[-125.76816998] [23.9]\n",
      "[-242.33510133] [600.0000074]\n",
      "[-130.72245785] [499.99998487]\n",
      "[-241.90090095] [350.00000706]\n",
      "[-256.43987758] [399.99999967]\n",
      "[-105.16035212] [499.99998487]\n",
      "[-37.67743157] [650.]\n",
      "[-252.44392797] [199.99999194]\n",
      "[-84.23106365] [399.99999967]\n",
      "\n",
      "Epoch: 13 | Epoch Time: 0m 0s\n",
      "\tTrain Loss: 0.453| Train sqrt(mse): 0.67\n",
      "\n",
      "\tVal Loss: 0.860|  Val sqrt(mse): 0.93\n",
      "\n"
     ]
    },
    {
     "name": "stderr",
     "output_type": "stream",
     "text": [
      "Train: 100%|██████████| 1/1 [00:00<00:00,  2.42it/s]"
     ]
    },
    {
     "name": "stdout",
     "output_type": "stream",
     "text": [
      "Train (0,1)\n",
      "Preds\tTrue\n",
      "tensor[1] [-0.773] tensor[1] cuda:0 [0.281]\n",
      "tensor[1] [-0.904] tensor[1] cuda:0 [0.920]\n",
      "tensor[1] [0.600] tensor[1] cuda:0 [0.760]\n",
      "tensor[1] [-0.519] tensor[1] cuda:0 [0.201]\n",
      "tensor[1] [0.071] tensor[1] cuda:0 [0.601]\n",
      "tensor[1] [-0.440] tensor[1] cuda:0 [1.000]\n",
      "tensor[1] [0.953] tensor[1] cuda:0 [0.840]\n",
      "tensor[1] [0.346] tensor[1] cuda:0 [0.601]\n",
      "tensor[1] [0.647] tensor[1] cuda:0 [0.122]\n",
      "tensor[1] [1.424] tensor[1] cuda:0 [0.920]\n",
      "\n",
      "Train unscaled\n",
      "Preds\tTrue\n",
      "[-460.18654755] [199.99999194]\n",
      "[-542.03494183] [600.0000074]\n",
      "[399.35830861] [499.99998487]\n",
      "[-300.85930378] [149.99999933]\n",
      "[68.61645322] [399.99999967]\n",
      "[-251.33902142] [650.]\n",
      "[620.47631497] [550.00001479]\n",
      "[240.49284356] [399.99999967]\n",
      "[429.26801587] [100.00000206]\n",
      "[915.32050031] [600.0000074]\n",
      "\n"
     ]
    },
    {
     "name": "stderr",
     "output_type": "stream",
     "text": [
      "\n"
     ]
    },
    {
     "name": "stdout",
     "output_type": "stream",
     "text": [
      "Val unscaled\n",
      "Preds\tTrue\n",
      "[38.68850889] [199.99999194]\n",
      "[241.11664042] [23.9]\n",
      "[27.95875076] [600.0000074]\n",
      "[120.51264383] [499.99998487]\n",
      "[3.55316885] [350.00000706]\n",
      "[8.511774] [399.99999967]\n",
      "[265.11732278] [499.99998487]\n",
      "[218.06048848] [650.]\n",
      "[22.00324279] [199.99999194]\n",
      "[165.22954488] [399.99999967]\n",
      "\n",
      "Epoch: 14 | Epoch Time: 0m 0s\n",
      "\tTrain Loss: 0.794| Train sqrt(mse): 0.89\n",
      "\n",
      "\tVal Loss: 0.292|  Val sqrt(mse): 0.54\n",
      "\n"
     ]
    },
    {
     "name": "stderr",
     "output_type": "stream",
     "text": [
      "Train: 100%|██████████| 1/1 [00:00<00:00,  2.44it/s]"
     ]
    },
    {
     "name": "stdout",
     "output_type": "stream",
     "text": [
      "Train (0,1)\n",
      "Preds\tTrue\n",
      "tensor[1] [0.540] tensor[1] cuda:0 [0.601]\n",
      "tensor[1] [-0.181] tensor[1] cuda:0 [0.920]\n",
      "tensor[1] [-0.149] tensor[1] cuda:0 [0.760]\n",
      "tensor[1] [0.708] tensor[1] cuda:0 [0.281]\n",
      "tensor[1] [-0.237] tensor[1] cuda:0 [0.201]\n",
      "tensor[1] [-0.325] tensor[1] cuda:0 [1.000]\n",
      "tensor[1] [0.084] tensor[1] cuda:0 [0.840]\n",
      "tensor[1] [0.833] tensor[1] cuda:0 [0.601]\n",
      "tensor[1] [0.268] tensor[1] cuda:0 [0.920]\n",
      "tensor[1] [0.735] tensor[1] cuda:0 [0.122]\n",
      "\n",
      "Train unscaled\n",
      "Preds\tTrue\n",
      "[362.14134675] [399.99999967]\n",
      "[-89.55481368] [600.0000074]\n",
      "[-69.20652711] [499.99998487]\n",
      "[467.34628797] [199.99999194]\n",
      "[-124.30384927] [149.99999933]\n",
      "[-179.79222233] [650.]\n",
      "[76.56626187] [550.00001479]\n",
      "[545.62072988] [399.99999967]\n",
      "[191.82191088] [600.0000074]\n",
      "[484.32313084] [100.00000206]\n",
      "\n"
     ]
    },
    {
     "name": "stderr",
     "output_type": "stream",
     "text": [
      "\n"
     ]
    },
    {
     "name": "stdout",
     "output_type": "stream",
     "text": [
      "Val unscaled\n",
      "Preds\tTrue\n",
      "[440.36040805] [199.99999194]\n",
      "[643.68075184] [23.9]\n",
      "[411.8074137] [600.0000074]\n",
      "[523.92112292] [499.99998487]\n",
      "[386.36577199] [350.00000706]\n",
      "[420.21720512] [399.99999967]\n",
      "[645.5098046] [499.99998487]\n",
      "[560.10510958] [650.]\n",
      "[409.65954927] [199.99999194]\n",
      "[563.12428561] [399.99999967]\n",
      "\n",
      "Epoch: 15 | Epoch Time: 0m 0s\n",
      "\tTrain Loss: 0.560| Train sqrt(mse): 0.75\n",
      "\n",
      "\tVal Loss: 0.148|  Val sqrt(mse): 0.38\n",
      "\n"
     ]
    },
    {
     "name": "stderr",
     "output_type": "stream",
     "text": [
      "Train: 100%|██████████| 1/1 [00:00<00:00,  2.38it/s]"
     ]
    },
    {
     "name": "stdout",
     "output_type": "stream",
     "text": [
      "Train (0,1)\n",
      "Preds\tTrue\n",
      "tensor[1] [1.129] tensor[1] cuda:0 [0.601]\n",
      "tensor[1] [0.740] tensor[1] cuda:0 [0.601]\n",
      "tensor[1] [0.349] tensor[1] cuda:0 [0.281]\n",
      "tensor[1] [-0.120] tensor[1] cuda:0 [0.920]\n",
      "tensor[1] [0.470] tensor[1] cuda:0 [0.840]\n",
      "tensor[1] [0.098] tensor[1] cuda:0 [0.920]\n",
      "tensor[1] [0.688] tensor[1] cuda:0 [1.000]\n",
      "tensor[1] [-0.794] tensor[1] cuda:0 [0.122]\n",
      "tensor[1] [1.017] tensor[1] cuda:0 [0.201]\n",
      "tensor[1] [0.987] tensor[1] cuda:0 [0.760]\n",
      "\n",
      "Train unscaled\n",
      "Preds\tTrue\n",
      "[730.62796842] [399.99999967]\n",
      "[487.24546544] [399.99999967]\n",
      "[242.4241116] [199.99999194]\n",
      "[-51.33792213] [600.0000074]\n",
      "[318.23180277] [550.00001479]\n",
      "[85.24368735] [600.0000074]\n",
      "[454.71324015] [650.]\n",
      "[-472.99335015] [100.00000206]\n",
      "[660.54410925] [149.99999933]\n",
      "[641.81744073] [499.99998487]\n",
      "\n"
     ]
    },
    {
     "name": "stderr",
     "output_type": "stream",
     "text": [
      "\n"
     ]
    },
    {
     "name": "stdout",
     "output_type": "stream",
     "text": [
      "Val unscaled\n",
      "Preds\tTrue\n",
      "[768.41538038] [199.99999194]\n",
      "[963.9849769] [23.9]\n",
      "[749.49961919] [600.0000074]\n",
      "[897.09886262] [499.99998487]\n",
      "[749.35728655] [350.00000706]\n",
      "[736.22335025] [399.99999967]\n",
      "[953.60715874] [499.99998487]\n",
      "[945.59652566] [650.]\n",
      "[753.7439232] [199.99999194]\n",
      "[921.58716675] [399.99999967]\n",
      "\n",
      "Epoch: 16 | Epoch Time: 0m 0s\n",
      "\tTrain Loss: 0.385| Train sqrt(mse): 0.62\n",
      "\n",
      "\tVal Loss: 0.646|  Val sqrt(mse): 0.80\n",
      "\n"
     ]
    },
    {
     "name": "stderr",
     "output_type": "stream",
     "text": [
      "Train: 100%|██████████| 1/1 [00:00<00:00,  2.39it/s]"
     ]
    },
    {
     "name": "stdout",
     "output_type": "stream",
     "text": [
      "Train (0,1)\n",
      "Preds\tTrue\n",
      "tensor[1] [0.501] tensor[1] cuda:0 [0.601]\n",
      "tensor[1] [1.022] tensor[1] cuda:0 [0.201]\n",
      "tensor[1] [0.991] tensor[1] cuda:0 [0.760]\n",
      "tensor[1] [0.278] tensor[1] cuda:0 [0.601]\n",
      "tensor[1] [0.886] tensor[1] cuda:0 [1.000]\n",
      "tensor[1] [1.226] tensor[1] cuda:0 [0.122]\n",
      "tensor[1] [1.137] tensor[1] cuda:0 [0.840]\n",
      "tensor[1] [0.855] tensor[1] cuda:0 [0.281]\n",
      "tensor[1] [-0.096] tensor[1] cuda:0 [0.920]\n",
      "tensor[1] [0.871] tensor[1] cuda:0 [0.920]\n",
      "\n",
      "Train unscaled\n",
      "Preds\tTrue\n",
      "[337.53690755] [399.99999967]\n",
      "[663.47338508] [149.99999933]\n",
      "[644.38767558] [499.99998487]\n",
      "[197.94686044] [399.99999967]\n",
      "[578.6676888] [650.]\n",
      "[791.52625985] [100.00000206]\n",
      "[735.99234893] [550.00001479]\n",
      "[559.46289607] [199.99999194]\n",
      "[-36.47987727] [600.0000074]\n",
      "[569.01187105] [600.0000074]\n",
      "\n"
     ]
    },
    {
     "name": "stderr",
     "output_type": "stream",
     "text": [
      "\n"
     ]
    },
    {
     "name": "stdout",
     "output_type": "stream",
     "text": [
      "Val unscaled\n",
      "Preds\tTrue\n",
      "[1008.9617171] [199.99999194]\n",
      "[1161.73419586] [23.9]\n",
      "[996.16013908] [600.0000074]\n",
      "[1150.41542985] [499.99998487]\n",
      "[981.95784968] [350.00000706]\n",
      "[975.28314312] [399.99999967]\n",
      "[1201.33550929] [499.99998487]\n",
      "[1166.43915905] [650.]\n",
      "[979.87421033] [199.99999194]\n",
      "[1155.41573139] [399.99999967]\n",
      "\n",
      "Epoch: 17 | Epoch Time: 0m 0s\n",
      "\tTrain Loss: 0.353| Train sqrt(mse): 0.59\n",
      "\n",
      "\tVal Loss: 1.326|  Val sqrt(mse): 1.15\n",
      "\n"
     ]
    },
    {
     "name": "stderr",
     "output_type": "stream",
     "text": [
      "Train: 100%|██████████| 1/1 [00:00<00:00,  2.39it/s]"
     ]
    },
    {
     "name": "stdout",
     "output_type": "stream",
     "text": [
      "Train (0,1)\n",
      "Preds\tTrue\n",
      "tensor[1] [0.677] tensor[1] cuda:0 [0.840]\n",
      "tensor[1] [0.787] tensor[1] cuda:0 [0.601]\n",
      "tensor[1] [2.182] tensor[1] cuda:0 [0.920]\n",
      "tensor[1] [1.268] tensor[1] cuda:0 [0.122]\n",
      "tensor[1] [1.394] tensor[1] cuda:0 [0.601]\n",
      "tensor[1] [0.559] tensor[1] cuda:0 [0.281]\n",
      "tensor[1] [0.618] tensor[1] cuda:0 [0.760]\n",
      "tensor[1] [0.303] tensor[1] cuda:0 [0.201]\n",
      "tensor[1] [0.615] tensor[1] cuda:0 [0.920]\n",
      "tensor[1] [0.492] tensor[1] cuda:0 [1.000]\n",
      "\n",
      "Train unscaled\n",
      "Preds\tTrue\n",
      "[447.99692349] [550.00001479]\n",
      "[516.93178435] [399.99999967]\n",
      "[1389.89759314] [600.0000074]\n",
      "[817.75338068] [100.00000206]\n",
      "[896.4051123] [399.99999967]\n",
      "[373.86960831] [199.99999194]\n",
      "[411.03365258] [499.99998487]\n",
      "[213.89209023] [149.99999933]\n",
      "[408.81995837] [600.0000074]\n",
      "[331.71699915] [650.]\n",
      "\n"
     ]
    },
    {
     "name": "stderr",
     "output_type": "stream",
     "text": [
      "\n"
     ]
    },
    {
     "name": "stdout",
     "output_type": "stream",
     "text": [
      "Val unscaled\n",
      "Preds\tTrue\n",
      "[1680.89416978] [199.99999194]\n",
      "[1792.52878451] [23.9]\n",
      "[1654.46269302] [600.0000074]\n",
      "[1734.56081383] [499.99998487]\n",
      "[1641.02968652] [350.00000706]\n",
      "[1644.46895654] [399.99999967]\n",
      "[1841.68123739] [499.99998487]\n",
      "[1777.90113921] [650.]\n",
      "[1621.10878971] [199.99999194]\n",
      "[1750.68582535] [399.99999967]\n",
      "\n",
      "Epoch: 18 | Epoch Time: 0m 0s\n",
      "\tTrain Loss: 0.406| Train sqrt(mse): 0.64\n",
      "\n",
      "\tVal Loss: 4.614|  Val sqrt(mse): 2.15\n",
      "\n"
     ]
    },
    {
     "name": "stderr",
     "output_type": "stream",
     "text": [
      "Train: 100%|██████████| 1/1 [00:00<00:00,  2.39it/s]"
     ]
    },
    {
     "name": "stdout",
     "output_type": "stream",
     "text": [
      "Train (0,1)\n",
      "Preds\tTrue\n",
      "tensor[1] [0.728] tensor[1] cuda:0 [0.601]\n",
      "tensor[1] [1.142] tensor[1] cuda:0 [0.601]\n",
      "tensor[1] [1.233] tensor[1] cuda:0 [0.920]\n",
      "tensor[1] [0.586] tensor[1] cuda:0 [0.201]\n",
      "tensor[1] [0.924] tensor[1] cuda:0 [0.122]\n",
      "tensor[1] [0.645] tensor[1] cuda:0 [0.281]\n",
      "tensor[1] [1.290] tensor[1] cuda:0 [0.840]\n",
      "tensor[1] [0.927] tensor[1] cuda:0 [1.000]\n",
      "tensor[1] [0.956] tensor[1] cuda:0 [0.760]\n",
      "tensor[1] [1.522] tensor[1] cuda:0 [0.920]\n",
      "\n",
      "Train unscaled\n",
      "Preds\tTrue\n",
      "[479.80054301] [399.99999967]\n",
      "[738.66047013] [399.99999967]\n",
      "[796.1537499] [600.0000074]\n",
      "[391.01953423] [149.99999933]\n",
      "[602.34065903] [100.00000206]\n",
      "[427.94585986] [199.99999194]\n",
      "[831.85841815] [550.00001479]\n",
      "[604.54554608] [650.]\n",
      "[622.18676964] [499.99998487]\n",
      "[976.77998687] [600.0000074]\n",
      "\n"
     ]
    },
    {
     "name": "stderr",
     "output_type": "stream",
     "text": [
      "\n"
     ]
    },
    {
     "name": "stdout",
     "output_type": "stream",
     "text": [
      "Val unscaled\n",
      "Preds\tTrue\n",
      "[2137.15050707] [199.99999194]\n",
      "[2268.65451913] [23.9]\n",
      "[2081.34461915] [600.0000074]\n",
      "[2170.99761126] [499.99998487]\n",
      "[2106.57787454] [350.00000706]\n",
      "[2115.28934846] [399.99999967]\n",
      "[2316.32632446] [499.99998487]\n",
      "[2238.63972306] [650.]\n",
      "[2067.72203484] [199.99999194]\n",
      "[2203.87115126] [399.99999967]\n",
      "\n",
      "Epoch: 19 | Epoch Time: 0m 0s\n",
      "\tTrain Loss: 0.194| Train sqrt(mse): 0.44\n",
      "\n",
      "\tVal Loss: 8.258|  Val sqrt(mse): 2.87\n",
      "\n"
     ]
    },
    {
     "name": "stderr",
     "output_type": "stream",
     "text": [
      "Train: 100%|██████████| 1/1 [00:00<00:00,  2.39it/s]"
     ]
    },
    {
     "name": "stdout",
     "output_type": "stream",
     "text": [
      "Train (0,1)\n",
      "Preds\tTrue\n",
      "tensor[1] [0.308] tensor[1] cuda:0 [0.601]\n",
      "tensor[1] [1.236] tensor[1] cuda:0 [1.000]\n",
      "tensor[1] [1.166] tensor[1] cuda:0 [0.122]\n",
      "tensor[1] [1.550] tensor[1] cuda:0 [0.920]\n",
      "tensor[1] [0.974] tensor[1] cuda:0 [0.201]\n",
      "tensor[1] [2.022] tensor[1] cuda:0 [0.760]\n",
      "tensor[1] [1.668] tensor[1] cuda:0 [0.840]\n",
      "tensor[1] [-0.335] tensor[1] cuda:0 [0.920]\n",
      "tensor[1] [0.014] tensor[1] cuda:0 [0.601]\n",
      "tensor[1] [0.362] tensor[1] cuda:0 [0.281]\n",
      "\n",
      "Train unscaled\n",
      "Preds\tTrue\n",
      "[216.74001181] [399.99999967]\n",
      "[797.56961257] [650.]\n",
      "[754.18196738] [100.00000206]\n",
      "[994.50924469] [600.0000074]\n",
      "[633.74485899] [149.99999933]\n",
      "[1289.57808721] [499.99998487]\n",
      "[1068.38048055] [550.00001479]\n",
      "[-185.89489276] [600.0000074]\n",
      "[32.45033044] [399.99999967]\n",
      "[250.72123857] [199.99999194]\n",
      "\n"
     ]
    },
    {
     "name": "stderr",
     "output_type": "stream",
     "text": [
      "\n"
     ]
    },
    {
     "name": "stdout",
     "output_type": "stream",
     "text": [
      "Val unscaled\n",
      "Preds\tTrue\n",
      "[1886.38025355] [199.99999194]\n",
      "[2018.23043172] [23.9]\n",
      "[1794.14721184] [600.0000074]\n",
      "[1978.22712376] [499.99998487]\n",
      "[1863.31833591] [350.00000706]\n",
      "[1888.6247355] [399.99999967]\n",
      "[2071.1421978] [499.99998487]\n",
      "[1942.28794625] [650.]\n",
      "[1831.29282079] [199.99999194]\n",
      "[2007.3616518] [399.99999967]\n",
      "\n",
      "Epoch: 20 | Epoch Time: 0m 0s\n",
      "\tTrain Loss: 0.643| Train sqrt(mse): 0.80\n",
      "\n",
      "\tVal Loss: 6.205|  Val sqrt(mse): 2.49\n",
      "\n"
     ]
    },
    {
     "name": "stderr",
     "output_type": "stream",
     "text": [
      "Train: 100%|██████████| 1/1 [00:00<00:00,  2.41it/s]"
     ]
    },
    {
     "name": "stdout",
     "output_type": "stream",
     "text": [
      "Train (0,1)\n",
      "Preds\tTrue\n",
      "tensor[1] [0.570] tensor[1] cuda:0 [0.201]\n",
      "tensor[1] [0.368] tensor[1] cuda:0 [0.601]\n",
      "tensor[1] [1.602] tensor[1] cuda:0 [0.920]\n",
      "tensor[1] [0.956] tensor[1] cuda:0 [0.840]\n",
      "tensor[1] [0.121] tensor[1] cuda:0 [0.122]\n",
      "tensor[1] [0.497] tensor[1] cuda:0 [0.281]\n",
      "tensor[1] [1.075] tensor[1] cuda:0 [1.000]\n",
      "tensor[1] [0.089] tensor[1] cuda:0 [0.920]\n",
      "tensor[1] [1.199] tensor[1] cuda:0 [0.760]\n",
      "tensor[1] [0.324] tensor[1] cuda:0 [0.601]\n",
      "\n",
      "Train unscaled\n",
      "Preds\tTrue\n",
      "[380.61495873] [149.99999933]\n",
      "[254.19361007] [399.99999967]\n",
      "[1026.60155988] [600.0000074]\n",
      "[622.74266554] [550.00001479]\n",
      "[99.74791115] [100.00000206]\n",
      "[335.29615745] [199.99999194]\n",
      "[696.88117627] [650.]\n",
      "[79.53877115] [600.0000074]\n",
      "[774.78265741] [499.99998487]\n",
      "[226.63617915] [399.99999967]\n",
      "\n"
     ]
    },
    {
     "name": "stderr",
     "output_type": "stream",
     "text": [
      "\n"
     ]
    },
    {
     "name": "stdout",
     "output_type": "stream",
     "text": [
      "Val unscaled\n",
      "Preds\tTrue\n",
      "[1459.6961153] [199.99999194]\n",
      "[1508.51583672] [23.9]\n",
      "[1314.48980668] [600.0000074]\n",
      "[1627.87328451] [499.99998487]\n",
      "[1394.52642665] [350.00000706]\n",
      "[1442.33765378] [399.99999967]\n",
      "[1536.35407045] [499.99998487]\n",
      "[1488.06665967] [650.]\n",
      "[1387.9204607] [199.99999194]\n",
      "[1639.35856552] [399.99999967]\n",
      "\n",
      "Epoch: 21 | Epoch Time: 0m 0s\n",
      "\tTrain Loss: 0.168| Train sqrt(mse): 0.41\n",
      "\n",
      "\tVal Loss: 3.182|  Val sqrt(mse): 1.78\n",
      "\n"
     ]
    },
    {
     "name": "stderr",
     "output_type": "stream",
     "text": [
      "Train: 100%|██████████| 1/1 [00:00<00:00,  2.44it/s]"
     ]
    },
    {
     "name": "stdout",
     "output_type": "stream",
     "text": [
      "Train (0,1)\n",
      "Preds\tTrue\n",
      "tensor[1] [0.741] tensor[1] cuda:0 [0.122]\n",
      "tensor[1] [0.081] tensor[1] cuda:0 [0.201]\n",
      "tensor[1] [0.320] tensor[1] cuda:0 [1.000]\n",
      "tensor[1] [0.924] tensor[1] cuda:0 [0.920]\n",
      "tensor[1] [0.605] tensor[1] cuda:0 [0.601]\n",
      "tensor[1] [0.731] tensor[1] cuda:0 [0.760]\n",
      "tensor[1] [0.110] tensor[1] cuda:0 [0.281]\n",
      "tensor[1] [0.652] tensor[1] cuda:0 [0.920]\n",
      "tensor[1] [0.397] tensor[1] cuda:0 [0.840]\n",
      "tensor[1] [-0.066] tensor[1] cuda:0 [0.601]\n",
      "\n",
      "Train unscaled\n",
      "Preds\tTrue\n",
      "[487.79587553] [100.00000206]\n",
      "[74.74790552] [149.99999933]\n",
      "[224.42093623] [650.]\n",
      "[602.413542] [600.0000074]\n",
      "[402.9741323] [399.99999967]\n",
      "[481.33895954] [499.99998487]\n",
      "[92.80742245] [199.99999194]\n",
      "[431.94949707] [600.0000074]\n",
      "[272.76977321] [550.00001479]\n",
      "[-17.14648976] [399.99999967]\n",
      "\n"
     ]
    },
    {
     "name": "stderr",
     "output_type": "stream",
     "text": [
      "\n"
     ]
    },
    {
     "name": "stdout",
     "output_type": "stream",
     "text": [
      "Val unscaled\n",
      "Preds\tTrue\n",
      "[1209.93793864] [199.99999194]\n",
      "[1160.16555138] [23.9]\n",
      "[1078.02842411] [600.0000074]\n",
      "[1360.95368783] [499.99998487]\n",
      "[1089.4130199] [350.00000706]\n",
      "[1146.46056788] [399.99999967]\n",
      "[1126.37487271] [499.99998487]\n",
      "[1149.74220469] [650.]\n",
      "[1167.49683907] [199.99999194]\n",
      "[1365.94465976] [399.99999967]\n",
      "\n",
      "Epoch: 22 | Epoch Time: 0m 0s\n",
      "\tTrain Loss: 0.160| Train sqrt(mse): 0.40\n",
      "\n",
      "\tVal Loss: 1.759|  Val sqrt(mse): 1.33\n",
      "\n"
     ]
    },
    {
     "name": "stderr",
     "output_type": "stream",
     "text": [
      "Train: 100%|██████████| 1/1 [00:00<00:00,  2.29it/s]"
     ]
    },
    {
     "name": "stdout",
     "output_type": "stream",
     "text": [
      "Train (0,1)\n",
      "Preds\tTrue\n",
      "tensor[1] [0.579] tensor[1] cuda:0 [0.840]\n",
      "tensor[1] [-0.277] tensor[1] cuda:0 [1.000]\n",
      "tensor[1] [0.516] tensor[1] cuda:0 [0.122]\n",
      "tensor[1] [0.130] tensor[1] cuda:0 [0.601]\n",
      "tensor[1] [0.566] tensor[1] cuda:0 [0.920]\n",
      "tensor[1] [0.758] tensor[1] cuda:0 [0.920]\n",
      "tensor[1] [-0.208] tensor[1] cuda:0 [0.201]\n",
      "tensor[1] [0.020] tensor[1] cuda:0 [0.760]\n",
      "tensor[1] [1.422] tensor[1] cuda:0 [0.601]\n",
      "tensor[1] [0.305] tensor[1] cuda:0 [0.281]\n",
      "\n",
      "Train unscaled\n",
      "Preds\tTrue\n",
      "[386.63028529] [550.00001479]\n",
      "[-149.28818114] [650.]\n",
      "[347.1989948] [100.00000206]\n",
      "[105.39292654] [399.99999967]\n",
      "[378.38824038] [600.0000074]\n",
      "[498.73839674] [600.0000074]\n",
      "[-106.57483402] [149.99999933]\n",
      "[36.12819842] [499.99998487]\n",
      "[914.10720228] [399.99999967]\n",
      "[214.64846094] [199.99999194]\n",
      "\n"
     ]
    },
    {
     "name": "stderr",
     "output_type": "stream",
     "text": [
      "\n"
     ]
    },
    {
     "name": "stdout",
     "output_type": "stream",
     "text": [
      "Val unscaled\n",
      "Preds\tTrue\n",
      "[1065.89686186] [199.99999194]\n",
      "[1003.8432653] [23.9]\n",
      "[987.7952791] [600.0000074]\n",
      "[1238.44745698] [499.99998487]\n",
      "[955.58899331] [350.00000706]\n",
      "[1029.84438548] [399.99999967]\n",
      "[921.78062569] [499.99998487]\n",
      "[1059.16050519] [650.]\n",
      "[1116.03213391] [199.99999194]\n",
      "[1167.57229701] [399.99999967]\n",
      "\n",
      "Epoch: 23 | Epoch Time: 0m 0s\n",
      "\tTrain Loss: 0.362| Train sqrt(mse): 0.60\n",
      "\n",
      "\tVal Loss: 1.261|  Val sqrt(mse): 1.12\n",
      "\n"
     ]
    },
    {
     "name": "stderr",
     "output_type": "stream",
     "text": [
      "Train: 100%|██████████| 1/1 [00:00<00:00,  2.46it/s]"
     ]
    },
    {
     "name": "stdout",
     "output_type": "stream",
     "text": [
      "Train (0,1)\n",
      "Preds\tTrue\n",
      "tensor[1] [0.244] tensor[1] cuda:0 [0.601]\n",
      "tensor[1] [0.999] tensor[1] cuda:0 [0.122]\n",
      "tensor[1] [0.553] tensor[1] cuda:0 [0.281]\n",
      "tensor[1] [0.567] tensor[1] cuda:0 [0.920]\n",
      "tensor[1] [0.560] tensor[1] cuda:0 [0.601]\n",
      "tensor[1] [-0.193] tensor[1] cuda:0 [0.920]\n",
      "tensor[1] [0.349] tensor[1] cuda:0 [1.000]\n",
      "tensor[1] [0.392] tensor[1] cuda:0 [0.760]\n",
      "tensor[1] [-0.362] tensor[1] cuda:0 [0.201]\n",
      "tensor[1] [0.307] tensor[1] cuda:0 [0.840]\n",
      "\n",
      "Train unscaled\n",
      "Preds\tTrue\n",
      "[176.50975158] [399.99999967]\n",
      "[649.18821136] [100.00000206]\n",
      "[370.07640994] [199.99999194]\n",
      "[378.70268579] [600.0000074]\n",
      "[374.44949998] [399.99999967]\n",
      "[-97.21657507] [600.0000074]\n",
      "[242.63359883] [650.]\n",
      "[269.19119335] [499.99998487]\n",
      "[-202.91808516] [149.99999933]\n",
      "[216.02318001] [550.00001479]\n",
      "\n"
     ]
    },
    {
     "name": "stderr",
     "output_type": "stream",
     "text": [
      "\n"
     ]
    },
    {
     "name": "stdout",
     "output_type": "stream",
     "text": [
      "Val unscaled\n",
      "Preds\tTrue\n",
      "[1200.34530106] [199.99999194]\n",
      "[1127.98105958] [23.9]\n",
      "[1122.90791239] [600.0000074]\n",
      "[1278.33582406] [499.99998487]\n",
      "[1082.62434273] [350.00000706]\n",
      "[1160.27190901] [399.99999967]\n",
      "[1076.38312749] [499.99998487]\n",
      "[999.98184876] [650.]\n",
      "[1276.72411406] [199.99999194]\n",
      "[1196.87692263] [399.99999967]\n",
      "\n",
      "Epoch: 24 | Epoch Time: 0m 0s\n",
      "\tTrain Loss: 0.350| Train sqrt(mse): 0.59\n",
      "\n",
      "\tVal Loss: 1.649|  Val sqrt(mse): 1.28\n",
      "\n"
     ]
    },
    {
     "name": "stderr",
     "output_type": "stream",
     "text": [
      "Train: 100%|██████████| 1/1 [00:00<00:00,  2.38it/s]"
     ]
    },
    {
     "name": "stdout",
     "output_type": "stream",
     "text": [
      "Train (0,1)\n",
      "Preds\tTrue\n",
      "tensor[1] [1.065] tensor[1] cuda:0 [0.601]\n",
      "tensor[1] [0.139] tensor[1] cuda:0 [0.122]\n",
      "tensor[1] [0.719] tensor[1] cuda:0 [0.840]\n",
      "tensor[1] [0.845] tensor[1] cuda:0 [0.760]\n",
      "tensor[1] [0.378] tensor[1] cuda:0 [0.201]\n",
      "tensor[1] [0.395] tensor[1] cuda:0 [0.281]\n",
      "tensor[1] [0.694] tensor[1] cuda:0 [0.601]\n",
      "tensor[1] [-0.229] tensor[1] cuda:0 [0.920]\n",
      "tensor[1] [0.625] tensor[1] cuda:0 [1.000]\n",
      "tensor[1] [0.632] tensor[1] cuda:0 [0.920]\n",
      "\n",
      "Train unscaled\n",
      "Preds\tTrue\n",
      "[690.73586949] [399.99999967]\n",
      "[110.7785506] [100.00000206]\n",
      "[473.7998453] [550.00001479]\n",
      "[552.72889045] [499.99998487]\n",
      "[260.86630144] [149.99999933]\n",
      "[271.41886332] [199.99999194]\n",
      "[458.25841998] [399.99999967]\n",
      "[-119.61044548] [600.0000074]\n",
      "[414.95354715] [650.]\n",
      "[419.33272011] [600.0000074]\n",
      "\n"
     ]
    },
    {
     "name": "stderr",
     "output_type": "stream",
     "text": [
      "\n"
     ]
    },
    {
     "name": "stdout",
     "output_type": "stream",
     "text": [
      "Val unscaled\n",
      "Preds\tTrue\n",
      "[1360.77694757] [199.99999194]\n",
      "[1364.60716586] [23.9]\n",
      "[1330.9084399] [600.0000074]\n",
      "[1270.36751012] [499.99998487]\n",
      "[1320.13474743] [350.00000706]\n",
      "[1331.53509161] [399.99999967]\n",
      "[1338.84995918] [499.99998487]\n",
      "[971.33186371] [650.]\n",
      "[1404.77616782] [199.99999194]\n",
      "[1267.19536569] [399.99999967]\n",
      "\n",
      "Epoch: 25 | Epoch Time: 0m 0s\n",
      "\tTrain Loss: 0.184| Train sqrt(mse): 0.43\n",
      "\n",
      "\tVal Loss: 2.319|  Val sqrt(mse): 1.52\n",
      "\n"
     ]
    },
    {
     "name": "stderr",
     "output_type": "stream",
     "text": [
      "Train: 100%|██████████| 1/1 [00:00<00:00,  2.33it/s]"
     ]
    },
    {
     "name": "stdout",
     "output_type": "stream",
     "text": [
      "Train (0,1)\n",
      "Preds\tTrue\n",
      "tensor[1] [0.301] tensor[1] cuda:0 [0.840]\n",
      "tensor[1] [0.111] tensor[1] cuda:0 [0.122]\n",
      "tensor[1] [0.733] tensor[1] cuda:0 [0.201]\n",
      "tensor[1] [0.918] tensor[1] cuda:0 [0.601]\n",
      "tensor[1] [0.402] tensor[1] cuda:0 [0.920]\n",
      "tensor[1] [0.713] tensor[1] cuda:0 [0.601]\n",
      "tensor[1] [1.029] tensor[1] cuda:0 [0.760]\n",
      "tensor[1] [0.442] tensor[1] cuda:0 [0.920]\n",
      "tensor[1] [1.037] tensor[1] cuda:0 [1.000]\n",
      "tensor[1] [0.467] tensor[1] cuda:0 [0.281]\n",
      "\n",
      "Train unscaled\n",
      "Preds\tTrue\n",
      "[212.10035594] [550.00001479]\n",
      "[93.43019305] [100.00000206]\n",
      "[482.7650848] [149.99999933]\n",
      "[598.87530341] [399.99999967]\n",
      "[275.35366662] [600.0000074]\n",
      "[470.07598464] [399.99999967]\n",
      "[668.24559615] [499.99998487]\n",
      "[300.93010264] [600.0000074]\n",
      "[673.39345491] [650.]\n",
      "[316.08050504] [199.99999194]\n",
      "\n"
     ]
    },
    {
     "name": "stderr",
     "output_type": "stream",
     "text": [
      "\n"
     ]
    },
    {
     "name": "stdout",
     "output_type": "stream",
     "text": [
      "Val unscaled\n",
      "Preds\tTrue\n",
      "[1497.8487258] [199.99999194]\n",
      "[1537.53497605] [23.9]\n",
      "[1438.92316322] [600.0000074]\n",
      "[1380.53618078] [499.99998487]\n",
      "[1450.31664081] [350.00000706]\n",
      "[1450.68937767] [399.99999967]\n",
      "[1480.52056687] [499.99998487]\n",
      "[990.96100475] [650.]\n",
      "[1514.02538607] [199.99999194]\n",
      "[1280.96005874] [399.99999967]\n",
      "\n",
      "Epoch: 26 | Epoch Time: 0m 0s\n",
      "\tTrain Loss: 0.129| Train sqrt(mse): 0.36\n",
      "\n",
      "\tVal Loss: 2.895|  Val sqrt(mse): 1.70\n",
      "\n"
     ]
    },
    {
     "name": "stderr",
     "output_type": "stream",
     "text": [
      "Train: 100%|██████████| 1/1 [00:00<00:00,  2.40it/s]"
     ]
    },
    {
     "name": "stdout",
     "output_type": "stream",
     "text": [
      "Train (0,1)\n",
      "Preds\tTrue\n",
      "tensor[1] [0.150] tensor[1] cuda:0 [0.601]\n",
      "tensor[1] [1.258] tensor[1] cuda:0 [0.281]\n",
      "tensor[1] [0.061] tensor[1] cuda:0 [0.920]\n",
      "tensor[1] [1.269] tensor[1] cuda:0 [0.122]\n",
      "tensor[1] [0.694] tensor[1] cuda:0 [1.000]\n",
      "tensor[1] [1.653] tensor[1] cuda:0 [0.920]\n",
      "tensor[1] [0.644] tensor[1] cuda:0 [0.840]\n",
      "tensor[1] [1.056] tensor[1] cuda:0 [0.760]\n",
      "tensor[1] [0.697] tensor[1] cuda:0 [0.201]\n",
      "tensor[1] [0.524] tensor[1] cuda:0 [0.601]\n",
      "\n",
      "Train unscaled\n",
      "Preds\tTrue\n",
      "[117.88745754] [399.99999967]\n",
      "[811.58911612] [199.99999194]\n",
      "[62.35280725] [600.0000074]\n",
      "[818.72440722] [100.00000206]\n",
      "[458.42709946] [650.]\n",
      "[1058.92181627] [600.0000074]\n",
      "[426.92411752] [550.00001479]\n",
      "[684.91120299] [499.99998487]\n",
      "[460.57627004] [149.99999933]\n",
      "[352.13014522] [399.99999967]\n",
      "\n"
     ]
    },
    {
     "name": "stderr",
     "output_type": "stream",
     "text": [
      "\n"
     ]
    },
    {
     "name": "stdout",
     "output_type": "stream",
     "text": [
      "Val unscaled\n",
      "Preds\tTrue\n",
      "[1562.79599638] [199.99999194]\n",
      "[1524.34230049] [23.9]\n",
      "[1456.50165443] [600.0000074]\n",
      "[1568.18239479] [499.99998487]\n",
      "[1449.69446731] [350.00000706]\n",
      "[1508.69556246] [399.99999967]\n",
      "[1446.02859955] [499.99998487]\n",
      "[1150.5517169] [650.]\n",
      "[1537.4130193] [199.99999194]\n",
      "[1450.58593087] [399.99999967]\n",
      "\n",
      "Epoch: 27 | Epoch Time: 0m 0s\n",
      "\tTrain Loss: 0.422| Train sqrt(mse): 0.65\n",
      "\n",
      "\tVal Loss: 3.178|  Val sqrt(mse): 1.78\n",
      "\n"
     ]
    },
    {
     "name": "stderr",
     "output_type": "stream",
     "text": [
      "Train: 100%|██████████| 1/1 [00:00<00:00,  2.56it/s]"
     ]
    },
    {
     "name": "stdout",
     "output_type": "stream",
     "text": [
      "Train (0,1)\n",
      "Preds\tTrue\n",
      "tensor[1] [0.362] tensor[1] cuda:0 [0.122]\n",
      "tensor[1] [0.709] tensor[1] cuda:0 [0.281]\n",
      "tensor[1] [0.855] tensor[1] cuda:0 [0.840]\n",
      "tensor[1] [1.005] tensor[1] cuda:0 [1.000]\n",
      "tensor[1] [0.770] tensor[1] cuda:0 [0.601]\n",
      "tensor[1] [0.802] tensor[1] cuda:0 [0.920]\n",
      "tensor[1] [0.787] tensor[1] cuda:0 [0.201]\n",
      "tensor[1] [1.169] tensor[1] cuda:0 [0.760]\n",
      "tensor[1] [1.246] tensor[1] cuda:0 [0.920]\n",
      "tensor[1] [0.463] tensor[1] cuda:0 [0.601]\n",
      "\n",
      "Train unscaled\n",
      "Preds\tTrue\n",
      "[250.29720748] [100.00000206]\n",
      "[467.69181967] [199.99999194]\n",
      "[558.96723217] [550.00001479]\n",
      "[653.317985] [650.]\n",
      "[505.83692915] [399.99999967]\n",
      "[526.06413595] [600.0000074]\n",
      "[516.44809968] [149.99999933]\n",
      "[755.65836061] [499.99998487]\n",
      "[803.86299903] [600.0000074]\n",
      "[314.08659795] [399.99999967]\n",
      "\n"
     ]
    },
    {
     "name": "stderr",
     "output_type": "stream",
     "text": [
      "Train: 100%|██████████| 1/1 [00:00<00:00,  2.17it/s]\n"
     ]
    },
    {
     "name": "stdout",
     "output_type": "stream",
     "text": [
      "Val unscaled\n",
      "Preds\tTrue\n",
      "[1558.01475425] [199.99999194]\n",
      "[1470.17797735] [23.9]\n",
      "[1463.78562231] [600.0000074]\n",
      "[1741.74566386] [499.99998487]\n",
      "[1425.80184057] [350.00000706]\n",
      "[1492.53890488] [399.99999967]\n",
      "[1419.39918563] [499.99998487]\n",
      "[1376.39606993] [650.]\n",
      "[1598.3237751] [199.99999194]\n",
      "[1569.90994132] [399.99999967]\n",
      "\n",
      "Epoch: 28 | Epoch Time: 0m 0s\n",
      "\tTrain Loss: 0.092| Train sqrt(mse): 0.30\n",
      "\n",
      "\tVal Loss: 3.386|  Val sqrt(mse): 1.84\n",
      "\n"
     ]
    },
    {
     "name": "stderr",
     "output_type": "stream",
     "text": [
      "Train: 100%|██████████| 1/1 [00:00<00:00,  2.35it/s]"
     ]
    },
    {
     "name": "stdout",
     "output_type": "stream",
     "text": [
      "Train (0,1)\n",
      "Preds\tTrue\n",
      "tensor[1] [0.371] tensor[1] cuda:0 [0.201]\n",
      "tensor[1] [1.284] tensor[1] cuda:0 [0.760]\n",
      "tensor[1] [0.707] tensor[1] cuda:0 [1.000]\n",
      "tensor[1] [1.295] tensor[1] cuda:0 [0.840]\n",
      "tensor[1] [0.964] tensor[1] cuda:0 [0.601]\n",
      "tensor[1] [0.498] tensor[1] cuda:0 [0.601]\n",
      "tensor[1] [0.268] tensor[1] cuda:0 [0.122]\n",
      "tensor[1] [0.734] tensor[1] cuda:0 [0.920]\n",
      "tensor[1] [0.749] tensor[1] cuda:0 [0.920]\n",
      "tensor[1] [0.982] tensor[1] cuda:0 [0.281]\n",
      "\n",
      "Train unscaled\n",
      "Preds\tTrue\n",
      "[256.29734541] [149.99999933]\n",
      "[827.70054371] [499.99998487]\n",
      "[466.56801132] [650.]\n",
      "[834.67782842] [550.00001479]\n",
      "[627.50946543] [399.99999967]\n",
      "[335.82333679] [399.99999967]\n",
      "[191.43960184] [100.00000206]\n",
      "[483.22503492] [600.0000074]\n",
      "[492.54435204] [600.0000074]\n",
      "[638.8608851] [199.99999194]\n",
      "\n"
     ]
    },
    {
     "name": "stderr",
     "output_type": "stream",
     "text": [
      "\n"
     ]
    },
    {
     "name": "stdout",
     "output_type": "stream",
     "text": [
      "Val unscaled\n",
      "Preds\tTrue\n",
      "[1415.40969212] [199.99999194]\n",
      "[1311.40147953] [23.9]\n",
      "[1352.84796729] [600.0000074]\n",
      "[1645.69673414] [499.99998487]\n",
      "[1270.43826593] [350.00000706]\n",
      "[1391.33495126] [399.99999967]\n",
      "[1299.24207771] [499.99998487]\n",
      "[1475.61483033] [650.]\n",
      "[1463.27107527] [199.99999194]\n",
      "[1474.50094869] [399.99999967]\n",
      "\n",
      "Epoch: 29 | Epoch Time: 0m 0s\n",
      "\tTrain Loss: 0.131| Train sqrt(mse): 0.36\n",
      "\n",
      "\tVal Loss: 2.784|  Val sqrt(mse): 1.67\n",
      "\n"
     ]
    },
    {
     "name": "stderr",
     "output_type": "stream",
     "text": [
      "Train: 100%|██████████| 1/1 [00:00<00:00,  2.36it/s]"
     ]
    },
    {
     "name": "stdout",
     "output_type": "stream",
     "text": [
      "Train (0,1)\n",
      "Preds\tTrue\n",
      "tensor[1] [1.435] tensor[1] cuda:0 [0.840]\n",
      "tensor[1] [1.238] tensor[1] cuda:0 [0.760]\n",
      "tensor[1] [0.259] tensor[1] cuda:0 [0.601]\n",
      "tensor[1] [0.539] tensor[1] cuda:0 [0.920]\n",
      "tensor[1] [0.364] tensor[1] cuda:0 [0.281]\n",
      "tensor[1] [0.945] tensor[1] cuda:0 [0.920]\n",
      "tensor[1] [0.426] tensor[1] cuda:0 [0.122]\n",
      "tensor[1] [0.860] tensor[1] cuda:0 [1.000]\n",
      "tensor[1] [0.755] tensor[1] cuda:0 [0.601]\n",
      "tensor[1] [0.452] tensor[1] cuda:0 [0.201]\n",
      "\n",
      "Train unscaled\n",
      "Preds\tTrue\n",
      "[922.23964285] [550.00001479]\n",
      "[798.86986264] [499.99998487]\n",
      "[185.8711826] [399.99999967]\n",
      "[361.2529433] [600.0000074]\n",
      "[251.83603451] [199.99999194]\n",
      "[615.6186073] [600.0000074]\n",
      "[290.70801445] [100.00000206]\n",
      "[562.29999529] [650.]\n",
      "[496.65725773] [399.99999967]\n",
      "[306.82595412] [149.99999933]\n",
      "\n"
     ]
    },
    {
     "name": "stderr",
     "output_type": "stream",
     "text": [
      "\n"
     ]
    },
    {
     "name": "stdout",
     "output_type": "stream",
     "text": [
      "Val unscaled\n",
      "Preds\tTrue\n",
      "[1233.23451481] [199.99999194]\n",
      "[1189.86560348] [23.9]\n",
      "[1252.52069912] [600.0000074]\n",
      "[1452.9150511] [499.99998487]\n",
      "[1158.3374689] [350.00000706]\n",
      "[1300.67182286] [399.99999967]\n",
      "[1167.55012984] [499.99998487]\n",
      "[1447.971399] [650.]\n",
      "[1295.35110495] [199.99999194]\n",
      "[1394.51970932] [399.99999967]\n",
      "\n",
      "Epoch: 30 | Epoch Time: 0m 0s\n",
      "\tTrain Loss: 0.105| Train sqrt(mse): 0.32\n",
      "\n",
      "\tVal Loss: 2.168|  Val sqrt(mse): 1.47\n",
      "\n"
     ]
    },
    {
     "name": "stderr",
     "output_type": "stream",
     "text": [
      "Train: 100%|██████████| 1/1 [00:00<00:00,  2.36it/s]"
     ]
    },
    {
     "name": "stdout",
     "output_type": "stream",
     "text": [
      "Train (0,1)\n",
      "Preds\tTrue\n",
      "tensor[1] [0.424] tensor[1] cuda:0 [0.281]\n",
      "tensor[1] [0.499] tensor[1] cuda:0 [0.920]\n",
      "tensor[1] [0.624] tensor[1] cuda:0 [0.601]\n",
      "tensor[1] [1.185] tensor[1] cuda:0 [0.760]\n",
      "tensor[1] [0.407] tensor[1] cuda:0 [0.920]\n",
      "tensor[1] [1.049] tensor[1] cuda:0 [0.840]\n",
      "tensor[1] [0.847] tensor[1] cuda:0 [0.601]\n",
      "tensor[1] [0.087] tensor[1] cuda:0 [0.201]\n",
      "tensor[1] [0.734] tensor[1] cuda:0 [1.000]\n",
      "tensor[1] [-0.013] tensor[1] cuda:0 [0.122]\n",
      "\n",
      "Train unscaled\n",
      "Preds\tTrue\n",
      "[289.42427781] [199.99999194]\n",
      "[336.20036527] [600.0000074]\n",
      "[414.54670121] [399.99999967]\n",
      "[766.13925238] [499.99998487]\n",
      "[278.81114805] [600.0000074]\n",
      "[680.74295402] [550.00001479]\n",
      "[553.97954428] [399.99999967]\n",
      "[78.29558102] [149.99999933]\n",
      "[483.35859771] [650.]\n",
      "[16.06707104] [100.00000206]\n",
      "\n"
     ]
    },
    {
     "name": "stderr",
     "output_type": "stream",
     "text": [
      "\n"
     ]
    },
    {
     "name": "stdout",
     "output_type": "stream",
     "text": [
      "Val unscaled\n",
      "Preds\tTrue\n",
      "[1087.74518292] [199.99999194]\n",
      "[1079.95711718] [23.9]\n",
      "[1131.38584733] [600.0000074]\n",
      "[1311.05322359] [499.99998487]\n",
      "[1039.84177917] [350.00000706]\n",
      "[1148.65862565] [399.99999967]\n",
      "[1054.89425792] [499.99998487]\n",
      "[1265.58410351] [650.]\n",
      "[1146.47795829] [199.99999194]\n",
      "[1277.91636448] [399.99999967]\n",
      "\n",
      "Epoch: 31 | Epoch Time: 0m 0s\n",
      "\tTrain Loss: 0.085| Train sqrt(mse): 0.29\n",
      "\n",
      "\tVal Loss: 1.590|  Val sqrt(mse): 1.26\n",
      "\n"
     ]
    },
    {
     "name": "stderr",
     "output_type": "stream",
     "text": [
      "Train: 100%|██████████| 1/1 [00:00<00:00,  2.41it/s]"
     ]
    },
    {
     "name": "stdout",
     "output_type": "stream",
     "text": [
      "Train (0,1)\n",
      "Preds\tTrue\n",
      "tensor[1] [0.242] tensor[1] cuda:0 [0.920]\n",
      "tensor[1] [0.463] tensor[1] cuda:0 [1.000]\n",
      "tensor[1] [1.066] tensor[1] cuda:0 [0.920]\n",
      "tensor[1] [0.886] tensor[1] cuda:0 [0.760]\n",
      "tensor[1] [-0.347] tensor[1] cuda:0 [0.281]\n",
      "tensor[1] [0.506] tensor[1] cuda:0 [0.601]\n",
      "tensor[1] [-0.259] tensor[1] cuda:0 [0.201]\n",
      "tensor[1] [0.560] tensor[1] cuda:0 [0.122]\n",
      "tensor[1] [0.420] tensor[1] cuda:0 [0.601]\n",
      "tensor[1] [1.337] tensor[1] cuda:0 [0.840]\n",
      "\n",
      "Train unscaled\n",
      "Preds\tTrue\n",
      "[175.52220229] [600.0000074]\n",
      "[313.99455195] [650.]\n",
      "[691.49783797] [600.0000074]\n",
      "[578.51139905] [499.99998487]\n",
      "[-193.64974506] [199.99999194]\n",
      "[340.54507462] [399.99999967]\n",
      "[-138.44541219] [149.99999933]\n",
      "[374.2050267] [100.00000206]\n",
      "[286.84922887] [399.99999967]\n",
      "[861.09788573] [550.00001479]\n",
      "\n"
     ]
    },
    {
     "name": "stderr",
     "output_type": "stream",
     "text": [
      "\n"
     ]
    },
    {
     "name": "stdout",
     "output_type": "stream",
     "text": [
      "Val unscaled\n",
      "Preds\tTrue\n",
      "[952.87825443] [199.99999194]\n",
      "[999.8293655] [23.9]\n",
      "[958.49946064] [600.0000074]\n",
      "[1212.17652427] [499.99998487]\n",
      "[872.26222792] [350.00000706]\n",
      "[973.01701646] [399.99999967]\n",
      "[970.89628255] [499.99998487]\n",
      "[1116.80432765] [650.]\n",
      "[1013.94552388] [199.99999194]\n",
      "[1153.62347465] [399.99999967]\n",
      "\n",
      "Epoch: 32 | Epoch Time: 0m 0s\n",
      "\tTrain Loss: 0.187| Train sqrt(mse): 0.43\n",
      "\n",
      "\tVal Loss: 1.129|  Val sqrt(mse): 1.06\n",
      "\n"
     ]
    },
    {
     "name": "stderr",
     "output_type": "stream",
     "text": [
      "Train: 100%|██████████| 1/1 [00:00<00:00,  2.43it/s]"
     ]
    },
    {
     "name": "stdout",
     "output_type": "stream",
     "text": [
      "Train (0,1)\n",
      "Preds\tTrue\n",
      "tensor[1] [0.380] tensor[1] cuda:0 [0.281]\n",
      "tensor[1] [0.202] tensor[1] cuda:0 [0.122]\n",
      "tensor[1] [-0.004] tensor[1] cuda:0 [0.201]\n",
      "tensor[1] [1.233] tensor[1] cuda:0 [0.920]\n",
      "tensor[1] [0.763] tensor[1] cuda:0 [0.840]\n",
      "tensor[1] [0.518] tensor[1] cuda:0 [0.601]\n",
      "tensor[1] [0.406] tensor[1] cuda:0 [0.920]\n",
      "tensor[1] [0.300] tensor[1] cuda:0 [0.601]\n",
      "tensor[1] [0.826] tensor[1] cuda:0 [0.760]\n",
      "tensor[1] [0.432] tensor[1] cuda:0 [1.000]\n",
      "\n",
      "Train unscaled\n",
      "Preds\tTrue\n",
      "[261.63237495] [199.99999194]\n",
      "[150.07030733] [100.00000206]\n",
      "[21.49902131] [149.99999933]\n",
      "[795.97253141] [600.0000074]\n",
      "[501.89844998] [550.00001479]\n",
      "[348.40363495] [399.99999967]\n",
      "[278.08472541] [600.0000074]\n",
      "[211.63042313] [399.99999967]\n",
      "[541.1633001] [499.99998487]\n",
      "[294.44118607] [650.]\n",
      "\n"
     ]
    },
    {
     "name": "stderr",
     "output_type": "stream",
     "text": [
      "\n"
     ]
    },
    {
     "name": "stdout",
     "output_type": "stream",
     "text": [
      "Val unscaled\n",
      "Preds\tTrue\n",
      "[899.24825711] [199.99999194]\n",
      "[980.03139572] [23.9]\n",
      "[823.62268007] [600.0000074]\n",
      "[1192.21980172] [499.99998487]\n",
      "[817.58164109] [350.00000706]\n",
      "[845.11319165] [399.99999967]\n",
      "[991.1989473] [499.99998487]\n",
      "[1091.07018379] [650.]\n",
      "[937.15038605] [199.99999194]\n",
      "[1141.07618467] [399.99999967]\n",
      "\n",
      "Epoch: 33 | Epoch Time: 0m 0s\n",
      "\tTrain Loss: 0.085| Train sqrt(mse): 0.29\n",
      "\n",
      "\tVal Loss: 0.989|  Val sqrt(mse): 0.99\n",
      "\n"
     ]
    },
    {
     "name": "stderr",
     "output_type": "stream",
     "text": [
      "Train: 100%|██████████| 1/1 [00:00<00:00,  2.43it/s]"
     ]
    },
    {
     "name": "stdout",
     "output_type": "stream",
     "text": [
      "Train (0,1)\n",
      "Preds\tTrue\n",
      "tensor[1] [0.281] tensor[1] cuda:0 [0.601]\n",
      "tensor[1] [0.737] tensor[1] cuda:0 [0.920]\n",
      "tensor[1] [0.221] tensor[1] cuda:0 [0.281]\n",
      "tensor[1] [0.334] tensor[1] cuda:0 [0.201]\n",
      "tensor[1] [0.438] tensor[1] cuda:0 [0.760]\n",
      "tensor[1] [1.439] tensor[1] cuda:0 [0.920]\n",
      "tensor[1] [0.376] tensor[1] cuda:0 [0.840]\n",
      "tensor[1] [0.481] tensor[1] cuda:0 [1.000]\n",
      "tensor[1] [0.571] tensor[1] cuda:0 [0.122]\n",
      "tensor[1] [0.332] tensor[1] cuda:0 [0.601]\n",
      "\n",
      "Train unscaled\n",
      "Preds\tTrue\n",
      "[200.04255365] [399.99999967]\n",
      "[485.26922864] [600.0000074]\n",
      "[162.4785207] [199.99999194]\n",
      "[232.82688385] [149.99999933]\n",
      "[297.93520228] [499.99998487]\n",
      "[925.0822652] [600.0000074]\n",
      "[259.35557522] [550.00001479]\n",
      "[324.85545768] [650.]\n",
      "[381.37856923] [100.00000206]\n",
      "[232.00367576] [399.99999967]\n",
      "\n"
     ]
    },
    {
     "name": "stderr",
     "output_type": "stream",
     "text": [
      "\n"
     ]
    },
    {
     "name": "stdout",
     "output_type": "stream",
     "text": [
      "Val unscaled\n",
      "Preds\tTrue\n",
      "[868.4638796] [199.99999194]\n",
      "[1056.15801052] [23.9]\n",
      "[809.45950042] [600.0000074]\n",
      "[1181.42692757] [499.99998487]\n",
      "[840.88135201] [350.00000706]\n",
      "[809.64840651] [399.99999967]\n",
      "[1064.36792423] [499.99998487]\n",
      "[1137.04041625] [650.]\n",
      "[924.78722539] [199.99999194]\n",
      "[1147.08595077] [399.99999967]\n",
      "\n",
      "Epoch: 34 | Epoch Time: 0m 0s\n",
      "\tTrain Loss: 0.129| Train sqrt(mse): 0.36\n",
      "\n",
      "\tVal Loss: 1.038|  Val sqrt(mse): 1.02\n",
      "\n"
     ]
    },
    {
     "name": "stderr",
     "output_type": "stream",
     "text": [
      "Train: 100%|██████████| 1/1 [00:00<00:00,  2.38it/s]"
     ]
    },
    {
     "name": "stdout",
     "output_type": "stream",
     "text": [
      "Train (0,1)\n",
      "Preds\tTrue\n",
      "tensor[1] [0.800] tensor[1] cuda:0 [0.760]\n",
      "tensor[1] [0.633] tensor[1] cuda:0 [0.920]\n",
      "tensor[1] [0.422] tensor[1] cuda:0 [0.281]\n",
      "tensor[1] [0.476] tensor[1] cuda:0 [0.601]\n",
      "tensor[1] [0.687] tensor[1] cuda:0 [0.201]\n",
      "tensor[1] [0.806] tensor[1] cuda:0 [0.920]\n",
      "tensor[1] [0.695] tensor[1] cuda:0 [0.601]\n",
      "tensor[1] [0.763] tensor[1] cuda:0 [1.000]\n",
      "tensor[1] [0.544] tensor[1] cuda:0 [0.840]\n",
      "tensor[1] [0.197] tensor[1] cuda:0 [0.122]\n",
      "\n",
      "Train unscaled\n",
      "Preds\tTrue\n",
      "[524.57766673] [499.99998487]\n",
      "[420.17022117] [600.0000074]\n",
      "[288.36094404] [199.99999194]\n",
      "[321.76358528] [399.99999967]\n",
      "[453.72232287] [149.99999933]\n",
      "[528.36146085] [600.0000074]\n",
      "[458.900223] [399.99999967]\n",
      "[501.34621129] [650.]\n",
      "[364.56215845] [550.00001479]\n",
      "[147.44258337] [100.00000206]\n",
      "\n"
     ]
    },
    {
     "name": "stderr",
     "output_type": "stream",
     "text": [
      "\n"
     ]
    },
    {
     "name": "stdout",
     "output_type": "stream",
     "text": [
      "Val unscaled\n",
      "Preds\tTrue\n",
      "[917.62581136] [199.99999194]\n",
      "[1103.66994354] [23.9]\n",
      "[863.29519713] [600.0000074]\n",
      "[1262.60183545] [499.99998487]\n",
      "[878.68607974] [350.00000706]\n",
      "[850.70148298] [399.99999967]\n",
      "[1139.12935482] [499.99998487]\n",
      "[1239.10732213] [650.]\n",
      "[996.729395] [199.99999194]\n",
      "[1225.60206708] [399.99999967]\n",
      "\n",
      "Epoch: 35 | Epoch Time: 0m 0s\n",
      "\tTrain Loss: 0.053| Train sqrt(mse): 0.23\n",
      "\n",
      "\tVal Loss: 1.247|  Val sqrt(mse): 1.12\n",
      "\n"
     ]
    },
    {
     "name": "stderr",
     "output_type": "stream",
     "text": [
      "Train: 100%|██████████| 1/1 [00:00<00:00,  2.42it/s]"
     ]
    },
    {
     "name": "stdout",
     "output_type": "stream",
     "text": [
      "Train (0,1)\n",
      "Preds\tTrue\n",
      "tensor[1] [0.242] tensor[1] cuda:0 [0.122]\n",
      "tensor[1] [0.588] tensor[1] cuda:0 [0.840]\n",
      "tensor[1] [0.419] tensor[1] cuda:0 [0.601]\n",
      "tensor[1] [0.684] tensor[1] cuda:0 [0.920]\n",
      "tensor[1] [0.778] tensor[1] cuda:0 [1.000]\n",
      "tensor[1] [0.380] tensor[1] cuda:0 [0.601]\n",
      "tensor[1] [0.586] tensor[1] cuda:0 [0.920]\n",
      "tensor[1] [0.947] tensor[1] cuda:0 [0.201]\n",
      "tensor[1] [0.884] tensor[1] cuda:0 [0.281]\n",
      "tensor[1] [0.931] tensor[1] cuda:0 [0.760]\n",
      "\n",
      "Train unscaled\n",
      "Preds\tTrue\n",
      "[175.58768687] [100.00000206]\n",
      "[392.30821557] [550.00001479]\n",
      "[286.27228536] [399.99999967]\n",
      "[452.44058276] [600.0000074]\n",
      "[511.2106766] [650.]\n",
      "[262.09260496] [399.99999967]\n",
      "[390.76464909] [600.0000074]\n",
      "[616.97110322] [149.99999933]\n",
      "[577.57918372] [199.99999194]\n",
      "[607.09074025] [499.99998487]\n",
      "\n"
     ]
    },
    {
     "name": "stderr",
     "output_type": "stream",
     "text": [
      "\n"
     ]
    },
    {
     "name": "stdout",
     "output_type": "stream",
     "text": [
      "Val unscaled\n",
      "Preds\tTrue\n",
      "[976.78924185] [199.99999194]\n",
      "[1090.17498838] [23.9]\n",
      "[918.0892321] [600.0000074]\n",
      "[1362.59077439] [499.99998487]\n",
      "[947.98595253] [350.00000706]\n",
      "[901.05282896] [399.99999967]\n",
      "[1114.34227904] [499.99998487]\n",
      "[1243.28676665] [650.]\n",
      "[1076.34043516] [199.99999194]\n",
      "[1262.84395767] [399.99999967]\n",
      "\n",
      "Epoch: 36 | Epoch Time: 0m 0s\n",
      "\tTrain Loss: 0.133| Train sqrt(mse): 0.36\n",
      "\n",
      "\tVal Loss: 1.387|  Val sqrt(mse): 1.18\n",
      "\n"
     ]
    },
    {
     "name": "stderr",
     "output_type": "stream",
     "text": [
      "Train: 100%|██████████| 1/1 [00:00<00:00,  2.46it/s]"
     ]
    },
    {
     "name": "stdout",
     "output_type": "stream",
     "text": [
      "Train (0,1)\n",
      "Preds\tTrue\n",
      "tensor[1] [0.597] tensor[1] cuda:0 [0.122]\n",
      "tensor[1] [0.660] tensor[1] cuda:0 [0.601]\n",
      "tensor[1] [0.214] tensor[1] cuda:0 [0.281]\n",
      "tensor[1] [0.983] tensor[1] cuda:0 [0.840]\n",
      "tensor[1] [0.472] tensor[1] cuda:0 [0.920]\n",
      "tensor[1] [1.098] tensor[1] cuda:0 [1.000]\n",
      "tensor[1] [0.948] tensor[1] cuda:0 [0.760]\n",
      "tensor[1] [0.512] tensor[1] cuda:0 [0.601]\n",
      "tensor[1] [0.799] tensor[1] cuda:0 [0.920]\n",
      "tensor[1] [0.679] tensor[1] cuda:0 [0.201]\n",
      "\n",
      "Train unscaled\n",
      "Preds\tTrue\n",
      "[397.86295759] [100.00000206]\n",
      "[436.99021451] [399.99999967]\n",
      "[157.97215708] [199.99999194]\n",
      "[639.14849853] [550.00001479]\n",
      "[319.11188421] [600.0000074]\n",
      "[711.46284522] [650.]\n",
      "[617.39563811] [499.99998487]\n",
      "[344.57393912] [399.99999967]\n",
      "[523.94832808] [600.0000074]\n",
      "[449.15424383] [149.99999933]\n",
      "\n"
     ]
    },
    {
     "name": "stderr",
     "output_type": "stream",
     "text": [
      "\n"
     ]
    },
    {
     "name": "stdout",
     "output_type": "stream",
     "text": [
      "Val unscaled\n",
      "Preds\tTrue\n",
      "[1080.80850071] [199.99999194]\n",
      "[1045.93461618] [23.9]\n",
      "[958.43825835] [600.0000074]\n",
      "[1346.21020601] [499.99998487]\n",
      "[963.44856124] [350.00000706]\n",
      "[970.86120319] [399.99999967]\n",
      "[1008.14347237] [499.99998487]\n",
      "[1182.87637687] [650.]\n",
      "[1127.64780566] [199.99999194]\n",
      "[1184.26775863] [399.99999967]\n",
      "\n",
      "Epoch: 37 | Epoch Time: 0m 0s\n",
      "\tTrain Loss: 0.075| Train sqrt(mse): 0.27\n",
      "\n",
      "\tVal Loss: 1.374|  Val sqrt(mse): 1.17\n",
      "\n"
     ]
    },
    {
     "name": "stderr",
     "output_type": "stream",
     "text": [
      "Train: 100%|██████████| 1/1 [00:00<00:00,  2.34it/s]"
     ]
    },
    {
     "name": "stdout",
     "output_type": "stream",
     "text": [
      "Train (0,1)\n",
      "Preds\tTrue\n",
      "tensor[1] [0.784] tensor[1] cuda:0 [0.601]\n",
      "tensor[1] [0.798] tensor[1] cuda:0 [0.920]\n",
      "tensor[1] [0.413] tensor[1] cuda:0 [0.601]\n",
      "tensor[1] [0.546] tensor[1] cuda:0 [0.201]\n",
      "tensor[1] [0.997] tensor[1] cuda:0 [0.840]\n",
      "tensor[1] [1.086] tensor[1] cuda:0 [0.122]\n",
      "tensor[1] [0.967] tensor[1] cuda:0 [0.760]\n",
      "tensor[1] [0.274] tensor[1] cuda:0 [0.281]\n",
      "tensor[1] [1.016] tensor[1] cuda:0 [1.000]\n",
      "tensor[1] [0.869] tensor[1] cuda:0 [0.920]\n",
      "\n",
      "Train unscaled\n",
      "Preds\tTrue\n",
      "[514.69028788] [399.99999967]\n",
      "[523.39560425] [600.0000074]\n",
      "[282.53543787] [399.99999967]\n",
      "[365.90394397] [149.99999933]\n",
      "[648.12168686] [550.00001479]\n",
      "[703.65985209] [100.00000206]\n",
      "[629.23566849] [499.99998487]\n",
      "[195.45462118] [199.99999194]\n",
      "[659.92753352] [650.]\n",
      "[567.77297254] [600.0000074]\n",
      "\n"
     ]
    },
    {
     "name": "stderr",
     "output_type": "stream",
     "text": [
      "\n"
     ]
    },
    {
     "name": "stdout",
     "output_type": "stream",
     "text": [
      "Val unscaled\n",
      "Preds\tTrue\n",
      "[1087.98312547] [199.99999194]\n",
      "[939.87403712] [23.9]\n",
      "[901.46661613] [600.0000074]\n",
      "[1211.93358104] [499.99998487]\n",
      "[884.80414404] [350.00000706]\n",
      "[952.29937035] [399.99999967]\n",
      "[876.06609937] [499.99998487]\n",
      "[1052.50303975] [650.]\n",
      "[1077.2126424] [199.99999194]\n",
      "[1067.86272413] [399.99999967]\n",
      "\n",
      "Epoch: 38 | Epoch Time: 0m 0s\n",
      "\tTrain Loss: 0.120| Train sqrt(mse): 0.35\n",
      "\n",
      "\tVal Loss: 1.106|  Val sqrt(mse): 1.05\n",
      "\n"
     ]
    },
    {
     "name": "stderr",
     "output_type": "stream",
     "text": [
      "Train: 100%|██████████| 1/1 [00:00<00:00,  2.36it/s]"
     ]
    },
    {
     "name": "stdout",
     "output_type": "stream",
     "text": [
      "Train (0,1)\n",
      "Preds\tTrue\n",
      "tensor[1] [0.635] tensor[1] cuda:0 [0.281]\n",
      "tensor[1] [0.286] tensor[1] cuda:0 [0.201]\n",
      "tensor[1] [1.143] tensor[1] cuda:0 [0.760]\n",
      "tensor[1] [0.803] tensor[1] cuda:0 [0.601]\n",
      "tensor[1] [0.280] tensor[1] cuda:0 [0.920]\n",
      "tensor[1] [0.571] tensor[1] cuda:0 [0.122]\n",
      "tensor[1] [0.786] tensor[1] cuda:0 [1.000]\n",
      "tensor[1] [1.204] tensor[1] cuda:0 [0.840]\n",
      "tensor[1] [1.024] tensor[1] cuda:0 [0.920]\n",
      "tensor[1] [0.800] tensor[1] cuda:0 [0.601]\n",
      "\n",
      "Train unscaled\n",
      "Preds\tTrue\n",
      "[421.16468371] [199.99999194]\n",
      "[202.94122834] [149.99999933]\n",
      "[739.74942303] [499.99998487]\n",
      "[526.80076519] [399.99999967]\n",
      "[199.27616293] [600.0000074]\n",
      "[381.69532838] [100.00000206]\n",
      "[515.92433499] [650.]\n",
      "[777.75716323] [550.00001479]\n",
      "[665.09800727] [600.0000074]\n",
      "[524.78105238] [399.99999967]\n",
      "\n"
     ]
    },
    {
     "name": "stderr",
     "output_type": "stream",
     "text": [
      "\n"
     ]
    },
    {
     "name": "stdout",
     "output_type": "stream",
     "text": [
      "Val unscaled\n",
      "Preds\tTrue\n",
      "[994.45677493] [199.99999194]\n",
      "[789.49732938] [23.9]\n",
      "[821.39887255] [600.0000074]\n",
      "[1110.08991424] [499.99998487]\n",
      "[802.958474] [350.00000706]\n",
      "[890.28548063] [399.99999967]\n",
      "[711.58256286] [499.99998487]\n",
      "[914.0862293] [650.]\n",
      "[997.18236656] [199.99999194]\n",
      "[956.18967137] [399.99999967]\n",
      "\n",
      "Epoch: 39 | Epoch Time: 0m 0s\n",
      "\tTrain Loss: 0.116| Train sqrt(mse): 0.34\n",
      "\n",
      "\tVal Loss: 0.802|  Val sqrt(mse): 0.90\n",
      "\n"
     ]
    },
    {
     "name": "stderr",
     "output_type": "stream",
     "text": [
      "Train: 100%|██████████| 1/1 [00:00<00:00,  2.40it/s]"
     ]
    },
    {
     "name": "stdout",
     "output_type": "stream",
     "text": [
      "Train (0,1)\n",
      "Preds\tTrue\n",
      "tensor[1] [0.412] tensor[1] cuda:0 [0.601]\n",
      "tensor[1] [0.637] tensor[1] cuda:0 [0.920]\n",
      "tensor[1] [0.305] tensor[1] cuda:0 [0.122]\n",
      "tensor[1] [1.186] tensor[1] cuda:0 [0.920]\n",
      "tensor[1] [1.131] tensor[1] cuda:0 [0.840]\n",
      "tensor[1] [0.748] tensor[1] cuda:0 [1.000]\n",
      "tensor[1] [0.412] tensor[1] cuda:0 [0.281]\n",
      "tensor[1] [1.063] tensor[1] cuda:0 [0.760]\n",
      "tensor[1] [0.291] tensor[1] cuda:0 [0.201]\n",
      "tensor[1] [0.211] tensor[1] cuda:0 [0.601]\n",
      "\n",
      "Train unscaled\n",
      "Preds\tTrue\n",
      "[281.80494752] [399.99999967]\n",
      "[422.7521367] [600.0000074]\n",
      "[214.98432716] [100.00000206]\n",
      "[766.6921628] [600.0000074]\n",
      "[731.86828502] [550.00001479]\n",
      "[492.09921736] [650.]\n",
      "[281.7202346] [199.99999194]\n",
      "[689.688564] [499.99998487]\n",
      "[205.80038277] [149.99999933]\n",
      "[156.09271506] [399.99999967]\n",
      "\n"
     ]
    },
    {
     "name": "stderr",
     "output_type": "stream",
     "text": [
      "\n"
     ]
    },
    {
     "name": "stdout",
     "output_type": "stream",
     "text": [
      "Val unscaled\n",
      "Preds\tTrue\n",
      "[896.34196945] [199.99999194]\n",
      "[655.8723595] [23.9]\n",
      "[765.04544808] [600.0000074]\n",
      "[1072.27175186] [499.99998487]\n",
      "[745.97697971] [350.00000706]\n",
      "[850.12774885] [399.99999967]\n",
      "[585.25208467] [499.99998487]\n",
      "[846.79901613] [650.]\n",
      "[945.1120573] [199.99999194]\n",
      "[877.09243188] [399.99999967]\n",
      "\n",
      "Epoch: 40 | Epoch Time: 0m 0s\n",
      "\tTrain Loss: 0.064| Train sqrt(mse): 0.25\n",
      "\n",
      "\tVal Loss: 0.619|  Val sqrt(mse): 0.79\n",
      "\n"
     ]
    },
    {
     "name": "stderr",
     "output_type": "stream",
     "text": [
      "Train: 100%|██████████| 1/1 [00:00<00:00,  2.37it/s]"
     ]
    },
    {
     "name": "stdout",
     "output_type": "stream",
     "text": [
      "Train (0,1)\n",
      "Preds\tTrue\n",
      "tensor[1] [1.046] tensor[1] cuda:0 [0.920]\n",
      "tensor[1] [0.612] tensor[1] cuda:0 [0.281]\n",
      "tensor[1] [-0.116] tensor[1] cuda:0 [0.601]\n",
      "tensor[1] [0.479] tensor[1] cuda:0 [0.920]\n",
      "tensor[1] [0.903] tensor[1] cuda:0 [0.760]\n",
      "tensor[1] [0.919] tensor[1] cuda:0 [1.000]\n",
      "tensor[1] [0.531] tensor[1] cuda:0 [0.601]\n",
      "tensor[1] [-0.272] tensor[1] cuda:0 [0.122]\n",
      "tensor[1] [0.160] tensor[1] cuda:0 [0.201]\n",
      "tensor[1] [0.882] tensor[1] cuda:0 [0.840]\n",
      "\n",
      "Train unscaled\n",
      "Preds\tTrue\n",
      "[678.92114104] [600.0000074]\n",
      "[407.34979732] [199.99999194]\n",
      "[-48.94960548] [399.99999967]\n",
      "[323.75980611] [600.0000074]\n",
      "[589.26702938] [499.99998487]\n",
      "[599.29383003] [650.]\n",
      "[356.41318581] [399.99999967]\n",
      "[-146.12249281] [100.00000206]\n",
      "[123.84174041] [149.99999933]\n",
      "[576.12223341] [550.00001479]\n",
      "\n"
     ]
    },
    {
     "name": "stderr",
     "output_type": "stream",
     "text": [
      "\n"
     ]
    },
    {
     "name": "stdout",
     "output_type": "stream",
     "text": [
      "Val unscaled\n",
      "Preds\tTrue\n",
      "[865.1576126] [199.99999194]\n",
      "[577.29910862] [23.9]\n",
      "[726.51002474] [600.0000074]\n",
      "[1076.9420835] [499.99998487]\n",
      "[678.73410088] [350.00000706]\n",
      "[837.32870848] [399.99999967]\n",
      "[497.66616251] [499.99998487]\n",
      "[860.82441599] [650.]\n",
      "[921.91183742] [199.99999194]\n",
      "[917.32547233] [399.99999967]\n",
      "\n",
      "Epoch: 41 | Epoch Time: 0m 0s\n",
      "\tTrain Loss: 0.102| Train sqrt(mse): 0.32\n",
      "\n",
      "\tVal Loss: 0.569|  Val sqrt(mse): 0.75\n",
      "\n"
     ]
    },
    {
     "name": "stderr",
     "output_type": "stream",
     "text": [
      "Train: 100%|██████████| 1/1 [00:00<00:00,  2.39it/s]"
     ]
    },
    {
     "name": "stdout",
     "output_type": "stream",
     "text": [
      "Train (0,1)\n",
      "Preds\tTrue\n",
      "tensor[1] [0.461] tensor[1] cuda:0 [1.000]\n",
      "tensor[1] [0.946] tensor[1] cuda:0 [0.601]\n",
      "tensor[1] [0.164] tensor[1] cuda:0 [0.201]\n",
      "tensor[1] [0.229] tensor[1] cuda:0 [0.601]\n",
      "tensor[1] [0.949] tensor[1] cuda:0 [0.920]\n",
      "tensor[1] [-0.075] tensor[1] cuda:0 [0.122]\n",
      "tensor[1] [0.725] tensor[1] cuda:0 [0.760]\n",
      "tensor[1] [0.240] tensor[1] cuda:0 [0.281]\n",
      "tensor[1] [0.603] tensor[1] cuda:0 [0.840]\n",
      "tensor[1] [0.190] tensor[1] cuda:0 [0.920]\n",
      "\n",
      "Train unscaled\n",
      "Preds\tTrue\n",
      "[312.24550999] [650.]\n",
      "[615.99914372] [399.99999967]\n",
      "[126.64028032] [149.99999933]\n",
      "[167.32931513] [399.99999967]\n",
      "[618.18585668] [600.0000074]\n",
      "[-23.2125601] [100.00000206]\n",
      "[478.03556606] [499.99998487]\n",
      "[174.06178136] [199.99999194]\n",
      "[401.36454945] [550.00001479]\n",
      "[142.62251137] [600.0000074]\n",
      "\n"
     ]
    },
    {
     "name": "stderr",
     "output_type": "stream",
     "text": [
      "\n"
     ]
    },
    {
     "name": "stdout",
     "output_type": "stream",
     "text": [
      "Val unscaled\n",
      "Preds\tTrue\n",
      "[831.08995626] [199.99999194]\n",
      "[566.76690396] [23.9]\n",
      "[696.13995686] [600.0000074]\n",
      "[1119.54335394] [499.99998487]\n",
      "[618.47962766] [350.00000706]\n",
      "[778.78737686] [399.99999967]\n",
      "[451.83076168] [499.99998487]\n",
      "[949.01086694] [650.]\n",
      "[915.41752833] [199.99999194]\n",
      "[1006.96204431] [399.99999967]\n",
      "\n",
      "Epoch: 42 | Epoch Time: 0m 0s\n",
      "\tTrain Loss: 0.118| Train sqrt(mse): 0.34\n",
      "\n",
      "\tVal Loss: 0.580|  Val sqrt(mse): 0.76\n",
      "\n"
     ]
    },
    {
     "name": "stderr",
     "output_type": "stream",
     "text": [
      "Train: 100%|██████████| 1/1 [00:00<00:00,  2.41it/s]"
     ]
    },
    {
     "name": "stdout",
     "output_type": "stream",
     "text": [
      "Train (0,1)\n",
      "Preds\tTrue\n",
      "tensor[1] [0.104] tensor[1] cuda:0 [0.201]\n",
      "tensor[1] [-0.333] tensor[1] cuda:0 [0.122]\n",
      "tensor[1] [0.573] tensor[1] cuda:0 [1.000]\n",
      "tensor[1] [1.266] tensor[1] cuda:0 [0.920]\n",
      "tensor[1] [0.243] tensor[1] cuda:0 [0.601]\n",
      "tensor[1] [0.420] tensor[1] cuda:0 [0.760]\n",
      "tensor[1] [0.613] tensor[1] cuda:0 [0.601]\n",
      "tensor[1] [0.134] tensor[1] cuda:0 [0.840]\n",
      "tensor[1] [0.909] tensor[1] cuda:0 [0.920]\n",
      "tensor[1] [0.385] tensor[1] cuda:0 [0.281]\n",
      "\n",
      "Train unscaled\n",
      "Preds\tTrue\n",
      "[89.17667604] [149.99999933]\n",
      "[-184.82918926] [100.00000206]\n",
      "[382.7990594] [650.]\n",
      "[816.36102864] [600.0000074]\n",
      "[175.92296532] [399.99999967]\n",
      "[286.85437882] [499.99998487]\n",
      "[407.77380975] [399.99999967]\n",
      "[107.77820174] [550.00001479]\n",
      "[592.9245378] [600.0000074]\n",
      "[265.18376831] [199.99999194]\n",
      "\n"
     ]
    },
    {
     "name": "stderr",
     "output_type": "stream",
     "text": [
      "\n"
     ]
    },
    {
     "name": "stdout",
     "output_type": "stream",
     "text": [
      "Val unscaled\n",
      "Preds\tTrue\n",
      "[844.69858347] [199.99999194]\n",
      "[601.66892661] [23.9]\n",
      "[730.67625852] [600.0000074]\n",
      "[1191.7711591] [499.99998487]\n",
      "[623.91987662] [350.00000706]\n",
      "[818.79837242] [399.99999967]\n",
      "[454.43697153] [499.99998487]\n",
      "[995.33219155] [650.]\n",
      "[974.28547119] [199.99999194]\n",
      "[1077.72689089] [399.99999967]\n",
      "\n",
      "Epoch: 43 | Epoch Time: 0m 0s\n",
      "\tTrain Loss: 0.127| Train sqrt(mse): 0.36\n",
      "\n",
      "\tVal Loss: 0.683|  Val sqrt(mse): 0.83\n",
      "\n"
     ]
    },
    {
     "name": "stderr",
     "output_type": "stream",
     "text": [
      "Train: 100%|██████████| 1/1 [00:00<00:00,  2.31it/s]"
     ]
    },
    {
     "name": "stdout",
     "output_type": "stream",
     "text": [
      "Train (0,1)\n",
      "Preds\tTrue\n",
      "tensor[1] [-0.175] tensor[1] cuda:0 [0.122]\n",
      "tensor[1] [0.650] tensor[1] cuda:0 [0.760]\n",
      "tensor[1] [0.072] tensor[1] cuda:0 [0.201]\n",
      "tensor[1] [1.704] tensor[1] cuda:0 [0.920]\n",
      "tensor[1] [0.803] tensor[1] cuda:0 [0.601]\n",
      "tensor[1] [0.659] tensor[1] cuda:0 [0.281]\n",
      "tensor[1] [0.436] tensor[1] cuda:0 [0.601]\n",
      "tensor[1] [1.043] tensor[1] cuda:0 [0.920]\n",
      "tensor[1] [0.433] tensor[1] cuda:0 [1.000]\n",
      "tensor[1] [0.552] tensor[1] cuda:0 [0.840]\n",
      "\n",
      "Train unscaled\n",
      "Preds\tTrue\n",
      "[-85.51060196] [100.00000206]\n",
      "[430.80426793] [499.99998487]\n",
      "[69.0237843] [149.99999933]\n",
      "[1090.95718347] [600.0000074]\n",
      "[526.56420342] [399.99999967]\n",
      "[436.7216335] [199.99999194]\n",
      "[297.03356943] [399.99999967]\n",
      "[676.75040039] [600.0000074]\n",
      "[295.170221] [650.]\n",
      "[369.59604661] [550.00001479]\n",
      "\n"
     ]
    },
    {
     "name": "stderr",
     "output_type": "stream",
     "text": [
      "\n"
     ]
    },
    {
     "name": "stdout",
     "output_type": "stream",
     "text": [
      "Val unscaled\n",
      "Preds\tTrue\n",
      "[874.71405127] [199.99999194]\n",
      "[673.05579741] [23.9]\n",
      "[752.3118643] [600.0000074]\n",
      "[1244.13926973] [499.99998487]\n",
      "[665.8974435] [350.00000706]\n",
      "[889.52470634] [399.99999967]\n",
      "[533.15680936] [499.99998487]\n",
      "[988.16682177] [650.]\n",
      "[977.81445481] [199.99999194]\n",
      "[1103.52671525] [399.99999967]\n",
      "\n",
      "Epoch: 44 | Epoch Time: 0m 0s\n",
      "\tTrain Loss: 0.136| Train sqrt(mse): 0.37\n",
      "\n",
      "\tVal Loss: 0.767|  Val sqrt(mse): 0.88\n",
      "\n"
     ]
    },
    {
     "name": "stderr",
     "output_type": "stream",
     "text": [
      "Train: 100%|██████████| 1/1 [00:00<00:00,  2.46it/s]"
     ]
    },
    {
     "name": "stdout",
     "output_type": "stream",
     "text": [
      "Train (0,1)\n",
      "Preds\tTrue\n",
      "tensor[1] [0.229] tensor[1] cuda:0 [0.601]\n",
      "tensor[1] [-0.287] tensor[1] cuda:0 [0.122]\n",
      "tensor[1] [1.267] tensor[1] cuda:0 [0.601]\n",
      "tensor[1] [0.359] tensor[1] cuda:0 [0.281]\n",
      "tensor[1] [0.669] tensor[1] cuda:0 [1.000]\n",
      "tensor[1] [0.422] tensor[1] cuda:0 [0.840]\n",
      "tensor[1] [0.708] tensor[1] cuda:0 [0.760]\n",
      "tensor[1] [-0.033] tensor[1] cuda:0 [0.201]\n",
      "tensor[1] [0.900] tensor[1] cuda:0 [0.920]\n",
      "tensor[1] [1.549] tensor[1] cuda:0 [0.920]\n",
      "\n",
      "Train unscaled\n",
      "Preds\tTrue\n",
      "[167.51986323] [399.99999967]\n",
      "[-155.81521853] [100.00000206]\n",
      "[816.98768035] [399.99999967]\n",
      "[248.84529516] [199.99999194]\n",
      "[442.78965373] [650.]\n",
      "[288.42149325] [550.00001479]\n",
      "[467.01740031] [499.99998487]\n",
      "[3.42597585] [149.99999933]\n",
      "[587.69771316] [600.0000074]\n",
      "[993.69346298] [600.0000074]\n",
      "\n"
     ]
    },
    {
     "name": "stderr",
     "output_type": "stream",
     "text": [
      "\n"
     ]
    },
    {
     "name": "stdout",
     "output_type": "stream",
     "text": [
      "Val unscaled\n",
      "Preds\tTrue\n",
      "[964.23411499] [199.99999194]\n",
      "[784.67227536] [23.9]\n",
      "[821.96835238] [600.0000074]\n",
      "[1287.24359312] [499.99998487]\n",
      "[769.15861499] [350.00000706]\n",
      "[981.54421178] [399.99999967]\n",
      "[655.11009247] [499.99998487]\n",
      "[1010.55237949] [650.]\n",
      "[1031.97952431] [199.99999194]\n",
      "[1115.73261589] [399.99999967]\n",
      "\n",
      "Epoch: 45 | Epoch Time: 0m 0s\n",
      "\tTrain Loss: 0.149| Train sqrt(mse): 0.39\n",
      "\n",
      "\tVal Loss: 0.945|  Val sqrt(mse): 0.97\n",
      "\n"
     ]
    },
    {
     "name": "stderr",
     "output_type": "stream",
     "text": [
      "Train: 100%|██████████| 1/1 [00:00<00:00,  2.42it/s]"
     ]
    },
    {
     "name": "stdout",
     "output_type": "stream",
     "text": [
      "Train (0,1)\n",
      "Preds\tTrue\n",
      "tensor[1] [0.628] tensor[1] cuda:0 [0.281]\n",
      "tensor[1] [1.360] tensor[1] cuda:0 [0.920]\n",
      "tensor[1] [0.198] tensor[1] cuda:0 [0.122]\n",
      "tensor[1] [1.157] tensor[1] cuda:0 [1.000]\n",
      "tensor[1] [0.835] tensor[1] cuda:0 [0.840]\n",
      "tensor[1] [0.889] tensor[1] cuda:0 [0.920]\n",
      "tensor[1] [0.293] tensor[1] cuda:0 [0.601]\n",
      "tensor[1] [0.751] tensor[1] cuda:0 [0.201]\n",
      "tensor[1] [0.763] tensor[1] cuda:0 [0.601]\n",
      "tensor[1] [1.189] tensor[1] cuda:0 [0.760]\n",
      "\n",
      "Train unscaled\n",
      "Preds\tTrue\n",
      "[417.31364171] [199.99999194]\n",
      "[875.64514705] [600.0000074]\n",
      "[147.96058237] [100.00000206]\n",
      "[748.25930258] [650.]\n",
      "[546.9313918] [550.00001479]\n",
      "[580.29552038] [600.0000074]\n",
      "[207.47935931] [399.99999967]\n",
      "[493.86494067] [149.99999933]\n",
      "[501.43439483] [399.99999967]\n",
      "[768.52942562] [499.99998487]\n",
      "\n"
     ]
    },
    {
     "name": "stderr",
     "output_type": "stream",
     "text": [
      "\n"
     ]
    },
    {
     "name": "stdout",
     "output_type": "stream",
     "text": [
      "Val unscaled\n",
      "Preds\tTrue\n",
      "[1022.91815244] [199.99999194]\n",
      "[810.58913045] [23.9]\n",
      "[901.44512069] [600.0000074]\n",
      "[1262.80932614] [499.99998487]\n",
      "[861.60407343] [350.00000706]\n",
      "[1043.63744056] [399.99999967]\n",
      "[669.79916397] [499.99998487]\n",
      "[996.93584076] [650.]\n",
      "[1080.5259999] [199.99999194]\n",
      "[1096.513157] [399.99999967]\n",
      "\n",
      "Epoch: 46 | Epoch Time: 0m 0s\n",
      "\tTrain Loss: 0.095| Train sqrt(mse): 0.31\n",
      "\n",
      "\tVal Loss: 1.034|  Val sqrt(mse): 1.02\n",
      "\n"
     ]
    },
    {
     "name": "stderr",
     "output_type": "stream",
     "text": [
      "Train: 100%|██████████| 1/1 [00:00<00:00,  2.39it/s]"
     ]
    },
    {
     "name": "stdout",
     "output_type": "stream",
     "text": [
      "Train (0,1)\n",
      "Preds\tTrue\n",
      "tensor[1] [1.313] tensor[1] cuda:0 [0.920]\n",
      "tensor[1] [0.247] tensor[1] cuda:0 [0.122]\n",
      "tensor[1] [0.267] tensor[1] cuda:0 [0.201]\n",
      "tensor[1] [1.497] tensor[1] cuda:0 [0.760]\n",
      "tensor[1] [1.422] tensor[1] cuda:0 [1.000]\n",
      "tensor[1] [0.388] tensor[1] cuda:0 [0.281]\n",
      "tensor[1] [1.280] tensor[1] cuda:0 [0.840]\n",
      "tensor[1] [1.004] tensor[1] cuda:0 [0.601]\n",
      "tensor[1] [0.680] tensor[1] cuda:0 [0.601]\n",
      "tensor[1] [0.830] tensor[1] cuda:0 [0.920]\n",
      "\n",
      "Train unscaled\n",
      "Preds\tTrue\n",
      "[845.81821215] [600.0000074]\n",
      "[178.7351358] [100.00000206]\n",
      "[190.84276758] [149.99999933]\n",
      "[961.28991177] [499.99998487]\n",
      "[914.19602023] [650.]\n",
      "[267.12266798] [199.99999194]\n",
      "[825.1079551] [550.00001479]\n",
      "[652.3215819] [399.99999967]\n",
      "[449.68715155] [399.99999967]\n",
      "[543.47861249] [600.0000074]\n",
      "\n"
     ]
    },
    {
     "name": "stderr",
     "output_type": "stream",
     "text": [
      "\n"
     ]
    },
    {
     "name": "stdout",
     "output_type": "stream",
     "text": [
      "Val unscaled\n",
      "Preds\tTrue\n",
      "[993.43887639] [199.99999194]\n",
      "[742.77303995] [23.9]\n",
      "[890.96072099] [600.0000074]\n",
      "[1182.61514759] [499.99998487]\n",
      "[855.85688007] [350.00000706]\n",
      "[1029.12548251] [399.99999967]\n",
      "[635.34541076] [499.99998487]\n",
      "[926.82809777] [650.]\n",
      "[1055.72295182] [199.99999194]\n",
      "[1073.2924866] [399.99999967]\n",
      "\n",
      "Epoch: 47 | Epoch Time: 0m 0s\n",
      "\tTrain Loss: 0.128| Train sqrt(mse): 0.36\n",
      "\n",
      "\tVal Loss: 0.926|  Val sqrt(mse): 0.96\n",
      "\n"
     ]
    },
    {
     "name": "stderr",
     "output_type": "stream",
     "text": [
      "Train: 100%|██████████| 1/1 [00:00<00:00,  2.39it/s]"
     ]
    },
    {
     "name": "stdout",
     "output_type": "stream",
     "text": [
      "Train (0,1)\n",
      "Preds\tTrue\n",
      "tensor[1] [0.482] tensor[1] cuda:0 [0.281]\n",
      "tensor[1] [1.262] tensor[1] cuda:0 [0.840]\n",
      "tensor[1] [1.349] tensor[1] cuda:0 [0.760]\n",
      "tensor[1] [0.764] tensor[1] cuda:0 [0.201]\n",
      "tensor[1] [0.347] tensor[1] cuda:0 [0.920]\n",
      "tensor[1] [1.147] tensor[1] cuda:0 [1.000]\n",
      "tensor[1] [0.824] tensor[1] cuda:0 [0.601]\n",
      "tensor[1] [0.309] tensor[1] cuda:0 [0.122]\n",
      "tensor[1] [1.071] tensor[1] cuda:0 [0.920]\n",
      "tensor[1] [0.192] tensor[1] cuda:0 [0.601]\n",
      "\n",
      "Train unscaled\n",
      "Preds\tTrue\n",
      "[325.49673823] [199.99999194]\n",
      "[814.2961978] [550.00001479]\n",
      "[868.63091706] [499.99998487]\n",
      "[501.97054926] [149.99999933]\n",
      "[240.91499007] [600.0000074]\n",
      "[742.17183943] [650.]\n",
      "[539.57107034] [399.99999967]\n",
      "[217.48770597] [100.00000206]\n",
      "[694.20969641] [600.0000074]\n",
      "[143.98710781] [399.99999967]\n",
      "\n"
     ]
    },
    {
     "name": "stderr",
     "output_type": "stream",
     "text": [
      "\n"
     ]
    },
    {
     "name": "stdout",
     "output_type": "stream",
     "text": [
      "Val unscaled\n",
      "Preds\tTrue\n",
      "[944.23746169] [199.99999194]\n",
      "[638.35189851] [23.9]\n",
      "[837.64867703] [600.0000074]\n",
      "[1116.05407717] [499.99998487]\n",
      "[801.85093651] [350.00000706]\n",
      "[967.43193452] [399.99999967]\n",
      "[548.27840191] [499.99998487]\n",
      "[884.18615021] [650.]\n",
      "[1005.45161663] [199.99999194]\n",
      "[1039.48016322] [399.99999967]\n",
      "\n",
      "Epoch: 48 | Epoch Time: 0m 0s\n",
      "\tTrain Loss: 0.151| Train sqrt(mse): 0.39\n",
      "\n",
      "\tVal Loss: 0.767|  Val sqrt(mse): 0.88\n",
      "\n"
     ]
    },
    {
     "name": "stderr",
     "output_type": "stream",
     "text": [
      "Train: 100%|██████████| 1/1 [00:00<00:00,  2.47it/s]"
     ]
    },
    {
     "name": "stdout",
     "output_type": "stream",
     "text": [
      "Train (0,1)\n",
      "Preds\tTrue\n",
      "tensor[1] [0.196] tensor[1] cuda:0 [0.201]\n",
      "tensor[1] [-0.036] tensor[1] cuda:0 [0.122]\n",
      "tensor[1] [0.892] tensor[1] cuda:0 [1.000]\n",
      "tensor[1] [0.623] tensor[1] cuda:0 [0.920]\n",
      "tensor[1] [0.967] tensor[1] cuda:0 [0.920]\n",
      "tensor[1] [1.046] tensor[1] cuda:0 [0.760]\n",
      "tensor[1] [0.402] tensor[1] cuda:0 [0.281]\n",
      "tensor[1] [0.163] tensor[1] cuda:0 [0.601]\n",
      "tensor[1] [0.736] tensor[1] cuda:0 [0.601]\n",
      "tensor[1] [1.132] tensor[1] cuda:0 [0.840]\n",
      "\n",
      "Train unscaled\n",
      "Preds\tTrue\n",
      "[146.81881451] [149.99999933]\n",
      "[1.09826206] [100.00000206]\n",
      "[582.10565267] [650.]\n",
      "[413.77715708] [600.0000074]\n",
      "[629.28171948] [600.0000074]\n",
      "[678.74940145] [499.99998487]\n",
      "[275.46916728] [199.99999194]\n",
      "[125.67417049] [399.99999967]\n",
      "[484.65358588] [399.99999967]\n",
      "[732.92895052] [550.00001479]\n",
      "\n"
     ]
    },
    {
     "name": "stderr",
     "output_type": "stream",
     "text": [
      "\n"
     ]
    },
    {
     "name": "stdout",
     "output_type": "stream",
     "text": [
      "Val unscaled\n",
      "Preds\tTrue\n",
      "[859.86145024] [199.99999194]\n",
      "[544.842192] [23.9]\n",
      "[758.58524806] [600.0000074]\n",
      "[1011.1388019] [499.99998487]\n",
      "[712.94252248] [350.00000706]\n",
      "[872.53136871] [399.99999967]\n",
      "[463.10407379] [499.99998487]\n",
      "[812.08470538] [650.]\n",
      "[904.35013952] [199.99999194]\n",
      "[945.90641822] [399.99999967]\n",
      "\n",
      "Epoch: 49 | Epoch Time: 0m 0s\n",
      "\tTrain Loss: 0.052| Train sqrt(mse): 0.23\n",
      "\n",
      "\tVal Loss: 0.554|  Val sqrt(mse): 0.74\n",
      "\n"
     ]
    },
    {
     "name": "stderr",
     "output_type": "stream",
     "text": [
      "Train: 100%|██████████| 1/1 [00:00<00:00,  2.44it/s]"
     ]
    },
    {
     "name": "stdout",
     "output_type": "stream",
     "text": [
      "Train (0,1)\n",
      "Preds\tTrue\n",
      "tensor[1] [0.483] tensor[1] cuda:0 [0.122]\n",
      "tensor[1] [0.104] tensor[1] cuda:0 [0.201]\n",
      "tensor[1] [0.186] tensor[1] cuda:0 [0.920]\n",
      "tensor[1] [0.122] tensor[1] cuda:0 [0.281]\n",
      "tensor[1] [0.807] tensor[1] cuda:0 [0.760]\n",
      "tensor[1] [1.479] tensor[1] cuda:0 [0.920]\n",
      "tensor[1] [0.913] tensor[1] cuda:0 [0.840]\n",
      "tensor[1] [0.523] tensor[1] cuda:0 [0.601]\n",
      "tensor[1] [0.722] tensor[1] cuda:0 [1.000]\n",
      "tensor[1] [0.246] tensor[1] cuda:0 [0.601]\n",
      "\n",
      "Train unscaled\n",
      "Preds\tTrue\n",
      "[326.03097076] [100.00000206]\n",
      "[89.16057312] [149.99999933]\n",
      "[140.15339091] [600.0000074]\n",
      "[100.0108664] [199.99999194]\n",
      "[529.11156206] [499.99998487]\n",
      "[949.68789859] [600.0000074]\n",
      "[595.24921713] [550.00001479]\n",
      "[351.27771677] [399.99999967]\n",
      "[476.20890169] [650.]\n",
      "[177.77941916] [399.99999967]\n",
      "\n"
     ]
    },
    {
     "name": "stderr",
     "output_type": "stream",
     "text": [
      "\n"
     ]
    },
    {
     "name": "stdout",
     "output_type": "stream",
     "text": [
      "Val unscaled\n",
      "Preds\tTrue\n",
      "[728.34922812] [199.99999194]\n",
      "[427.50755445] [23.9]\n",
      "[659.04480247] [600.0000074]\n",
      "[887.09803563] [499.99998487]\n",
      "[608.27817658] [350.00000706]\n",
      "[744.75920346] [399.99999967]\n",
      "[351.85253314] [499.99998487]\n",
      "[726.6528052] [650.]\n",
      "[780.35676771] [199.99999194]\n",
      "[847.64913083] [399.99999967]\n",
      "\n",
      "Epoch: 50 | Epoch Time: 0m 0s\n",
      "\tTrain Loss: 0.123| Train sqrt(mse): 0.35\n",
      "\n",
      "\tVal Loss: 0.343|  Val sqrt(mse): 0.59\n",
      "\n"
     ]
    },
    {
     "name": "stderr",
     "output_type": "stream",
     "text": [
      "Train: 100%|██████████| 1/1 [00:00<00:00,  2.54it/s]"
     ]
    },
    {
     "name": "stdout",
     "output_type": "stream",
     "text": [
      "Train (0,1)\n",
      "Preds\tTrue\n",
      "tensor[1] [-0.043] tensor[1] cuda:0 [0.201]\n",
      "tensor[1] [0.504] tensor[1] cuda:0 [0.281]\n",
      "tensor[1] [0.498] tensor[1] cuda:0 [0.760]\n",
      "tensor[1] [0.505] tensor[1] cuda:0 [0.840]\n",
      "tensor[1] [0.396] tensor[1] cuda:0 [0.601]\n",
      "tensor[1] [0.739] tensor[1] cuda:0 [0.920]\n",
      "tensor[1] [0.613] tensor[1] cuda:0 [0.920]\n",
      "tensor[1] [0.471] tensor[1] cuda:0 [0.122]\n",
      "tensor[1] [0.494] tensor[1] cuda:0 [0.601]\n",
      "tensor[1] [0.197] tensor[1] cuda:0 [1.000]\n",
      "\n",
      "Train unscaled\n",
      "Preds\tTrue\n",
      "[-3.30214977] [149.99999933]\n",
      "[339.55300047] [199.99999194]\n",
      "[335.57235143] [499.99998487]\n",
      "[340.17550983] [550.00001479]\n",
      "[272.06294276] [399.99999967]\n",
      "[486.34153751] [600.0000074]\n",
      "[407.53258318] [600.0000074]\n",
      "[318.82507312] [100.00000206]\n",
      "[333.20598737] [399.99999967]\n",
      "[146.94423255] [650.]\n",
      "\n"
     ]
    },
    {
     "name": "stderr",
     "output_type": "stream",
     "text": [
      "Train: 100%|██████████| 1/1 [00:00<00:00,  2.09it/s]\n"
     ]
    },
    {
     "name": "stdout",
     "output_type": "stream",
     "text": [
      "Val unscaled\n",
      "Preds\tTrue\n",
      "[683.42406204] [199.99999194]\n",
      "[418.10729357] [23.9]\n",
      "[608.38139946] [600.0000074]\n",
      "[813.0366995] [499.99998487]\n",
      "[577.08273614] [350.00000706]\n",
      "[688.75388565] [399.99999967]\n",
      "[340.44375498] [499.99998487]\n",
      "[717.42133574] [650.]\n",
      "[726.4048613] [199.99999194]\n",
      "[792.65185949] [399.99999967]\n",
      "\n",
      "Epoch: 51 | Epoch Time: 0m 0s\n",
      "\tTrain Loss: 0.124| Train sqrt(mse): 0.35\n",
      "\n",
      "\tVal Loss: 0.276|  Val sqrt(mse): 0.53\n",
      "\n"
     ]
    },
    {
     "name": "stderr",
     "output_type": "stream",
     "text": [
      "Train: 100%|██████████| 1/1 [00:00<00:00,  2.48it/s]"
     ]
    },
    {
     "name": "stdout",
     "output_type": "stream",
     "text": [
      "Train (0,1)\n",
      "Preds\tTrue\n",
      "tensor[1] [0.568] tensor[1] cuda:0 [0.760]\n",
      "tensor[1] [0.368] tensor[1] cuda:0 [1.000]\n",
      "tensor[1] [0.369] tensor[1] cuda:0 [0.601]\n",
      "tensor[1] [0.392] tensor[1] cuda:0 [0.920]\n",
      "tensor[1] [0.215] tensor[1] cuda:0 [0.201]\n",
      "tensor[1] [0.920] tensor[1] cuda:0 [0.920]\n",
      "tensor[1] [0.247] tensor[1] cuda:0 [0.601]\n",
      "tensor[1] [0.442] tensor[1] cuda:0 [0.840]\n",
      "tensor[1] [0.451] tensor[1] cuda:0 [0.122]\n",
      "tensor[1] [0.405] tensor[1] cuda:0 [0.281]\n",
      "\n",
      "Train unscaled\n",
      "Preds\tTrue\n",
      "[379.60321774] [499.99998487]\n",
      "[254.14500277] [650.]\n",
      "[254.65305639] [399.99999967]\n",
      "[269.38213329] [600.0000074]\n",
      "[158.69832782] [149.99999933]\n",
      "[599.76329635] [600.0000074]\n",
      "[178.29312653] [399.99999967]\n",
      "[300.6391492] [550.00001479]\n",
      "[306.22189873] [100.00000206]\n",
      "[277.39603174] [199.99999194]\n",
      "\n"
     ]
    },
    {
     "name": "stderr",
     "output_type": "stream",
     "text": [
      "\n"
     ]
    },
    {
     "name": "stdout",
     "output_type": "stream",
     "text": [
      "Val unscaled\n",
      "Preds\tTrue\n",
      "[702.1560671] [199.99999194]\n",
      "[469.827369] [23.9]\n",
      "[620.80841202] [600.0000074]\n",
      "[828.27084454] [499.99998487]\n",
      "[582.68252155] [350.00000706]\n",
      "[702.17308432] [399.99999967]\n",
      "[376.92628939] [499.99998487]\n",
      "[728.67434661] [650.]\n",
      "[731.33500412] [199.99999194]\n",
      "[770.57582114] [399.99999967]\n",
      "\n",
      "Epoch: 52 | Epoch Time: 0m 0s\n",
      "\tTrain Loss: 0.118| Train sqrt(mse): 0.34\n",
      "\n",
      "\tVal Loss: 0.292|  Val sqrt(mse): 0.54\n",
      "\n"
     ]
    },
    {
     "name": "stderr",
     "output_type": "stream",
     "text": [
      "Train: 100%|██████████| 1/1 [00:00<00:00,  2.48it/s]"
     ]
    },
    {
     "name": "stdout",
     "output_type": "stream",
     "text": [
      "Train (0,1)\n",
      "Preds\tTrue\n",
      "tensor[1] [0.899] tensor[1] cuda:0 [0.281]\n",
      "tensor[1] [0.175] tensor[1] cuda:0 [0.122]\n",
      "tensor[1] [0.515] tensor[1] cuda:0 [0.760]\n",
      "tensor[1] [0.273] tensor[1] cuda:0 [0.601]\n",
      "tensor[1] [0.506] tensor[1] cuda:0 [1.000]\n",
      "tensor[1] [1.072] tensor[1] cuda:0 [0.601]\n",
      "tensor[1] [0.937] tensor[1] cuda:0 [0.920]\n",
      "tensor[1] [0.503] tensor[1] cuda:0 [0.840]\n",
      "tensor[1] [0.786] tensor[1] cuda:0 [0.920]\n",
      "tensor[1] [0.038] tensor[1] cuda:0 [0.201]\n",
      "\n",
      "Train unscaled\n",
      "Preds\tTrue\n",
      "[586.95977777] [199.99999194]\n",
      "[133.44201895] [100.00000206]\n",
      "[346.25547197] [499.99998487]\n",
      "[194.52858205] [399.99999967]\n",
      "[340.87564161] [650.]\n",
      "[695.13982191] [399.99999967]\n",
      "[610.41749508] [600.0000074]\n",
      "[339.0816309] [550.00001479]\n",
      "[515.7202776] [600.0000074]\n",
      "[47.84731229] [149.99999933]\n",
      "\n"
     ]
    },
    {
     "name": "stderr",
     "output_type": "stream",
     "text": [
      "\n"
     ]
    },
    {
     "name": "stdout",
     "output_type": "stream",
     "text": [
      "Val unscaled\n",
      "Preds\tTrue\n",
      "[769.38685474] [199.99999194]\n",
      "[584.63188905] [23.9]\n",
      "[684.10198933] [600.0000074]\n",
      "[868.33468306] [499.99998487]\n",
      "[639.87378296] [350.00000706]\n",
      "[752.87671664] [399.99999967]\n",
      "[494.60996657] [499.99998487]\n",
      "[726.49076841] [650.]\n",
      "[795.92551014] [199.99999194]\n",
      "[797.18023168] [399.99999967]\n",
      "\n",
      "Epoch: 53 | Epoch Time: 0m 0s\n",
      "\tTrain Loss: 0.118| Train sqrt(mse): 0.34\n",
      "\n",
      "\tVal Loss: 0.385|  Val sqrt(mse): 0.62\n",
      "\n"
     ]
    },
    {
     "name": "stderr",
     "output_type": "stream",
     "text": [
      "Train: 100%|██████████| 1/1 [00:00<00:00,  2.43it/s]"
     ]
    },
    {
     "name": "stdout",
     "output_type": "stream",
     "text": [
      "Train (0,1)\n",
      "Preds\tTrue\n",
      "tensor[1] [0.399] tensor[1] cuda:0 [0.122]\n",
      "tensor[1] [0.800] tensor[1] cuda:0 [0.920]\n",
      "tensor[1] [0.632] tensor[1] cuda:0 [0.281]\n",
      "tensor[1] [0.619] tensor[1] cuda:0 [0.760]\n",
      "tensor[1] [1.032] tensor[1] cuda:0 [0.840]\n",
      "tensor[1] [0.739] tensor[1] cuda:0 [0.920]\n",
      "tensor[1] [0.675] tensor[1] cuda:0 [1.000]\n",
      "tensor[1] [0.550] tensor[1] cuda:0 [0.201]\n",
      "tensor[1] [0.630] tensor[1] cuda:0 [0.601]\n",
      "tensor[1] [0.526] tensor[1] cuda:0 [0.601]\n",
      "\n",
      "Train unscaled\n",
      "Preds\tTrue\n",
      "[273.79573253] [100.00000206]\n",
      "[524.96279332] [600.0000074]\n",
      "[419.44430233] [199.99999194]\n",
      "[411.31104075] [499.99998487]\n",
      "[670.34819328] [550.00001479]\n",
      "[486.57362106] [600.0000074]\n",
      "[446.41768056] [650.]\n",
      "[368.50981796] [149.99999933]\n",
      "[418.38445783] [399.99999967]\n",
      "[353.35105622] [399.99999967]\n",
      "\n"
     ]
    },
    {
     "name": "stderr",
     "output_type": "stream",
     "text": [
      "\n"
     ]
    },
    {
     "name": "stdout",
     "output_type": "stream",
     "text": [
      "Val unscaled\n",
      "Preds\tTrue\n",
      "[821.05076588] [199.99999194]\n",
      "[687.06850899] [23.9]\n",
      "[736.82044574] [600.0000074]\n",
      "[918.17730368] [499.99998487]\n",
      "[679.21461347] [350.00000706]\n",
      "[840.63773705] [399.99999967]\n",
      "[608.18111125] [499.99998487]\n",
      "[752.85843059] [650.]\n",
      "[839.4828051] [199.99999194]\n",
      "[826.50000859] [399.99999967]\n",
      "\n",
      "Epoch: 54 | Epoch Time: 0m 0s\n",
      "\tTrain Loss: 0.054| Train sqrt(mse): 0.23\n",
      "\n",
      "\tVal Loss: 0.494|  Val sqrt(mse): 0.70\n",
      "\n"
     ]
    },
    {
     "name": "stderr",
     "output_type": "stream",
     "text": [
      "Train: 100%|██████████| 1/1 [00:00<00:00,  2.42it/s]"
     ]
    },
    {
     "name": "stdout",
     "output_type": "stream",
     "text": [
      "Train (0,1)\n",
      "Preds\tTrue\n",
      "tensor[1] [0.734] tensor[1] cuda:0 [0.601]\n",
      "tensor[1] [0.365] tensor[1] cuda:0 [0.281]\n",
      "tensor[1] [0.679] tensor[1] cuda:0 [0.201]\n",
      "tensor[1] [0.853] tensor[1] cuda:0 [0.601]\n",
      "tensor[1] [0.731] tensor[1] cuda:0 [0.920]\n",
      "tensor[1] [0.861] tensor[1] cuda:0 [1.000]\n",
      "tensor[1] [0.357] tensor[1] cuda:0 [0.920]\n",
      "tensor[1] [0.356] tensor[1] cuda:0 [0.122]\n",
      "tensor[1] [0.966] tensor[1] cuda:0 [0.840]\n",
      "tensor[1] [0.832] tensor[1] cuda:0 [0.760]\n",
      "\n",
      "Train unscaled\n",
      "Preds\tTrue\n",
      "[483.18032739] [399.99999967]\n",
      "[252.42943547] [199.99999194]\n",
      "[449.21488634] [149.99999933]\n",
      "[557.72366886] [399.99999967]\n",
      "[481.85742502] [600.0000074]\n",
      "[563.22971028] [650.]\n",
      "[247.65218641] [600.0000074]\n",
      "[246.51781694] [100.00000206]\n",
      "[628.73742962] [550.00001479]\n",
      "[544.72866922] [499.99998487]\n",
      "\n"
     ]
    },
    {
     "name": "stderr",
     "output_type": "stream",
     "text": [
      "\n"
     ]
    },
    {
     "name": "stdout",
     "output_type": "stream",
     "text": [
      "Val unscaled\n",
      "Preds\tTrue\n",
      "[881.43406246] [199.99999194]\n",
      "[780.97692602] [23.9]\n",
      "[819.09930855] [600.0000074]\n",
      "[953.11089776] [499.99998487]\n",
      "[714.41906499] [350.00000706]\n",
      "[914.20139409] [399.99999967]\n",
      "[727.70794756] [499.99998487]\n",
      "[786.72247736] [650.]\n",
      "[895.25129991] [199.99999194]\n",
      "[828.0379773] [399.99999967]\n",
      "\n",
      "Epoch: 55 | Epoch Time: 0m 0s\n",
      "\tTrain Loss: 0.076| Train sqrt(mse): 0.28\n",
      "\n",
      "\tVal Loss: 0.619|  Val sqrt(mse): 0.79\n",
      "\n"
     ]
    },
    {
     "name": "stderr",
     "output_type": "stream",
     "text": [
      "Train: 100%|██████████| 1/1 [00:00<00:00,  2.41it/s]"
     ]
    },
    {
     "name": "stdout",
     "output_type": "stream",
     "text": [
      "Train (0,1)\n",
      "Preds\tTrue\n",
      "tensor[1] [0.748] tensor[1] cuda:0 [0.840]\n",
      "tensor[1] [1.116] tensor[1] cuda:0 [0.760]\n",
      "tensor[1] [0.806] tensor[1] cuda:0 [0.601]\n",
      "tensor[1] [0.765] tensor[1] cuda:0 [1.000]\n",
      "tensor[1] [1.009] tensor[1] cuda:0 [0.920]\n",
      "tensor[1] [0.839] tensor[1] cuda:0 [0.920]\n",
      "tensor[1] [0.516] tensor[1] cuda:0 [0.122]\n",
      "tensor[1] [0.655] tensor[1] cuda:0 [0.201]\n",
      "tensor[1] [0.632] tensor[1] cuda:0 [0.601]\n",
      "tensor[1] [0.954] tensor[1] cuda:0 [0.281]\n",
      "\n",
      "Train unscaled\n",
      "Preds\tTrue\n",
      "[492.36973893] [550.00001479]\n",
      "[722.47283822] [499.99998487]\n",
      "[528.38105304] [399.99999967]\n",
      "[503.04386572] [650.]\n",
      "[655.4324494] [600.0000074]\n",
      "[549.26416924] [600.0000074]\n",
      "[346.95537984] [100.00000206]\n",
      "[433.93215265] [149.99999933]\n",
      "[419.29584946] [399.99999967]\n",
      "[621.34941785] [199.99999194]\n",
      "\n"
     ]
    },
    {
     "name": "stderr",
     "output_type": "stream",
     "text": [
      "\n"
     ]
    },
    {
     "name": "stdout",
     "output_type": "stream",
     "text": [
      "Val unscaled\n",
      "Preds\tTrue\n",
      "[881.99786987] [199.99999194]\n",
      "[827.97498373] [23.9]\n",
      "[869.19009699] [600.0000074]\n",
      "[907.4633954] [499.99998487]\n",
      "[678.28553289] [350.00000706]\n",
      "[899.2646026] [399.99999967]\n",
      "[807.23561827] [499.99998487]\n",
      "[754.10904709] [650.]\n",
      "[896.59528722] [199.99999194]\n",
      "[764.89714448] [399.99999967]\n",
      "\n",
      "Epoch: 56 | Epoch Time: 0m 0s\n",
      "\tTrain Loss: 0.106| Train sqrt(mse): 0.33\n",
      "\n",
      "\tVal Loss: 0.620|  Val sqrt(mse): 0.79\n",
      "\n"
     ]
    },
    {
     "name": "stderr",
     "output_type": "stream",
     "text": [
      "Train: 100%|██████████| 1/1 [00:00<00:00,  2.45it/s]"
     ]
    },
    {
     "name": "stdout",
     "output_type": "stream",
     "text": [
      "Train (0,1)\n",
      "Preds\tTrue\n",
      "tensor[1] [0.808] tensor[1] cuda:0 [0.601]\n",
      "tensor[1] [0.536] tensor[1] cuda:0 [0.201]\n",
      "tensor[1] [1.011] tensor[1] cuda:0 [0.840]\n",
      "tensor[1] [1.171] tensor[1] cuda:0 [0.760]\n",
      "tensor[1] [0.522] tensor[1] cuda:0 [0.920]\n",
      "tensor[1] [0.583] tensor[1] cuda:0 [0.601]\n",
      "tensor[1] [0.290] tensor[1] cuda:0 [0.122]\n",
      "tensor[1] [0.870] tensor[1] cuda:0 [1.000]\n",
      "tensor[1] [0.347] tensor[1] cuda:0 [0.281]\n",
      "tensor[1] [0.578] tensor[1] cuda:0 [0.920]\n",
      "\n",
      "Train unscaled\n",
      "Preds\tTrue\n",
      "[529.78695169] [399.99999967]\n",
      "[359.38981878] [149.99999933]\n",
      "[657.09282268] [550.00001479]\n",
      "[756.79702171] [499.99998487]\n",
      "[350.70778913] [600.0000074]\n",
      "[388.82274529] [399.99999967]\n",
      "[205.75744787] [100.00000206]\n",
      "[568.33233906] [650.]\n",
      "[240.9041304] [199.99999194]\n",
      "[385.57734471] [600.0000074]\n",
      "\n"
     ]
    },
    {
     "name": "stderr",
     "output_type": "stream",
     "text": [
      "\n"
     ]
    },
    {
     "name": "stdout",
     "output_type": "stream",
     "text": [
      "Val unscaled\n",
      "Preds\tTrue\n",
      "[877.21565746] [199.99999194]\n",
      "[879.0616528] [23.9]\n",
      "[825.24775008] [600.0000074]\n",
      "[858.35624715] [499.99998487]\n",
      "[660.47507008] [350.00000706]\n",
      "[897.95606784] [399.99999967]\n",
      "[858.36893543] [499.99998487]\n",
      "[782.27687753] [650.]\n",
      "[857.99716885] [199.99999194]\n",
      "[725.97958003] [399.99999967]\n",
      "\n",
      "Epoch: 57 | Epoch Time: 0m 0s\n",
      "\tTrain Loss: 0.068| Train sqrt(mse): 0.26\n",
      "\n",
      "\tVal Loss: 0.612|  Val sqrt(mse): 0.78\n",
      "\n"
     ]
    },
    {
     "name": "stderr",
     "output_type": "stream",
     "text": [
      "Train: 100%|██████████| 1/1 [00:00<00:00,  2.41it/s]"
     ]
    },
    {
     "name": "stdout",
     "output_type": "stream",
     "text": [
      "Train (0,1)\n",
      "Preds\tTrue\n",
      "tensor[1] [1.141] tensor[1] cuda:0 [0.760]\n",
      "tensor[1] [0.814] tensor[1] cuda:0 [0.920]\n",
      "tensor[1] [0.297] tensor[1] cuda:0 [0.122]\n",
      "tensor[1] [0.446] tensor[1] cuda:0 [0.201]\n",
      "tensor[1] [1.001] tensor[1] cuda:0 [1.000]\n",
      "tensor[1] [0.642] tensor[1] cuda:0 [0.281]\n",
      "tensor[1] [0.654] tensor[1] cuda:0 [0.920]\n",
      "tensor[1] [0.134] tensor[1] cuda:0 [0.601]\n",
      "tensor[1] [1.058] tensor[1] cuda:0 [0.840]\n",
      "tensor[1] [0.677] tensor[1] cuda:0 [0.601]\n",
      "\n",
      "Train unscaled\n",
      "Preds\tTrue\n",
      "[738.17607641] [499.99998487]\n",
      "[533.6903515] [600.0000074]\n",
      "[209.73124897] [100.00000206]\n",
      "[303.34044652] [149.99999933]\n",
      "[650.57007692] [650.]\n",
      "[425.64151909] [199.99999194]\n",
      "[433.08024666] [600.0000074]\n",
      "[107.58056313] [399.99999967]\n",
      "[686.37042973] [550.00001479]\n",
      "[447.80040444] [399.99999967]\n",
      "\n"
     ]
    },
    {
     "name": "stderr",
     "output_type": "stream",
     "text": [
      "\n"
     ]
    },
    {
     "name": "stdout",
     "output_type": "stream",
     "text": [
      "Val unscaled\n",
      "Preds\tTrue\n",
      "[824.05176781] [199.99999194]\n",
      "[894.61830405] [23.9]\n",
      "[824.00011905] [600.0000074]\n",
      "[754.8254124] [499.99998487]\n",
      "[624.67408286] [350.00000706]\n",
      "[868.75190353] [399.99999967]\n",
      "[861.37889379] [499.99998487]\n",
      "[778.86738765] [650.]\n",
      "[758.10891514] [199.99999194]\n",
      "[607.70597251] [399.99999967]\n",
      "\n",
      "Epoch: 58 | Epoch Time: 0m 0s\n",
      "\tTrain Loss: 0.072| Train sqrt(mse): 0.27\n",
      "\n",
      "\tVal Loss: 0.525|  Val sqrt(mse): 0.72\n",
      "\n"
     ]
    },
    {
     "name": "stderr",
     "output_type": "stream",
     "text": [
      "Train: 100%|██████████| 1/1 [00:00<00:00,  2.44it/s]"
     ]
    },
    {
     "name": "stdout",
     "output_type": "stream",
     "text": [
      "Train (0,1)\n",
      "Preds\tTrue\n",
      "tensor[1] [0.529] tensor[1] cuda:0 [0.601]\n",
      "tensor[1] [1.199] tensor[1] cuda:0 [0.760]\n",
      "tensor[1] [0.414] tensor[1] cuda:0 [0.281]\n",
      "tensor[1] [0.386] tensor[1] cuda:0 [0.201]\n",
      "tensor[1] [1.110] tensor[1] cuda:0 [0.840]\n",
      "tensor[1] [0.747] tensor[1] cuda:0 [0.920]\n",
      "tensor[1] [0.259] tensor[1] cuda:0 [0.920]\n",
      "tensor[1] [0.198] tensor[1] cuda:0 [0.122]\n",
      "tensor[1] [0.689] tensor[1] cuda:0 [0.601]\n",
      "tensor[1] [1.157] tensor[1] cuda:0 [1.000]\n",
      "\n",
      "Train unscaled\n",
      "Preds\tTrue\n",
      "[355.39580973] [399.99999967]\n",
      "[774.37058688] [499.99998487]\n",
      "[283.41061193] [199.99999194]\n",
      "[265.30566909] [149.99999933]\n",
      "[718.77189111] [550.00001479]\n",
      "[491.77607674] [600.0000074]\n",
      "[186.05799885] [600.0000074]\n",
      "[147.99485005] [100.00000206]\n",
      "[455.20886673] [399.99999967]\n",
      "[748.46261359] [650.]\n",
      "\n"
     ]
    },
    {
     "name": "stderr",
     "output_type": "stream",
     "text": [
      "\n"
     ]
    },
    {
     "name": "stdout",
     "output_type": "stream",
     "text": [
      "Val unscaled\n",
      "Preds\tTrue\n",
      "[756.84083359] [199.99999194]\n",
      "[841.39806352] [23.9]\n",
      "[769.87393539] [600.0000074]\n",
      "[715.77924851] [499.99998487]\n",
      "[547.74467317] [350.00000706]\n",
      "[803.88770386] [399.99999967]\n",
      "[828.33115119] [499.99998487]\n",
      "[767.08736538] [650.]\n",
      "[703.91906617] [199.99999194]\n",
      "[590.21480651] [399.99999967]\n",
      "\n",
      "Epoch: 59 | Epoch Time: 0m 0s\n",
      "\tTrain Loss: 0.083| Train sqrt(mse): 0.29\n",
      "\n",
      "\tVal Loss: 0.425|  Val sqrt(mse): 0.65\n",
      "\n"
     ]
    },
    {
     "name": "stderr",
     "output_type": "stream",
     "text": [
      "Train: 100%|██████████| 1/1 [00:00<00:00,  2.41it/s]"
     ]
    },
    {
     "name": "stdout",
     "output_type": "stream",
     "text": [
      "Train (0,1)\n",
      "Preds\tTrue\n",
      "tensor[1] [0.504] tensor[1] cuda:0 [0.601]\n",
      "tensor[1] [0.489] tensor[1] cuda:0 [0.281]\n",
      "tensor[1] [-0.031] tensor[1] cuda:0 [0.201]\n",
      "tensor[1] [0.737] tensor[1] cuda:0 [1.000]\n",
      "tensor[1] [0.869] tensor[1] cuda:0 [0.920]\n",
      "tensor[1] [0.596] tensor[1] cuda:0 [0.760]\n",
      "tensor[1] [-0.004] tensor[1] cuda:0 [0.122]\n",
      "tensor[1] [0.666] tensor[1] cuda:0 [0.840]\n",
      "tensor[1] [0.823] tensor[1] cuda:0 [0.920]\n",
      "tensor[1] [0.799] tensor[1] cuda:0 [0.601]\n",
      "\n",
      "Train unscaled\n",
      "Preds\tTrue\n",
      "[339.51403999] [399.99999967]\n",
      "[329.79565782] [199.99999194]\n",
      "[4.32903846] [149.99999933]\n",
      "[485.02501659] [650.]\n",
      "[567.9678869] [600.0000074]\n",
      "[396.78564805] [499.99998487]\n",
      "[21.68942072] [100.00000206]\n",
      "[440.97149796] [550.00001479]\n",
      "[538.99875431] [600.0000074]\n",
      "[524.31434762] [399.99999967]\n",
      "\n"
     ]
    },
    {
     "name": "stderr",
     "output_type": "stream",
     "text": [
      "\n"
     ]
    },
    {
     "name": "stdout",
     "output_type": "stream",
     "text": [
      "Val unscaled\n",
      "Preds\tTrue\n",
      "[710.42651136] [199.99999194]\n",
      "[837.36341466] [23.9]\n",
      "[722.03091292] [600.0000074]\n",
      "[715.91889422] [499.99998487]\n",
      "[503.24094455] [350.00000706]\n",
      "[784.8628981] [399.99999967]\n",
      "[803.71118751] [499.99998487]\n",
      "[749.67777755] [650.]\n",
      "[695.11437072] [199.99999194]\n",
      "[574.52466711] [399.99999967]\n",
      "\n",
      "Epoch: 60 | Epoch Time: 0m 0s\n",
      "\tTrain Loss: 0.030| Train sqrt(mse): 0.17\n",
      "\n",
      "\tVal Loss: 0.391|  Val sqrt(mse): 0.63\n",
      "\n"
     ]
    },
    {
     "name": "stderr",
     "output_type": "stream",
     "text": [
      "Train: 100%|██████████| 1/1 [00:00<00:00,  2.38it/s]"
     ]
    },
    {
     "name": "stdout",
     "output_type": "stream",
     "text": [
      "Train (0,1)\n",
      "Preds\tTrue\n",
      "tensor[1] [-0.114] tensor[1] cuda:0 [0.201]\n",
      "tensor[1] [0.180] tensor[1] cuda:0 [0.122]\n",
      "tensor[1] [0.338] tensor[1] cuda:0 [0.601]\n",
      "tensor[1] [0.233] tensor[1] cuda:0 [0.281]\n",
      "tensor[1] [1.392] tensor[1] cuda:0 [0.920]\n",
      "tensor[1] [0.572] tensor[1] cuda:0 [0.760]\n",
      "tensor[1] [0.244] tensor[1] cuda:0 [0.601]\n",
      "tensor[1] [0.669] tensor[1] cuda:0 [1.000]\n",
      "tensor[1] [0.521] tensor[1] cuda:0 [0.920]\n",
      "tensor[1] [0.539] tensor[1] cuda:0 [0.840]\n",
      "\n",
      "Train unscaled\n",
      "Preds\tTrue\n",
      "[-47.2431159] [149.99999933]\n",
      "[136.50009948] [100.00000206]\n",
      "[235.47048681] [399.99999967]\n",
      "[169.82122785] [199.99999194]\n",
      "[895.48745117] [600.0000074]\n",
      "[382.3082469] [499.99998487]\n",
      "[176.51311957] [399.99999967]\n",
      "[442.47244675] [650.]\n",
      "[349.82837943] [600.0000074]\n",
      "[361.25831715] [550.00001479]\n",
      "\n"
     ]
    },
    {
     "name": "stderr",
     "output_type": "stream",
     "text": [
      "\n"
     ]
    },
    {
     "name": "stdout",
     "output_type": "stream",
     "text": [
      "Val unscaled\n",
      "Preds\tTrue\n",
      "[715.69931235] [199.99999194]\n",
      "[844.33196684] [23.9]\n",
      "[705.56794536] [600.0000074]\n",
      "[717.63666331] [499.99998487]\n",
      "[486.01332158] [350.00000706]\n",
      "[775.94856099] [399.99999967]\n",
      "[784.14996608] [499.99998487]\n",
      "[748.87729641] [650.]\n",
      "[694.82866052] [199.99999194]\n",
      "[572.76416838] [399.99999967]\n",
      "\n",
      "Epoch: 61 | Epoch Time: 0m 0s\n",
      "\tTrain Loss: 0.092| Train sqrt(mse): 0.30\n",
      "\n",
      "\tVal Loss: 0.388|  Val sqrt(mse): 0.62\n",
      "\n"
     ]
    },
    {
     "name": "stderr",
     "output_type": "stream",
     "text": [
      "Train: 100%|██████████| 1/1 [00:00<00:00,  2.48it/s]"
     ]
    },
    {
     "name": "stdout",
     "output_type": "stream",
     "text": [
      "Train (0,1)\n",
      "Preds\tTrue\n",
      "tensor[1] [0.390] tensor[1] cuda:0 [0.601]\n",
      "tensor[1] [0.927] tensor[1] cuda:0 [0.920]\n",
      "tensor[1] [0.162] tensor[1] cuda:0 [0.281]\n",
      "tensor[1] [0.734] tensor[1] cuda:0 [0.920]\n",
      "tensor[1] [0.742] tensor[1] cuda:0 [0.601]\n",
      "tensor[1] [0.663] tensor[1] cuda:0 [1.000]\n",
      "tensor[1] [0.162] tensor[1] cuda:0 [0.201]\n",
      "tensor[1] [0.686] tensor[1] cuda:0 [0.840]\n",
      "tensor[1] [0.328] tensor[1] cuda:0 [0.122]\n",
      "tensor[1] [0.610] tensor[1] cuda:0 [0.760]\n",
      "\n",
      "Train unscaled\n",
      "Preds\tTrue\n",
      "[268.19790634] [399.99999967]\n",
      "[604.54890475] [600.0000074]\n",
      "[125.27415383] [199.99999194]\n",
      "[483.75783069] [600.0000074]\n",
      "[488.17685977] [399.99999967]\n",
      "[439.2966078] [650.]\n",
      "[125.2646936] [149.99999933]\n",
      "[453.5803261] [550.00001479]\n",
      "[229.23376844] [100.00000206]\n",
      "[405.73405693] [499.99998487]\n",
      "\n"
     ]
    },
    {
     "name": "stderr",
     "output_type": "stream",
     "text": [
      "\n"
     ]
    },
    {
     "name": "stdout",
     "output_type": "stream",
     "text": [
      "Val unscaled\n",
      "Preds\tTrue\n",
      "[748.04934888] [199.99999194]\n",
      "[897.00459617] [23.9]\n",
      "[719.46653707] [600.0000074]\n",
      "[722.15294431] [499.99998487]\n",
      "[462.14864637] [350.00000706]\n",
      "[803.16006837] [399.99999967]\n",
      "[809.8341032] [499.99998487]\n",
      "[745.23837259] [650.]\n",
      "[723.9404243] [199.99999194]\n",
      "[560.99078879] [399.99999967]\n",
      "\n",
      "Epoch: 62 | Epoch Time: 0m 0s\n",
      "\tTrain Loss: 0.032| Train sqrt(mse): 0.18\n",
      "\n",
      "\tVal Loss: 0.435|  Val sqrt(mse): 0.66\n",
      "\n"
     ]
    },
    {
     "name": "stderr",
     "output_type": "stream",
     "text": [
      "Train: 100%|██████████| 1/1 [00:00<00:00,  1.98it/s]"
     ]
    },
    {
     "name": "stdout",
     "output_type": "stream",
     "text": [
      "Train (0,1)\n",
      "Preds\tTrue\n",
      "tensor[1] [0.753] tensor[1] cuda:0 [0.840]\n",
      "tensor[1] [0.072] tensor[1] cuda:0 [0.122]\n",
      "tensor[1] [0.004] tensor[1] cuda:0 [0.201]\n",
      "tensor[1] [0.843] tensor[1] cuda:0 [0.920]\n",
      "tensor[1] [0.701] tensor[1] cuda:0 [0.601]\n",
      "tensor[1] [0.984] tensor[1] cuda:0 [1.000]\n",
      "tensor[1] [0.672] tensor[1] cuda:0 [0.601]\n",
      "tensor[1] [0.897] tensor[1] cuda:0 [0.760]\n",
      "tensor[1] [0.974] tensor[1] cuda:0 [0.920]\n",
      "tensor[1] [0.414] tensor[1] cuda:0 [0.281]\n",
      "\n",
      "Train unscaled\n",
      "Preds\tTrue\n",
      "[495.47045581] [550.00001479]\n",
      "[69.14073571] [100.00000206]\n",
      "[26.44319296] [149.99999933]\n",
      "[551.69520621] [600.0000074]\n",
      "[462.66285754] [399.99999967]\n",
      "[640.00193458] [650.]\n",
      "[444.49775733] [399.99999967]\n",
      "[585.68613577] [499.99998487]\n",
      "[633.62208123] [600.0000074]\n",
      "[283.31699855] [199.99999194]\n",
      "\n"
     ]
    },
    {
     "name": "stderr",
     "output_type": "stream",
     "text": [
      "\n"
     ]
    },
    {
     "name": "stdout",
     "output_type": "stream",
     "text": [
      "Val unscaled\n",
      "Preds\tTrue\n",
      "[786.58417512] [199.99999194]\n",
      "[966.11623461] [23.9]\n",
      "[721.48374954] [600.0000074]\n",
      "[744.73211025] [499.99998487]\n",
      "[441.2328392] [350.00000706]\n",
      "[817.11120448] [399.99999967]\n",
      "[865.82844938] [499.99998487]\n",
      "[747.199682] [650.]\n",
      "[771.42839886] [199.99999194]\n",
      "[583.03742018] [399.99999967]\n",
      "\n",
      "Epoch: 63 | Epoch Time: 0m 0s\n",
      "\tTrain Loss: 0.011| Train sqrt(mse): 0.10\n",
      "\n",
      "\tVal Loss: 0.508|  Val sqrt(mse): 0.71\n",
      "\n"
     ]
    },
    {
     "name": "stderr",
     "output_type": "stream",
     "text": [
      "Train: 100%|██████████| 1/1 [00:00<00:00,  2.45it/s]"
     ]
    },
    {
     "name": "stdout",
     "output_type": "stream",
     "text": [
      "Train (0,1)\n",
      "Preds\tTrue\n",
      "tensor[1] [0.760] tensor[1] cuda:0 [0.920]\n",
      "tensor[1] [0.862] tensor[1] cuda:0 [0.601]\n",
      "tensor[1] [0.190] tensor[1] cuda:0 [0.122]\n",
      "tensor[1] [0.837] tensor[1] cuda:0 [0.601]\n",
      "tensor[1] [0.978] tensor[1] cuda:0 [0.840]\n",
      "tensor[1] [0.496] tensor[1] cuda:0 [0.281]\n",
      "tensor[1] [0.170] tensor[1] cuda:0 [0.201]\n",
      "tensor[1] [0.848] tensor[1] cuda:0 [0.920]\n",
      "tensor[1] [0.904] tensor[1] cuda:0 [0.760]\n",
      "tensor[1] [0.825] tensor[1] cuda:0 [1.000]\n",
      "\n",
      "Train unscaled\n",
      "Preds\tTrue\n",
      "[499.84365781] [600.0000074]\n",
      "[563.30348889] [399.99999967]\n",
      "[143.05237348] [100.00000206]\n",
      "[547.96940499] [399.99999967]\n",
      "[636.10674483] [550.00001479]\n",
      "[334.55144876] [199.99999194]\n",
      "[130.11303433] [149.99999933]\n",
      "[554.53361157] [600.0000074]\n",
      "[590.12356286] [499.99998487]\n",
      "[540.49197817] [650.]\n",
      "\n"
     ]
    },
    {
     "name": "stderr",
     "output_type": "stream",
     "text": [
      "\n"
     ]
    },
    {
     "name": "stdout",
     "output_type": "stream",
     "text": [
      "Val unscaled\n",
      "Preds\tTrue\n",
      "[821.07882937] [199.99999194]\n",
      "[1012.78969629] [23.9]\n",
      "[686.2923595] [600.0000074]\n",
      "[776.03491592] [499.99998487]\n",
      "[409.91051596] [350.00000706]\n",
      "[814.20088643] [399.99999967]\n",
      "[935.71355039] [499.99998487]\n",
      "[761.85509224] [650.]\n",
      "[813.42846878] [199.99999194]\n",
      "[607.46071554] [399.99999967]\n",
      "\n",
      "Epoch: 64 | Epoch Time: 0m 0s\n",
      "\tTrain Loss: 0.028| Train sqrt(mse): 0.17\n",
      "\n",
      "\tVal Loss: 0.572|  Val sqrt(mse): 0.76\n",
      "\n"
     ]
    },
    {
     "name": "stderr",
     "output_type": "stream",
     "text": [
      "Train: 100%|██████████| 1/1 [00:00<00:00,  2.38it/s]"
     ]
    },
    {
     "name": "stdout",
     "output_type": "stream",
     "text": [
      "Train (0,1)\n",
      "Preds\tTrue\n",
      "tensor[1] [0.919] tensor[1] cuda:0 [0.601]\n",
      "tensor[1] [0.898] tensor[1] cuda:0 [0.760]\n",
      "tensor[1] [1.043] tensor[1] cuda:0 [0.840]\n",
      "tensor[1] [0.868] tensor[1] cuda:0 [0.920]\n",
      "tensor[1] [0.405] tensor[1] cuda:0 [0.601]\n",
      "tensor[1] [0.651] tensor[1] cuda:0 [0.281]\n",
      "tensor[1] [0.069] tensor[1] cuda:0 [0.122]\n",
      "tensor[1] [0.101] tensor[1] cuda:0 [0.201]\n",
      "tensor[1] [1.171] tensor[1] cuda:0 [0.920]\n",
      "tensor[1] [1.181] tensor[1] cuda:0 [1.000]\n",
      "\n",
      "Train unscaled\n",
      "Preds\tTrue\n",
      "[599.49855914] [399.99999967]\n",
      "[586.11067067] [499.99998487]\n",
      "[677.21568705] [550.00001479]\n",
      "[567.6360884] [600.0000074]\n",
      "[277.49391809] [399.99999967]\n",
      "[431.28888555] [199.99999194]\n",
      "[67.25779975] [100.00000206]\n",
      "[86.85848545] [149.99999933]\n",
      "[757.23640935] [600.0000074]\n",
      "[763.09757332] [650.]\n",
      "\n"
     ]
    },
    {
     "name": "stderr",
     "output_type": "stream",
     "text": [
      "\n"
     ]
    },
    {
     "name": "stdout",
     "output_type": "stream",
     "text": [
      "Val unscaled\n",
      "Preds\tTrue\n",
      "[824.31351955] [199.99999194]\n",
      "[1023.09765427] [23.9]\n",
      "[612.09947576] [600.0000074]\n",
      "[769.96864966] [499.99998487]\n",
      "[359.90485095] [350.00000706]\n",
      "[772.94927571] [399.99999967]\n",
      "[994.17315457] [499.99998487]\n",
      "[724.7705363] [650.]\n",
      "[828.81076814] [199.99999194]\n",
      "[614.70516316] [399.99999967]\n",
      "\n",
      "Epoch: 65 | Epoch Time: 0m 0s\n",
      "\tTrain Loss: 0.045| Train sqrt(mse): 0.21\n",
      "\n",
      "\tVal Loss: 0.585|  Val sqrt(mse): 0.76\n",
      "\n"
     ]
    },
    {
     "name": "stderr",
     "output_type": "stream",
     "text": [
      "Train: 100%|██████████| 1/1 [00:00<00:00,  2.41it/s]"
     ]
    },
    {
     "name": "stdout",
     "output_type": "stream",
     "text": [
      "Train (0,1)\n",
      "Preds\tTrue\n",
      "tensor[1] [0.286] tensor[1] cuda:0 [0.201]\n",
      "tensor[1] [0.862] tensor[1] cuda:0 [0.840]\n",
      "tensor[1] [0.417] tensor[1] cuda:0 [0.601]\n",
      "tensor[1] [0.020] tensor[1] cuda:0 [0.122]\n",
      "tensor[1] [0.768] tensor[1] cuda:0 [0.920]\n",
      "tensor[1] [0.480] tensor[1] cuda:0 [0.281]\n",
      "tensor[1] [1.222] tensor[1] cuda:0 [1.000]\n",
      "tensor[1] [1.205] tensor[1] cuda:0 [0.920]\n",
      "tensor[1] [1.257] tensor[1] cuda:0 [0.760]\n",
      "tensor[1] [0.607] tensor[1] cuda:0 [0.601]\n",
      "\n",
      "Train unscaled\n",
      "Preds\tTrue\n",
      "[202.93744051] [149.99999933]\n",
      "[563.59886457] [550.00001479]\n",
      "[285.27330728] [399.99999967]\n",
      "[36.24156726] [100.00000206]\n",
      "[504.7838393] [600.0000074]\n",
      "[324.24197938] [199.99999194]\n",
      "[788.82798533] [650.]\n",
      "[778.12654142] [600.0000074]\n",
      "[810.59778833] [499.99998487]\n",
      "[404.2322125] [399.99999967]\n",
      "\n"
     ]
    },
    {
     "name": "stderr",
     "output_type": "stream",
     "text": [
      "\n"
     ]
    },
    {
     "name": "stdout",
     "output_type": "stream",
     "text": [
      "Val unscaled\n",
      "Preds\tTrue\n",
      "[792.0347613] [199.99999194]\n",
      "[960.90284462] [23.9]\n",
      "[524.54031094] [600.0000074]\n",
      "[720.03631544] [499.99998487]\n",
      "[281.77634291] [350.00000706]\n",
      "[713.33757578] [399.99999967]\n",
      "[971.91410645] [499.99998487]\n",
      "[668.88090575] [650.]\n",
      "[804.35007968] [199.99999194]\n",
      "[564.1661426] [399.99999967]\n",
      "\n",
      "Epoch: 66 | Epoch Time: 0m 0s\n",
      "\tTrain Loss: 0.049| Train sqrt(mse): 0.22\n",
      "\n",
      "\tVal Loss: 0.510|  Val sqrt(mse): 0.71\n",
      "\n"
     ]
    },
    {
     "name": "stderr",
     "output_type": "stream",
     "text": [
      "Train: 100%|██████████| 1/1 [00:00<00:00,  2.38it/s]"
     ]
    },
    {
     "name": "stdout",
     "output_type": "stream",
     "text": [
      "Train (0,1)\n",
      "Preds\tTrue\n",
      "tensor[1] [0.307] tensor[1] cuda:0 [0.201]\n",
      "tensor[1] [0.912] tensor[1] cuda:0 [0.760]\n",
      "tensor[1] [0.995] tensor[1] cuda:0 [0.920]\n",
      "tensor[1] [0.812] tensor[1] cuda:0 [0.920]\n",
      "tensor[1] [0.427] tensor[1] cuda:0 [0.601]\n",
      "tensor[1] [0.583] tensor[1] cuda:0 [0.840]\n",
      "tensor[1] [0.217] tensor[1] cuda:0 [0.122]\n",
      "tensor[1] [1.045] tensor[1] cuda:0 [1.000]\n",
      "tensor[1] [0.366] tensor[1] cuda:0 [0.281]\n",
      "tensor[1] [0.635] tensor[1] cuda:0 [0.601]\n",
      "\n",
      "Train unscaled\n",
      "Preds\tTrue\n",
      "[216.26935129] [149.99999933]\n",
      "[595.10539176] [499.99998487]\n",
      "[646.58864419] [600.0000074]\n",
      "[532.52526892] [600.0000074]\n",
      "[291.04636234] [399.99999967]\n",
      "[388.96507792] [550.00001479]\n",
      "[159.8880779] [100.00000206]\n",
      "[678.11073319] [650.]\n",
      "[253.05845691] [199.99999194]\n",
      "[421.5233515] [399.99999967]\n",
      "\n"
     ]
    },
    {
     "name": "stderr",
     "output_type": "stream",
     "text": [
      "\n"
     ]
    },
    {
     "name": "stdout",
     "output_type": "stream",
     "text": [
      "Val unscaled\n",
      "Preds\tTrue\n",
      "[770.14583775] [199.99999194]\n",
      "[900.79174895] [23.9]\n",
      "[486.61855249] [600.0000074]\n",
      "[668.11498151] [499.99998487]\n",
      "[253.09398409] [350.00000706]\n",
      "[695.55987859] [399.99999967]\n",
      "[898.34350817] [499.99998487]\n",
      "[636.30098746] [650.]\n",
      "[792.3075593] [199.99999194]\n",
      "[530.36117096] [399.99999967]\n",
      "\n",
      "Epoch: 67 | Epoch Time: 0m 0s\n",
      "\tTrain Loss: 0.017| Train sqrt(mse): 0.13\n",
      "\n",
      "\tVal Loss: 0.449|  Val sqrt(mse): 0.67\n",
      "\n"
     ]
    },
    {
     "name": "stderr",
     "output_type": "stream",
     "text": [
      "Train: 100%|██████████| 1/1 [00:00<00:00,  2.40it/s]"
     ]
    },
    {
     "name": "stdout",
     "output_type": "stream",
     "text": [
      "Train (0,1)\n",
      "Preds\tTrue\n",
      "tensor[1] [0.689] tensor[1] cuda:0 [0.920]\n",
      "tensor[1] [0.727] tensor[1] cuda:0 [0.920]\n",
      "tensor[1] [0.057] tensor[1] cuda:0 [0.122]\n",
      "tensor[1] [0.566] tensor[1] cuda:0 [0.760]\n",
      "tensor[1] [0.467] tensor[1] cuda:0 [0.601]\n",
      "tensor[1] [0.506] tensor[1] cuda:0 [0.601]\n",
      "tensor[1] [0.038] tensor[1] cuda:0 [0.201]\n",
      "tensor[1] [0.580] tensor[1] cuda:0 [0.840]\n",
      "tensor[1] [0.981] tensor[1] cuda:0 [1.000]\n",
      "tensor[1] [0.317] tensor[1] cuda:0 [0.281]\n",
      "\n",
      "Train unscaled\n",
      "Preds\tTrue\n",
      "[455.35310261] [600.0000074]\n",
      "[479.13560255] [600.0000074]\n",
      "[59.50428625] [100.00000206]\n",
      "[377.99482909] [499.99998487]\n",
      "[316.32214212] [399.99999967]\n",
      "[340.80555753] [399.99999967]\n",
      "[47.60315621] [149.99999933]\n",
      "[386.95712043] [550.00001479]\n",
      "[637.88034235] [650.]\n",
      "[222.66346029] [199.99999194]\n",
      "\n"
     ]
    },
    {
     "name": "stderr",
     "output_type": "stream",
     "text": [
      "\n"
     ]
    },
    {
     "name": "stdout",
     "output_type": "stream",
     "text": [
      "Val unscaled\n",
      "Preds\tTrue\n",
      "[788.47958012] [199.99999194]\n",
      "[848.51521784] [23.9]\n",
      "[478.90508637] [600.0000074]\n",
      "[642.75096221] [499.99998487]\n",
      "[263.20657989] [350.00000706]\n",
      "[703.93966596] [399.99999967]\n",
      "[852.77146376] [499.99998487]\n",
      "[630.02562582] [650.]\n",
      "[797.20993718] [199.99999194]\n",
      "[522.54022765] [399.99999967]\n",
      "\n",
      "Epoch: 68 | Epoch Time: 0m 0s\n",
      "\tTrain Loss: 0.026| Train sqrt(mse): 0.16\n",
      "\n",
      "\tVal Loss: 0.423|  Val sqrt(mse): 0.65\n",
      "\n"
     ]
    },
    {
     "name": "stderr",
     "output_type": "stream",
     "text": [
      "Train: 100%|██████████| 1/1 [00:00<00:00,  2.37it/s]"
     ]
    },
    {
     "name": "stdout",
     "output_type": "stream",
     "text": [
      "Train (0,1)\n",
      "Preds\tTrue\n",
      "tensor[1] [0.620] tensor[1] cuda:0 [0.601]\n",
      "tensor[1] [0.494] tensor[1] cuda:0 [0.201]\n",
      "tensor[1] [0.365] tensor[1] cuda:0 [0.601]\n",
      "tensor[1] [0.490] tensor[1] cuda:0 [0.840]\n",
      "tensor[1] [0.685] tensor[1] cuda:0 [0.920]\n",
      "tensor[1] [0.522] tensor[1] cuda:0 [0.281]\n",
      "tensor[1] [0.601] tensor[1] cuda:0 [0.920]\n",
      "tensor[1] [0.917] tensor[1] cuda:0 [1.000]\n",
      "tensor[1] [0.215] tensor[1] cuda:0 [0.122]\n",
      "tensor[1] [0.495] tensor[1] cuda:0 [0.760]\n",
      "\n",
      "Train unscaled\n",
      "Preds\tTrue\n",
      "[411.77028182] [399.99999967]\n",
      "[332.93111819] [149.99999933]\n",
      "[252.71684365] [399.99999967]\n",
      "[330.83044297] [550.00001479]\n",
      "[453.08399047] [600.0000074]\n",
      "[350.43107269] [199.99999194]\n",
      "[400.00488839] [600.0000074]\n",
      "[598.21342306] [650.]\n",
      "[158.51363872] [100.00000206]\n",
      "[333.99101866] [499.99998487]\n",
      "\n"
     ]
    },
    {
     "name": "stderr",
     "output_type": "stream",
     "text": [
      "\n"
     ]
    },
    {
     "name": "stdout",
     "output_type": "stream",
     "text": [
      "Val unscaled\n",
      "Preds\tTrue\n",
      "[827.65128334] [199.99999194]\n",
      "[804.04988992] [23.9]\n",
      "[541.42128267] [600.0000074]\n",
      "[641.5302378] [499.99998487]\n",
      "[310.26852682] [350.00000706]\n",
      "[746.67117785] [399.99999967]\n",
      "[797.74978614] [499.99998487]\n",
      "[639.0989396] [650.]\n",
      "[820.69019485] [199.99999194]\n",
      "[529.17444367] [399.99999967]\n",
      "\n",
      "Epoch: 69 | Epoch Time: 0m 0s\n",
      "\tTrain Loss: 0.056| Train sqrt(mse): 0.24\n",
      "\n",
      "\tVal Loss: 0.418|  Val sqrt(mse): 0.65\n",
      "\n"
     ]
    },
    {
     "name": "stderr",
     "output_type": "stream",
     "text": [
      "Train: 100%|██████████| 1/1 [00:00<00:00,  2.46it/s]"
     ]
    },
    {
     "name": "stdout",
     "output_type": "stream",
     "text": [
      "Train (0,1)\n",
      "Preds\tTrue\n",
      "tensor[1] [0.619] tensor[1] cuda:0 [0.281]\n",
      "tensor[1] [0.640] tensor[1] cuda:0 [0.920]\n",
      "tensor[1] [0.981] tensor[1] cuda:0 [1.000]\n",
      "tensor[1] [1.087] tensor[1] cuda:0 [0.920]\n",
      "tensor[1] [0.393] tensor[1] cuda:0 [0.601]\n",
      "tensor[1] [0.388] tensor[1] cuda:0 [0.201]\n",
      "tensor[1] [0.750] tensor[1] cuda:0 [0.760]\n",
      "tensor[1] [0.517] tensor[1] cuda:0 [0.601]\n",
      "tensor[1] [0.976] tensor[1] cuda:0 [0.840]\n",
      "tensor[1] [0.335] tensor[1] cuda:0 [0.122]\n",
      "\n",
      "Train unscaled\n",
      "Preds\tTrue\n",
      "[411.24300919] [199.99999194]\n",
      "[424.35179284] [600.0000074]\n",
      "[638.29114404] [650.]\n",
      "[704.30561086] [600.0000074]\n",
      "[269.97797861] [399.99999967]\n",
      "[267.01356744] [149.99999933]\n",
      "[493.70760601] [499.99998487]\n",
      "[347.3618526] [399.99999967]\n",
      "[635.10261681] [550.00001479]\n",
      "[233.5423162] [100.00000206]\n",
      "\n"
     ]
    },
    {
     "name": "stderr",
     "output_type": "stream",
     "text": [
      "\n"
     ]
    },
    {
     "name": "stdout",
     "output_type": "stream",
     "text": [
      "Val unscaled\n",
      "Preds\tTrue\n",
      "[860.90733763] [199.99999194]\n",
      "[774.57038996] [23.9]\n",
      "[617.03540294] [600.0000074]\n",
      "[634.16812505] [499.99998487]\n",
      "[347.71328061] [350.00000706]\n",
      "[749.1621856] [399.99999967]\n",
      "[729.16209899] [499.99998487]\n",
      "[655.34407927] [650.]\n",
      "[790.50694321] [199.99999194]\n",
      "[493.22395867] [399.99999967]\n",
      "\n",
      "Epoch: 70 | Epoch Time: 0m 0s\n",
      "\tTrain Loss: 0.037| Train sqrt(mse): 0.19\n",
      "\n",
      "\tVal Loss: 0.396|  Val sqrt(mse): 0.63\n",
      "\n"
     ]
    },
    {
     "name": "stderr",
     "output_type": "stream",
     "text": [
      "Train: 100%|██████████| 1/1 [00:00<00:00,  2.53it/s]"
     ]
    },
    {
     "name": "stdout",
     "output_type": "stream",
     "text": [
      "Train (0,1)\n",
      "Preds\tTrue\n",
      "tensor[1] [0.682] tensor[1] cuda:0 [0.601]\n",
      "tensor[1] [0.844] tensor[1] cuda:0 [0.920]\n",
      "tensor[1] [-0.019] tensor[1] cuda:0 [0.201]\n",
      "tensor[1] [0.555] tensor[1] cuda:0 [0.281]\n",
      "tensor[1] [0.432] tensor[1] cuda:0 [0.601]\n",
      "tensor[1] [0.699] tensor[1] cuda:0 [1.000]\n",
      "tensor[1] [0.832] tensor[1] cuda:0 [0.760]\n",
      "tensor[1] [1.059] tensor[1] cuda:0 [0.920]\n",
      "tensor[1] [0.880] tensor[1] cuda:0 [0.840]\n",
      "tensor[1] [0.272] tensor[1] cuda:0 [0.122]\n",
      "\n",
      "Train unscaled\n",
      "Preds\tTrue\n",
      "[451.05233575] [399.99999967]\n",
      "[552.28715175] [600.0000074]\n",
      "[12.03419889] [149.99999933]\n",
      "[371.12136436] [199.99999194]\n",
      "[294.39158982] [399.99999967]\n",
      "[461.3434631] [650.]\n",
      "[544.86771783] [499.99998487]\n",
      "[686.85012132] [600.0000074]\n",
      "[574.95558346] [550.00001479]\n",
      "[194.01804675] [100.00000206]\n",
      "\n"
     ]
    },
    {
     "name": "stderr",
     "output_type": "stream",
     "text": [
      "Train: 100%|██████████| 1/1 [00:00<00:00,  2.13it/s]\n"
     ]
    },
    {
     "name": "stdout",
     "output_type": "stream",
     "text": [
      "Val unscaled\n",
      "Preds\tTrue\n",
      "[819.65953339] [199.99999194]\n",
      "[757.12796189] [23.9]\n",
      "[620.99276525] [600.0000074]\n",
      "[599.82714825] [499.99998487]\n",
      "[372.9782567] [350.00000706]\n",
      "[732.74071617] [399.99999967]\n",
      "[702.67860029] [499.99998487]\n",
      "[664.52158622] [650.]\n",
      "[748.95432173] [199.99999194]\n",
      "[485.54572117] [399.99999967]\n",
      "\n",
      "Epoch: 71 | Epoch Time: 0m 0s\n",
      "\tTrain Loss: 0.030| Train sqrt(mse): 0.17\n",
      "\n",
      "\tVal Loss: 0.355|  Val sqrt(mse): 0.60\n",
      "\n"
     ]
    },
    {
     "name": "stderr",
     "output_type": "stream",
     "text": [
      "Train: 100%|██████████| 1/1 [00:00<00:00,  2.37it/s]"
     ]
    },
    {
     "name": "stdout",
     "output_type": "stream",
     "text": [
      "Train (0,1)\n",
      "Preds\tTrue\n",
      "tensor[1] [0.513] tensor[1] cuda:0 [0.601]\n",
      "tensor[1] [0.845] tensor[1] cuda:0 [0.920]\n",
      "tensor[1] [0.039] tensor[1] cuda:0 [0.201]\n",
      "tensor[1] [1.133] tensor[1] cuda:0 [0.840]\n",
      "tensor[1] [0.625] tensor[1] cuda:0 [1.000]\n",
      "tensor[1] [0.625] tensor[1] cuda:0 [0.281]\n",
      "tensor[1] [0.434] tensor[1] cuda:0 [0.601]\n",
      "tensor[1] [0.660] tensor[1] cuda:0 [0.920]\n",
      "tensor[1] [0.231] tensor[1] cuda:0 [0.122]\n",
      "tensor[1] [0.857] tensor[1] cuda:0 [0.760]\n",
      "\n",
      "Train unscaled\n",
      "Preds\tTrue\n",
      "[344.9428695] [399.99999967]\n",
      "[553.20540997] [600.0000074]\n",
      "[48.3533787] [149.99999933]\n",
      "[733.18883634] [550.00001479]\n",
      "[415.01926497] [650.]\n",
      "[415.07826547] [199.99999194]\n",
      "[295.61233289] [399.99999967]\n",
      "[437.16270047] [600.0000074]\n",
      "[168.41836133] [100.00000206]\n",
      "[560.39455162] [499.99998487]\n",
      "\n"
     ]
    },
    {
     "name": "stderr",
     "output_type": "stream",
     "text": [
      "\n"
     ]
    },
    {
     "name": "stdout",
     "output_type": "stream",
     "text": [
      "Val unscaled\n",
      "Preds\tTrue\n",
      "[776.52625087] [199.99999194]\n",
      "[758.30528492] [23.9]\n",
      "[564.85153359] [600.0000074]\n",
      "[590.62833246] [499.99998487]\n",
      "[353.20555152] [350.00000706]\n",
      "[688.78448679] [399.99999967]\n",
      "[742.59122437] [499.99998487]\n",
      "[691.07957258] [650.]\n",
      "[723.46864423] [199.99999194]\n",
      "[504.32426236] [399.99999967]\n",
      "\n",
      "Epoch: 72 | Epoch Time: 0m 0s\n",
      "\tTrain Loss: 0.050| Train sqrt(mse): 0.22\n",
      "\n",
      "\tVal Loss: 0.334|  Val sqrt(mse): 0.58\n",
      "\n"
     ]
    },
    {
     "name": "stderr",
     "output_type": "stream",
     "text": [
      "Train: 100%|██████████| 1/1 [00:00<00:00,  2.43it/s]"
     ]
    },
    {
     "name": "stdout",
     "output_type": "stream",
     "text": [
      "Train (0,1)\n",
      "Preds\tTrue\n",
      "tensor[1] [0.862] tensor[1] cuda:0 [0.840]\n",
      "tensor[1] [0.444] tensor[1] cuda:0 [0.281]\n",
      "tensor[1] [1.079] tensor[1] cuda:0 [0.920]\n",
      "tensor[1] [0.198] tensor[1] cuda:0 [0.201]\n",
      "tensor[1] [0.831] tensor[1] cuda:0 [1.000]\n",
      "tensor[1] [0.826] tensor[1] cuda:0 [0.760]\n",
      "tensor[1] [0.569] tensor[1] cuda:0 [0.920]\n",
      "tensor[1] [0.791] tensor[1] cuda:0 [0.601]\n",
      "tensor[1] [0.131] tensor[1] cuda:0 [0.122]\n",
      "tensor[1] [0.536] tensor[1] cuda:0 [0.601]\n",
      "\n",
      "Train unscaled\n",
      "Preds\tTrue\n",
      "[563.49780616] [550.00001479]\n",
      "[301.63437677] [199.99999194]\n",
      "[699.44906006] [600.0000074]\n",
      "[148.06652017] [149.99999933]\n",
      "[544.37989082] [650.]\n",
      "[541.01156321] [499.99998487]\n",
      "[380.40183296] [600.0000074]\n",
      "[519.34475918] [399.99999967]\n",
      "[105.94635009] [100.00000206]\n",
      "[359.50509552] [399.99999967]\n",
      "\n"
     ]
    },
    {
     "name": "stderr",
     "output_type": "stream",
     "text": [
      "\n"
     ]
    },
    {
     "name": "stdout",
     "output_type": "stream",
     "text": [
      "Val unscaled\n",
      "Preds\tTrue\n",
      "[750.82755955] [199.99999194]\n",
      "[777.1696959] [23.9]\n",
      "[525.47659399] [600.0000074]\n",
      "[569.29903666] [499.99998487]\n",
      "[346.88428816] [350.00000706]\n",
      "[657.74589587] [399.99999967]\n",
      "[782.574455] [499.99998487]\n",
      "[705.98031443] [650.]\n",
      "[705.62392306] [199.99999194]\n",
      "[499.25346624] [399.99999967]\n",
      "\n",
      "Epoch: 73 | Epoch Time: 0m 0s\n",
      "\tTrain Loss: 0.025| Train sqrt(mse): 0.16\n",
      "\n",
      "\tVal Loss: 0.331|  Val sqrt(mse): 0.58\n",
      "\n"
     ]
    },
    {
     "name": "stderr",
     "output_type": "stream",
     "text": [
      "Train: 100%|██████████| 1/1 [00:00<00:00,  2.45it/s]"
     ]
    },
    {
     "name": "stdout",
     "output_type": "stream",
     "text": [
      "Train (0,1)\n",
      "Preds\tTrue\n",
      "tensor[1] [1.174] tensor[1] cuda:0 [0.920]\n",
      "tensor[1] [0.780] tensor[1] cuda:0 [0.601]\n",
      "tensor[1] [1.044] tensor[1] cuda:0 [1.000]\n",
      "tensor[1] [0.186] tensor[1] cuda:0 [0.122]\n",
      "tensor[1] [0.412] tensor[1] cuda:0 [0.281]\n",
      "tensor[1] [0.562] tensor[1] cuda:0 [0.601]\n",
      "tensor[1] [0.417] tensor[1] cuda:0 [0.201]\n",
      "tensor[1] [0.918] tensor[1] cuda:0 [0.920]\n",
      "tensor[1] [0.949] tensor[1] cuda:0 [0.760]\n",
      "tensor[1] [1.018] tensor[1] cuda:0 [0.840]\n",
      "\n",
      "Train unscaled\n",
      "Preds\tTrue\n",
      "[758.99851278] [600.0000074]\n",
      "[512.43692414] [399.99999967]\n",
      "[677.41183292] [650.]\n",
      "[140.43421238] [100.00000206]\n",
      "[282.14191463] [199.99999194]\n",
      "[375.9876926] [399.99999967]\n",
      "[285.09529819] [149.99999933]\n",
      "[598.57955455] [600.0000074]\n",
      "[617.91626806] [499.99998487]\n",
      "[661.40579268] [550.00001479]\n",
      "\n"
     ]
    },
    {
     "name": "stderr",
     "output_type": "stream",
     "text": [
      "\n"
     ]
    },
    {
     "name": "stdout",
     "output_type": "stream",
     "text": [
      "Val unscaled\n",
      "Preds\tTrue\n",
      "[708.15359274] [199.99999194]\n",
      "[764.63688549] [23.9]\n",
      "[471.13299293] [600.0000074]\n",
      "[551.82373101] [499.99998487]\n",
      "[311.62203034] [350.00000706]\n",
      "[584.1167076] [399.99999967]\n",
      "[794.39866234] [499.99998487]\n",
      "[717.8126572] [650.]\n",
      "[670.58576264] [199.99999194]\n",
      "[494.369561] [399.99999967]\n",
      "\n",
      "Epoch: 74 | Epoch Time: 0m 0s\n",
      "\tTrain Loss: 0.024| Train sqrt(mse): 0.15\n",
      "\n",
      "\tVal Loss: 0.302|  Val sqrt(mse): 0.55\n",
      "\n"
     ]
    },
    {
     "name": "stderr",
     "output_type": "stream",
     "text": [
      "Train: 100%|██████████| 1/1 [00:00<00:00,  2.41it/s]"
     ]
    },
    {
     "name": "stdout",
     "output_type": "stream",
     "text": [
      "Train (0,1)\n",
      "Preds\tTrue\n",
      "tensor[1] [0.829] tensor[1] cuda:0 [0.840]\n",
      "tensor[1] [0.484] tensor[1] cuda:0 [0.281]\n",
      "tensor[1] [0.276] tensor[1] cuda:0 [0.201]\n",
      "tensor[1] [0.954] tensor[1] cuda:0 [0.920]\n",
      "tensor[1] [0.557] tensor[1] cuda:0 [0.601]\n",
      "tensor[1] [0.091] tensor[1] cuda:0 [0.122]\n",
      "tensor[1] [0.890] tensor[1] cuda:0 [0.760]\n",
      "tensor[1] [0.528] tensor[1] cuda:0 [0.601]\n",
      "tensor[1] [0.959] tensor[1] cuda:0 [1.000]\n",
      "tensor[1] [1.083] tensor[1] cuda:0 [0.920]\n",
      "\n",
      "Train unscaled\n",
      "Preds\tTrue\n",
      "[543.10718178] [550.00001479]\n",
      "[326.69816899] [199.99999194]\n",
      "[196.92853274] [149.99999933]\n",
      "[621.32172755] [600.0000074]\n",
      "[372.51606747] [399.99999967]\n",
      "[81.10586692] [100.00000206]\n",
      "[581.29546873] [499.99998487]\n",
      "[354.5195721] [399.99999967]\n",
      "[624.549887] [650.]\n",
      "[701.92976791] [600.0000074]\n",
      "\n"
     ]
    },
    {
     "name": "stderr",
     "output_type": "stream",
     "text": [
      "\n"
     ]
    },
    {
     "name": "stdout",
     "output_type": "stream",
     "text": [
      "Val unscaled\n",
      "Preds\tTrue\n",
      "[663.77036545] [199.99999194]\n",
      "[738.5141071] [23.9]\n",
      "[400.11770211] [600.0000074]\n",
      "[520.38034667] [499.99998487]\n",
      "[271.91781124] [350.00000706]\n",
      "[506.19003649] [399.99999967]\n",
      "[802.52095228] [499.99998487]\n",
      "[711.28491076] [650.]\n",
      "[623.83098403] [199.99999194]\n",
      "[482.94357903] [399.99999967]\n",
      "\n",
      "Epoch: 75 | Epoch Time: 0m 0s\n",
      "\tTrain Loss: 0.010| Train sqrt(mse): 0.10\n",
      "\n",
      "\tVal Loss: 0.272|  Val sqrt(mse): 0.52\n",
      "\n"
     ]
    },
    {
     "name": "stderr",
     "output_type": "stream",
     "text": [
      "Train: 100%|██████████| 1/1 [00:00<00:00,  2.43it/s]"
     ]
    },
    {
     "name": "stdout",
     "output_type": "stream",
     "text": [
      "Train (0,1)\n",
      "Preds\tTrue\n",
      "tensor[1] [0.738] tensor[1] cuda:0 [0.760]\n",
      "tensor[1] [0.774] tensor[1] cuda:0 [0.840]\n",
      "tensor[1] [0.230] tensor[1] cuda:0 [0.201]\n",
      "tensor[1] [0.812] tensor[1] cuda:0 [0.920]\n",
      "tensor[1] [0.163] tensor[1] cuda:0 [0.122]\n",
      "tensor[1] [0.804] tensor[1] cuda:0 [0.920]\n",
      "tensor[1] [0.267] tensor[1] cuda:0 [0.281]\n",
      "tensor[1] [0.510] tensor[1] cuda:0 [0.601]\n",
      "tensor[1] [0.838] tensor[1] cuda:0 [1.000]\n",
      "tensor[1] [0.678] tensor[1] cuda:0 [0.601]\n",
      "\n",
      "Train unscaled\n",
      "Preds\tTrue\n",
      "[486.10150512] [499.99998487]\n",
      "[508.77288499] [550.00001479]\n",
      "[168.14540472] [149.99999933]\n",
      "[532.26739831] [600.0000074]\n",
      "[125.74453446] [100.00000206]\n",
      "[527.19343011] [600.0000074]\n",
      "[190.97519216] [199.99999194]\n",
      "[343.17333969] [399.99999967]\n",
      "[548.7160729] [650.]\n",
      "[448.43526622] [399.99999967]\n",
      "\n"
     ]
    },
    {
     "name": "stderr",
     "output_type": "stream",
     "text": [
      "\n"
     ]
    },
    {
     "name": "stdout",
     "output_type": "stream",
     "text": [
      "Val unscaled\n",
      "Preds\tTrue\n",
      "[630.07134094] [199.99999194]\n",
      "[705.03018624] [23.9]\n",
      "[332.95397575] [600.0000074]\n",
      "[510.97881696] [499.99998487]\n",
      "[223.57209035] [350.00000706]\n",
      "[465.91034796] [399.99999967]\n",
      "[816.1572698] [499.99998487]\n",
      "[708.35459001] [650.]\n",
      "[582.18066279] [199.99999194]\n",
      "[474.4317216] [399.99999967]\n",
      "\n",
      "Epoch: 76 | Epoch Time: 0m 0s\n",
      "\tTrain Loss: 0.007| Train sqrt(mse): 0.09\n",
      "\n",
      "\tVal Loss: 0.254|  Val sqrt(mse): 0.50\n",
      "\n"
     ]
    },
    {
     "name": "stderr",
     "output_type": "stream",
     "text": [
      "Train: 100%|██████████| 1/1 [00:00<00:00,  2.41it/s]"
     ]
    },
    {
     "name": "stdout",
     "output_type": "stream",
     "text": [
      "Train (0,1)\n",
      "Preds\tTrue\n",
      "tensor[1] [1.254] tensor[1] cuda:0 [0.920]\n",
      "tensor[1] [0.239] tensor[1] cuda:0 [0.281]\n",
      "tensor[1] [0.774] tensor[1] cuda:0 [0.840]\n",
      "tensor[1] [0.488] tensor[1] cuda:0 [0.601]\n",
      "tensor[1] [0.320] tensor[1] cuda:0 [0.201]\n",
      "tensor[1] [1.055] tensor[1] cuda:0 [0.920]\n",
      "tensor[1] [0.608] tensor[1] cuda:0 [0.601]\n",
      "tensor[1] [1.192] tensor[1] cuda:0 [1.000]\n",
      "tensor[1] [0.870] tensor[1] cuda:0 [0.760]\n",
      "tensor[1] [-0.181] tensor[1] cuda:0 [0.122]\n",
      "\n",
      "Train unscaled\n",
      "Preds\tTrue\n",
      "[809.0828078] [600.0000074]\n",
      "[173.62479143] [199.99999194]\n",
      "[508.47053076] [550.00001479]\n",
      "[329.56794053] [399.99999967]\n",
      "[224.15242985] [149.99999933]\n",
      "[684.35418754] [600.0000074]\n",
      "[404.26467956] [399.99999967]\n",
      "[770.32011499] [650.]\n",
      "[568.68600618] [499.99998487]\n",
      "[-89.21419869] [100.00000206]\n",
      "\n"
     ]
    },
    {
     "name": "stderr",
     "output_type": "stream",
     "text": [
      "\n"
     ]
    },
    {
     "name": "stdout",
     "output_type": "stream",
     "text": [
      "Val unscaled\n",
      "Preds\tTrue\n",
      "[562.38138686] [199.99999194]\n",
      "[647.01470914] [23.9]\n",
      "[299.05240526] [600.0000074]\n",
      "[466.39832425] [499.99998487]\n",
      "[202.49301488] [350.00000706]\n",
      "[428.32001482] [399.99999967]\n",
      "[784.48620548] [499.99998487]\n",
      "[702.22249397] [650.]\n",
      "[511.64357083] [199.99999194]\n",
      "[437.95415055] [399.99999967]\n",
      "\n",
      "Epoch: 77 | Epoch Time: 0m 0s\n",
      "\tTrain Loss: 0.030| Train sqrt(mse): 0.17\n",
      "\n",
      "\tVal Loss: 0.208|  Val sqrt(mse): 0.46\n",
      "\n"
     ]
    },
    {
     "name": "stderr",
     "output_type": "stream",
     "text": [
      "Train: 100%|██████████| 1/1 [00:00<00:00,  2.45it/s]"
     ]
    },
    {
     "name": "stdout",
     "output_type": "stream",
     "text": [
      "Train (0,1)\n",
      "Preds\tTrue\n",
      "tensor[1] [-0.036] tensor[1] cuda:0 [0.122]\n",
      "tensor[1] [0.376] tensor[1] cuda:0 [0.201]\n",
      "tensor[1] [0.466] tensor[1] cuda:0 [0.281]\n",
      "tensor[1] [0.870] tensor[1] cuda:0 [0.920]\n",
      "tensor[1] [0.584] tensor[1] cuda:0 [0.760]\n",
      "tensor[1] [0.630] tensor[1] cuda:0 [0.601]\n",
      "tensor[1] [0.686] tensor[1] cuda:0 [0.840]\n",
      "tensor[1] [0.373] tensor[1] cuda:0 [0.601]\n",
      "tensor[1] [0.989] tensor[1] cuda:0 [1.000]\n",
      "tensor[1] [0.683] tensor[1] cuda:0 [0.920]\n",
      "\n",
      "Train unscaled\n",
      "Preds\tTrue\n",
      "[1.50045252] [100.00000206]\n",
      "[259.21329856] [149.99999933]\n",
      "[315.54285787] [199.99999194]\n",
      "[568.60181572] [600.0000074]\n",
      "[389.45215857] [499.99998487]\n",
      "[418.03317909] [399.99999967]\n",
      "[453.54640361] [550.00001479]\n",
      "[257.64469139] [399.99999967]\n",
      "[643.01472914] [650.]\n",
      "[451.49411178] [600.0000074]\n",
      "\n"
     ]
    },
    {
     "name": "stderr",
     "output_type": "stream",
     "text": [
      "\n"
     ]
    },
    {
     "name": "stdout",
     "output_type": "stream",
     "text": [
      "Val unscaled\n",
      "Preds\tTrue\n",
      "[494.21379371] [199.99999194]\n",
      "[618.06098908] [23.9]\n",
      "[285.32585169] [600.0000074]\n",
      "[428.14749154] [499.99998487]\n",
      "[202.57599249] [350.00000706]\n",
      "[389.1167775] [399.99999967]\n",
      "[770.48506262] [499.99998487]\n",
      "[691.90460927] [650.]\n",
      "[441.71906152] [199.99999194]\n",
      "[395.11359409] [399.99999967]\n",
      "\n",
      "Epoch: 78 | Epoch Time: 0m 0s\n",
      "\tTrain Loss: 0.026| Train sqrt(mse): 0.16\n",
      "\n",
      "\tVal Loss: 0.178|  Val sqrt(mse): 0.42\n",
      "\n"
     ]
    },
    {
     "name": "stderr",
     "output_type": "stream",
     "text": [
      "Train: 100%|██████████| 1/1 [00:00<00:00,  2.43it/s]"
     ]
    },
    {
     "name": "stdout",
     "output_type": "stream",
     "text": [
      "Train (0,1)\n",
      "Preds\tTrue\n",
      "tensor[1] [0.910] tensor[1] cuda:0 [0.920]\n",
      "tensor[1] [0.104] tensor[1] cuda:0 [0.122]\n",
      "tensor[1] [0.226] tensor[1] cuda:0 [0.201]\n",
      "tensor[1] [0.836] tensor[1] cuda:0 [0.840]\n",
      "tensor[1] [0.323] tensor[1] cuda:0 [0.601]\n",
      "tensor[1] [0.518] tensor[1] cuda:0 [0.601]\n",
      "tensor[1] [0.692] tensor[1] cuda:0 [0.920]\n",
      "tensor[1] [1.062] tensor[1] cuda:0 [1.000]\n",
      "tensor[1] [0.482] tensor[1] cuda:0 [0.281]\n",
      "tensor[1] [0.698] tensor[1] cuda:0 [0.760]\n",
      "\n",
      "Train unscaled\n",
      "Preds\tTrue\n",
      "[593.77819776] [600.0000074]\n",
      "[89.20506606] [100.00000206]\n",
      "[165.57433953] [149.99999933]\n",
      "[547.04551167] [550.00001479]\n",
      "[226.27252934] [399.99999967]\n",
      "[348.16890179] [399.99999967]\n",
      "[457.12244582] [600.0000074]\n",
      "[688.76239426] [650.]\n",
      "[325.65381166] [199.99999194]\n",
      "[460.64251032] [499.99998487]\n",
      "\n"
     ]
    },
    {
     "name": "stderr",
     "output_type": "stream",
     "text": [
      "\n"
     ]
    },
    {
     "name": "stdout",
     "output_type": "stream",
     "text": [
      "Val unscaled\n",
      "Preds\tTrue\n",
      "[474.63193518] [199.99999194]\n",
      "[606.43430839] [23.9]\n",
      "[310.81951534] [600.0000074]\n",
      "[410.13401627] [499.99998487]\n",
      "[211.06816443] [350.00000706]\n",
      "[380.77206948] [399.99999967]\n",
      "[746.79186578] [499.99998487]\n",
      "[685.72123766] [650.]\n",
      "[423.77458809] [199.99999194]\n",
      "[367.59036555] [399.99999967]\n",
      "\n",
      "Epoch: 79 | Epoch Time: 0m 0s\n",
      "\tTrain Loss: 0.019| Train sqrt(mse): 0.14\n",
      "\n",
      "\tVal Loss: 0.163|  Val sqrt(mse): 0.40\n",
      "\n"
     ]
    },
    {
     "name": "stderr",
     "output_type": "stream",
     "text": [
      "Train: 100%|██████████| 1/1 [00:00<00:00,  2.44it/s]"
     ]
    },
    {
     "name": "stdout",
     "output_type": "stream",
     "text": [
      "Train (0,1)\n",
      "Preds\tTrue\n",
      "tensor[1] [0.753] tensor[1] cuda:0 [1.000]\n",
      "tensor[1] [0.740] tensor[1] cuda:0 [0.920]\n",
      "tensor[1] [0.688] tensor[1] cuda:0 [0.281]\n",
      "tensor[1] [0.473] tensor[1] cuda:0 [0.601]\n",
      "tensor[1] [0.551] tensor[1] cuda:0 [0.760]\n",
      "tensor[1] [0.380] tensor[1] cuda:0 [0.601]\n",
      "tensor[1] [0.646] tensor[1] cuda:0 [0.840]\n",
      "tensor[1] [0.167] tensor[1] cuda:0 [0.201]\n",
      "tensor[1] [0.329] tensor[1] cuda:0 [0.122]\n",
      "tensor[1] [0.646] tensor[1] cuda:0 [0.920]\n",
      "\n",
      "Train unscaled\n",
      "Preds\tTrue\n",
      "[495.3585004] [650.]\n",
      "[487.49684264] [600.0000074]\n",
      "[454.35722197] [199.99999194]\n",
      "[320.17126222] [399.99999967]\n",
      "[368.82784595] [499.99998487]\n",
      "[261.69361456] [399.99999967]\n",
      "[428.6727863] [550.00001479]\n",
      "[128.44016869] [149.99999933]\n",
      "[229.65309741] [100.00000206]\n",
      "[428.48705229] [600.0000074]\n",
      "\n"
     ]
    },
    {
     "name": "stderr",
     "output_type": "stream",
     "text": [
      "\n"
     ]
    },
    {
     "name": "stdout",
     "output_type": "stream",
     "text": [
      "Val unscaled\n",
      "Preds\tTrue\n",
      "[468.39340687] [199.99999194]\n",
      "[601.7250909] [23.9]\n",
      "[326.97807616] [600.0000074]\n",
      "[405.68132593] [499.99998487]\n",
      "[220.42633008] [350.00000706]\n",
      "[394.41547751] [399.99999967]\n",
      "[757.95098338] [499.99998487]\n",
      "[702.08717721] [650.]\n",
      "[426.99226105] [199.99999194]\n",
      "[368.41114793] [399.99999967]\n",
      "\n",
      "Epoch: 80 | Epoch Time: 0m 0s\n",
      "\tTrain Loss: 0.052| Train sqrt(mse): 0.23\n",
      "\n",
      "\tVal Loss: 0.160|  Val sqrt(mse): 0.40\n",
      "\n"
     ]
    },
    {
     "name": "stderr",
     "output_type": "stream",
     "text": [
      "Train: 100%|██████████| 1/1 [00:00<00:00,  2.44it/s]"
     ]
    },
    {
     "name": "stdout",
     "output_type": "stream",
     "text": [
      "Train (0,1)\n",
      "Preds\tTrue\n",
      "tensor[1] [1.065] tensor[1] cuda:0 [1.000]\n",
      "tensor[1] [0.942] tensor[1] cuda:0 [0.920]\n",
      "tensor[1] [0.713] tensor[1] cuda:0 [0.601]\n",
      "tensor[1] [0.424] tensor[1] cuda:0 [0.601]\n",
      "tensor[1] [0.249] tensor[1] cuda:0 [0.201]\n",
      "tensor[1] [0.793] tensor[1] cuda:0 [0.840]\n",
      "tensor[1] [0.393] tensor[1] cuda:0 [0.281]\n",
      "tensor[1] [0.783] tensor[1] cuda:0 [0.760]\n",
      "tensor[1] [0.008] tensor[1] cuda:0 [0.122]\n",
      "tensor[1] [0.979] tensor[1] cuda:0 [0.920]\n",
      "\n",
      "Train unscaled\n",
      "Preds\tTrue\n",
      "[690.47068446] [650.]\n",
      "[613.51974202] [600.0000074]\n",
      "[470.20891302] [399.99999967]\n",
      "[289.10324569] [399.99999967]\n",
      "[179.63806546] [149.99999933]\n",
      "[520.63911293] [550.00001479]\n",
      "[270.13938099] [199.99999194]\n",
      "[514.3605419] [499.99998487]\n",
      "[28.9937983] [100.00000206]\n",
      "[636.63233814] [600.0000074]\n",
      "\n"
     ]
    },
    {
     "name": "stderr",
     "output_type": "stream",
     "text": [
      "\n"
     ]
    },
    {
     "name": "stdout",
     "output_type": "stream",
     "text": [
      "Val unscaled\n",
      "Preds\tTrue\n",
      "[477.24893007] [199.99999194]\n",
      "[608.57873952] [23.9]\n",
      "[366.78451055] [600.0000074]\n",
      "[413.02892179] [499.99998487]\n",
      "[234.27752734] [350.00000706]\n",
      "[414.44944928] [399.99999967]\n",
      "[774.74257737] [499.99998487]\n",
      "[724.40406895] [650.]\n",
      "[443.05476413] [199.99999194]\n",
      "[384.15162995] [399.99999967]\n",
      "\n",
      "Epoch: 81 | Epoch Time: 0m 0s\n",
      "\tTrain Loss: 0.008| Train sqrt(mse): 0.09\n",
      "\n",
      "\tVal Loss: 0.162|  Val sqrt(mse): 0.40\n",
      "\n"
     ]
    },
    {
     "name": "stderr",
     "output_type": "stream",
     "text": [
      "Train: 100%|██████████| 1/1 [00:00<00:00,  2.41it/s]"
     ]
    },
    {
     "name": "stdout",
     "output_type": "stream",
     "text": [
      "Train (0,1)\n",
      "Preds\tTrue\n",
      "tensor[1] [1.121] tensor[1] cuda:0 [1.000]\n",
      "tensor[1] [0.717] tensor[1] cuda:0 [0.601]\n",
      "tensor[1] [-0.031] tensor[1] cuda:0 [0.122]\n",
      "tensor[1] [0.782] tensor[1] cuda:0 [0.760]\n",
      "tensor[1] [0.773] tensor[1] cuda:0 [0.840]\n",
      "tensor[1] [1.143] tensor[1] cuda:0 [0.920]\n",
      "tensor[1] [0.452] tensor[1] cuda:0 [0.601]\n",
      "tensor[1] [0.211] tensor[1] cuda:0 [0.201]\n",
      "tensor[1] [0.988] tensor[1] cuda:0 [0.920]\n",
      "tensor[1] [0.387] tensor[1] cuda:0 [0.281]\n",
      "\n",
      "Train unscaled\n",
      "Preds\tTrue\n",
      "[725.92643853] [650.]\n",
      "[473.06112622] [399.99999967]\n",
      "[4.3870197] [100.00000206]\n",
      "[513.21337219] [499.99998487]\n",
      "[508.00688611] [550.00001479]\n",
      "[739.71695596] [600.0000074]\n",
      "[306.87579293] [399.99999967]\n",
      "[156.05173938] [149.99999933]\n",
      "[642.57672228] [600.0000074]\n",
      "[266.17733521] [199.99999194]\n",
      "\n"
     ]
    },
    {
     "name": "stderr",
     "output_type": "stream",
     "text": [
      "\n"
     ]
    },
    {
     "name": "stdout",
     "output_type": "stream",
     "text": [
      "Val unscaled\n",
      "Preds\tTrue\n",
      "[478.7275251] [199.99999194]\n",
      "[589.94831533] [23.9]\n",
      "[377.64690901] [600.0000074]\n",
      "[420.82717548] [499.99998487]\n",
      "[248.65528818] [350.00000706]\n",
      "[414.74799703] [399.99999967]\n",
      "[752.72803986] [499.99998487]\n",
      "[733.59015914] [650.]\n",
      "[433.14917387] [199.99999194]\n",
      "[393.79102758] [399.99999967]\n",
      "\n",
      "Epoch: 82 | Epoch Time: 0m 0s\n",
      "\tTrain Loss: 0.014| Train sqrt(mse): 0.12\n",
      "\n",
      "\tVal Loss: 0.150|  Val sqrt(mse): 0.39\n",
      "\n"
     ]
    },
    {
     "name": "stderr",
     "output_type": "stream",
     "text": [
      "Train: 100%|██████████| 1/1 [00:00<00:00,  2.39it/s]"
     ]
    },
    {
     "name": "stdout",
     "output_type": "stream",
     "text": [
      "Train (0,1)\n",
      "Preds\tTrue\n",
      "tensor[1] [0.788] tensor[1] cuda:0 [0.601]\n",
      "tensor[1] [0.126] tensor[1] cuda:0 [0.601]\n",
      "tensor[1] [0.246] tensor[1] cuda:0 [0.201]\n",
      "tensor[1] [0.978] tensor[1] cuda:0 [0.760]\n",
      "tensor[1] [1.081] tensor[1] cuda:0 [0.920]\n",
      "tensor[1] [0.635] tensor[1] cuda:0 [0.281]\n",
      "tensor[1] [1.162] tensor[1] cuda:0 [1.000]\n",
      "tensor[1] [0.117] tensor[1] cuda:0 [0.122]\n",
      "tensor[1] [0.928] tensor[1] cuda:0 [0.920]\n",
      "tensor[1] [1.020] tensor[1] cuda:0 [0.840]\n",
      "\n",
      "Train unscaled\n",
      "Preds\tTrue\n",
      "[517.34616862] [399.99999967]\n",
      "[102.87718598] [399.99999967]\n",
      "[177.80488901] [149.99999933]\n",
      "[635.94948481] [499.99998487]\n",
      "[700.40971206] [600.0000074]\n",
      "[421.31806261] [199.99999194]\n",
      "[751.1172255] [650.]\n",
      "[96.97201888] [100.00000206]\n",
      "[605.18578172] [600.0000074]\n",
      "[662.22769462] [550.00001479]\n",
      "\n"
     ]
    },
    {
     "name": "stderr",
     "output_type": "stream",
     "text": [
      "\n"
     ]
    },
    {
     "name": "stdout",
     "output_type": "stream",
     "text": [
      "Val unscaled\n",
      "Preds\tTrue\n",
      "[473.5605966] [199.99999194]\n",
      "[569.9742397] [23.9]\n",
      "[390.92493191] [600.0000074]\n",
      "[440.40500362] [499.99998487]\n",
      "[271.13919872] [350.00000706]\n",
      "[420.08173908] [399.99999967]\n",
      "[718.96079719] [499.99998487]\n",
      "[747.59495921] [650.]\n",
      "[401.88312688] [199.99999194]\n",
      "[399.23881487] [399.99999967]\n",
      "\n",
      "Epoch: 83 | Epoch Time: 0m 0s\n",
      "\tTrain Loss: 0.052| Train sqrt(mse): 0.23\n",
      "\n",
      "\tVal Loss: 0.134|  Val sqrt(mse): 0.37\n",
      "\n"
     ]
    },
    {
     "name": "stderr",
     "output_type": "stream",
     "text": [
      "Train: 100%|██████████| 1/1 [00:00<00:00,  2.44it/s]"
     ]
    },
    {
     "name": "stdout",
     "output_type": "stream",
     "text": [
      "Train (0,1)\n",
      "Preds\tTrue\n",
      "tensor[1] [0.529] tensor[1] cuda:0 [0.281]\n",
      "tensor[1] [0.846] tensor[1] cuda:0 [0.760]\n",
      "tensor[1] [0.381] tensor[1] cuda:0 [0.201]\n",
      "tensor[1] [0.604] tensor[1] cuda:0 [0.601]\n",
      "tensor[1] [0.999] tensor[1] cuda:0 [0.840]\n",
      "tensor[1] [0.889] tensor[1] cuda:0 [0.920]\n",
      "tensor[1] [0.737] tensor[1] cuda:0 [0.601]\n",
      "tensor[1] [1.009] tensor[1] cuda:0 [1.000]\n",
      "tensor[1] [0.591] tensor[1] cuda:0 [0.920]\n",
      "tensor[1] [0.146] tensor[1] cuda:0 [0.122]\n",
      "\n",
      "Train unscaled\n",
      "Preds\tTrue\n",
      "[355.24321451] [199.99999194]\n",
      "[553.85934149] [499.99998487]\n",
      "[262.49612956] [149.99999933]\n",
      "[402.01079336] [399.99999967]\n",
      "[649.41424932] [550.00001479]\n",
      "[580.56033223] [600.0000074]\n",
      "[485.067485] [399.99999967]\n",
      "[655.49604007] [650.]\n",
      "[393.94899666] [600.0000074]\n",
      "[115.43738815] [100.00000206]\n",
      "\n"
     ]
    },
    {
     "name": "stderr",
     "output_type": "stream",
     "text": [
      "\n"
     ]
    },
    {
     "name": "stdout",
     "output_type": "stream",
     "text": [
      "Val unscaled\n",
      "Preds\tTrue\n",
      "[469.42432955] [199.99999194]\n",
      "[566.31042446] [23.9]\n",
      "[380.84913212] [600.0000074]\n",
      "[504.78443639] [499.99998487]\n",
      "[268.69666767] [350.00000706]\n",
      "[432.24726113] [399.99999967]\n",
      "[683.57729167] [499.99998487]\n",
      "[801.95542822] [650.]\n",
      "[388.54830527] [199.99999194]\n",
      "[440.56916756] [399.99999967]\n",
      "\n",
      "Epoch: 84 | Epoch Time: 0m 0s\n",
      "\tTrain Loss: 0.025| Train sqrt(mse): 0.16\n",
      "\n",
      "\tVal Loss: 0.132|  Val sqrt(mse): 0.36\n",
      "\n"
     ]
    },
    {
     "name": "stderr",
     "output_type": "stream",
     "text": [
      "Train: 100%|██████████| 1/1 [00:00<00:00,  2.43it/s]"
     ]
    },
    {
     "name": "stdout",
     "output_type": "stream",
     "text": [
      "Train (0,1)\n",
      "Preds\tTrue\n",
      "tensor[1] [0.938] tensor[1] cuda:0 [0.840]\n",
      "tensor[1] [0.225] tensor[1] cuda:0 [0.201]\n",
      "tensor[1] [1.034] tensor[1] cuda:0 [0.920]\n",
      "tensor[1] [0.831] tensor[1] cuda:0 [0.760]\n",
      "tensor[1] [0.667] tensor[1] cuda:0 [0.601]\n",
      "tensor[1] [0.140] tensor[1] cuda:0 [0.122]\n",
      "tensor[1] [0.889] tensor[1] cuda:0 [1.000]\n",
      "tensor[1] [0.456] tensor[1] cuda:0 [0.601]\n",
      "tensor[1] [0.600] tensor[1] cuda:0 [0.281]\n",
      "tensor[1] [0.873] tensor[1] cuda:0 [0.920]\n",
      "\n",
      "Train unscaled\n",
      "Preds\tTrue\n",
      "[611.22976886] [550.00001479]\n",
      "[164.52266778] [149.99999933]\n",
      "[671.41542683] [600.0000074]\n",
      "[543.92912104] [499.99998487]\n",
      "[441.20451448] [399.99999967]\n",
      "[111.75691021] [100.00000206]\n",
      "[580.26555365] [650.]\n",
      "[309.40335412] [399.99999967]\n",
      "[399.34808335] [199.99999194]\n",
      "[570.33831868] [600.0000074]\n",
      "\n"
     ]
    },
    {
     "name": "stderr",
     "output_type": "stream",
     "text": [
      "\n"
     ]
    },
    {
     "name": "stdout",
     "output_type": "stream",
     "text": [
      "Val unscaled\n",
      "Preds\tTrue\n",
      "[421.74192577] [199.99999194]\n",
      "[551.96404845] [23.9]\n",
      "[343.15199353] [600.0000074]\n",
      "[532.39610971] [499.99998487]\n",
      "[255.76630361] [350.00000706]\n",
      "[384.37255529] [399.99999967]\n",
      "[636.6308454] [499.99998487]\n",
      "[812.7887556] [650.]\n",
      "[317.30915963] [199.99999194]\n",
      "[461.46318075] [399.99999967]\n",
      "\n",
      "Epoch: 85 | Epoch Time: 0m 0s\n",
      "\tTrain Loss: 0.017| Train sqrt(mse): 0.13\n",
      "\n",
      "\tVal Loss: 0.119|  Val sqrt(mse): 0.35\n",
      "\n"
     ]
    },
    {
     "name": "stderr",
     "output_type": "stream",
     "text": [
      "Train: 100%|██████████| 1/1 [00:00<00:00,  2.45it/s]"
     ]
    },
    {
     "name": "stdout",
     "output_type": "stream",
     "text": [
      "Train (0,1)\n",
      "Preds\tTrue\n",
      "tensor[1] [0.648] tensor[1] cuda:0 [0.760]\n",
      "tensor[1] [0.148] tensor[1] cuda:0 [0.201]\n",
      "tensor[1] [0.740] tensor[1] cuda:0 [0.601]\n",
      "tensor[1] [0.819] tensor[1] cuda:0 [0.840]\n",
      "tensor[1] [0.322] tensor[1] cuda:0 [0.281]\n",
      "tensor[1] [0.115] tensor[1] cuda:0 [0.122]\n",
      "tensor[1] [0.863] tensor[1] cuda:0 [0.920]\n",
      "tensor[1] [0.405] tensor[1] cuda:0 [0.601]\n",
      "tensor[1] [0.998] tensor[1] cuda:0 [0.920]\n",
      "tensor[1] [0.904] tensor[1] cuda:0 [1.000]\n",
      "\n",
      "Train unscaled\n",
      "Preds\tTrue\n",
      "[429.49647953] [499.99998487]\n",
      "[116.73984001] [149.99999933]\n",
      "[487.46198719] [399.99999967]\n",
      "[536.61772409] [550.00001479]\n",
      "[225.28939296] [199.99999194]\n",
      "[96.02743248] [100.00000206]\n",
      "[564.0038819] [600.0000074]\n",
      "[277.18680575] [399.99999967]\n",
      "[648.50017077] [600.0000074]\n",
      "[590.17636849] [650.]\n",
      "\n"
     ]
    },
    {
     "name": "stderr",
     "output_type": "stream",
     "text": [
      "\n"
     ]
    },
    {
     "name": "stdout",
     "output_type": "stream",
     "text": [
      "Val unscaled\n",
      "Preds\tTrue\n",
      "[359.15090594] [199.99999194]\n",
      "[544.98508441] [23.9]\n",
      "[304.04412355] [600.0000074]\n",
      "[562.51230005] [499.99998487]\n",
      "[237.92247809] [350.00000706]\n",
      "[335.67801867] [399.99999967]\n",
      "[616.05762176] [499.99998487]\n",
      "[816.79817717] [650.]\n",
      "[243.80011816] [199.99999194]\n",
      "[473.73263474] [399.99999967]\n",
      "\n",
      "Epoch: 86 | Epoch Time: 0m 0s\n",
      "\tTrain Loss: 0.009| Train sqrt(mse): 0.10\n",
      "\n",
      "\tVal Loss: 0.116|  Val sqrt(mse): 0.34\n",
      "\n"
     ]
    },
    {
     "name": "stderr",
     "output_type": "stream",
     "text": [
      "Train: 100%|██████████| 1/1 [00:00<00:00,  2.39it/s]"
     ]
    },
    {
     "name": "stdout",
     "output_type": "stream",
     "text": [
      "Train (0,1)\n",
      "Preds\tTrue\n",
      "tensor[1] [0.376] tensor[1] cuda:0 [0.601]\n",
      "tensor[1] [0.171] tensor[1] cuda:0 [0.122]\n",
      "tensor[1] [0.753] tensor[1] cuda:0 [0.840]\n",
      "tensor[1] [1.149] tensor[1] cuda:0 [0.920]\n",
      "tensor[1] [0.258] tensor[1] cuda:0 [0.281]\n",
      "tensor[1] [0.590] tensor[1] cuda:0 [0.760]\n",
      "tensor[1] [0.354] tensor[1] cuda:0 [0.601]\n",
      "tensor[1] [0.987] tensor[1] cuda:0 [0.920]\n",
      "tensor[1] [-0.135] tensor[1] cuda:0 [0.201]\n",
      "tensor[1] [0.815] tensor[1] cuda:0 [1.000]\n",
      "\n",
      "Train unscaled\n",
      "Preds\tTrue\n",
      "[259.56218891] [399.99999967]\n",
      "[130.99681962] [100.00000206]\n",
      "[495.26651038] [550.00001479]\n",
      "[743.08979911] [600.0000074]\n",
      "[185.2416387] [199.99999194]\n",
      "[393.41489474] [499.99998487]\n",
      "[245.63965741] [399.99999967]\n",
      "[642.08292431] [600.0000074]\n",
      "[-60.55768291] [149.99999933]\n",
      "[533.90511928] [650.]\n",
      "\n"
     ]
    },
    {
     "name": "stderr",
     "output_type": "stream",
     "text": [
      "\n"
     ]
    },
    {
     "name": "stdout",
     "output_type": "stream",
     "text": [
      "Val unscaled\n",
      "Preds\tTrue\n",
      "[290.74813181] [199.99999194]\n",
      "[569.52067104] [23.9]\n",
      "[283.32907107] [600.0000074]\n",
      "[533.13273895] [499.99998487]\n",
      "[224.79456873] [350.00000706]\n",
      "[287.9844007] [399.99999967]\n",
      "[657.28919246] [499.99998487]\n",
      "[797.42623502] [650.]\n",
      "[164.84453957] [199.99999194]\n",
      "[450.66399977] [399.99999967]\n",
      "\n",
      "Epoch: 87 | Epoch Time: 0m 0s\n",
      "\tTrain Loss: 0.035| Train sqrt(mse): 0.19\n",
      "\n",
      "\tVal Loss: 0.124|  Val sqrt(mse): 0.35\n",
      "\n"
     ]
    },
    {
     "name": "stderr",
     "output_type": "stream",
     "text": [
      "Train: 100%|██████████| 1/1 [00:00<00:00,  2.39it/s]"
     ]
    },
    {
     "name": "stdout",
     "output_type": "stream",
     "text": [
      "Train (0,1)\n",
      "Preds\tTrue\n",
      "tensor[1] [0.488] tensor[1] cuda:0 [0.601]\n",
      "tensor[1] [0.865] tensor[1] cuda:0 [0.920]\n",
      "tensor[1] [-0.147] tensor[1] cuda:0 [0.201]\n",
      "tensor[1] [0.272] tensor[1] cuda:0 [0.281]\n",
      "tensor[1] [0.202] tensor[1] cuda:0 [0.122]\n",
      "tensor[1] [0.810] tensor[1] cuda:0 [0.840]\n",
      "tensor[1] [1.126] tensor[1] cuda:0 [0.920]\n",
      "tensor[1] [0.766] tensor[1] cuda:0 [1.000]\n",
      "tensor[1] [0.745] tensor[1] cuda:0 [0.760]\n",
      "tensor[1] [0.482] tensor[1] cuda:0 [0.601]\n",
      "\n",
      "Train unscaled\n",
      "Preds\tTrue\n",
      "[329.30816667] [399.99999967]\n",
      "[565.73766061] [600.0000074]\n",
      "[-68.22023732] [149.99999933]\n",
      "[194.15972632] [199.99999194]\n",
      "[150.14658628] [100.00000206]\n",
      "[530.91538753] [550.00001479]\n",
      "[729.00961573] [600.0000074]\n",
      "[503.18246651] [650.]\n",
      "[490.5259827] [499.99998487]\n",
      "[325.46524144] [399.99999967]\n",
      "\n"
     ]
    },
    {
     "name": "stderr",
     "output_type": "stream",
     "text": [
      "\n"
     ]
    },
    {
     "name": "stdout",
     "output_type": "stream",
     "text": [
      "Val unscaled\n",
      "Preds\tTrue\n",
      "[237.69358527] [199.99999194]\n",
      "[625.69657156] [23.9]\n",
      "[284.27927391] [600.0000074]\n",
      "[487.96067388] [499.99998487]\n",
      "[236.31742944] [350.00000706]\n",
      "[259.45273385] [399.99999967]\n",
      "[743.4397717] [499.99998487]\n",
      "[770.52820277] [650.]\n",
      "[89.1990298] [199.99999194]\n",
      "[418.98226237] [399.99999967]\n",
      "\n",
      "Epoch: 88 | Epoch Time: 0m 0s\n",
      "\tTrain Loss: 0.026| Train sqrt(mse): 0.16\n",
      "\n",
      "\tVal Loss: 0.149|  Val sqrt(mse): 0.39\n",
      "\n"
     ]
    },
    {
     "name": "stderr",
     "output_type": "stream",
     "text": [
      "Train: 100%|██████████| 1/1 [00:00<00:00,  2.39it/s]"
     ]
    },
    {
     "name": "stdout",
     "output_type": "stream",
     "text": [
      "Train (0,1)\n",
      "Preds\tTrue\n",
      "tensor[1] [0.930] tensor[1] cuda:0 [0.920]\n",
      "tensor[1] [0.785] tensor[1] cuda:0 [0.840]\n",
      "tensor[1] [1.033] tensor[1] cuda:0 [1.000]\n",
      "tensor[1] [1.010] tensor[1] cuda:0 [0.920]\n",
      "tensor[1] [-0.065] tensor[1] cuda:0 [0.122]\n",
      "tensor[1] [0.487] tensor[1] cuda:0 [0.601]\n",
      "tensor[1] [0.233] tensor[1] cuda:0 [0.201]\n",
      "tensor[1] [0.544] tensor[1] cuda:0 [0.601]\n",
      "tensor[1] [0.341] tensor[1] cuda:0 [0.281]\n",
      "tensor[1] [0.784] tensor[1] cuda:0 [0.760]\n",
      "\n",
      "Train unscaled\n",
      "Preds\tTrue\n",
      "[605.99637617] [600.0000074]\n",
      "[515.61604712] [550.00001479]\n",
      "[670.95417056] [650.]\n",
      "[656.11903458] [600.0000074]\n",
      "[-16.9664748] [100.00000206]\n",
      "[329.01049591] [399.99999967]\n",
      "[170.07953696] [149.99999933]\n",
      "[364.27420915] [399.99999967]\n",
      "[237.6661562] [199.99999194]\n",
      "[514.68442888] [499.99998487]\n",
      "\n"
     ]
    },
    {
     "name": "stderr",
     "output_type": "stream",
     "text": [
      "\n"
     ]
    },
    {
     "name": "stdout",
     "output_type": "stream",
     "text": [
      "Val unscaled\n",
      "Preds\tTrue\n",
      "[233.71000673] [199.99999194]\n",
      "[673.91434609] [23.9]\n",
      "[307.17512437] [600.0000074]\n",
      "[486.6704998] [499.99998487]\n",
      "[282.06701646] [350.00000706]\n",
      "[270.94771766] [399.99999967]\n",
      "[810.37656446] [499.99998487]\n",
      "[771.53117392] [650.]\n",
      "[89.36138846] [199.99999194]\n",
      "[429.50286099] [399.99999967]\n",
      "\n",
      "Epoch: 89 | Epoch Time: 0m 0s\n",
      "\tTrain Loss: 0.007| Train sqrt(mse): 0.08\n",
      "\n",
      "\tVal Loss: 0.167|  Val sqrt(mse): 0.41\n",
      "\n"
     ]
    },
    {
     "name": "stderr",
     "output_type": "stream",
     "text": [
      "Train: 100%|██████████| 1/1 [00:00<00:00,  2.40it/s]"
     ]
    },
    {
     "name": "stdout",
     "output_type": "stream",
     "text": [
      "Train (0,1)\n",
      "Preds\tTrue\n",
      "tensor[1] [0.823] tensor[1] cuda:0 [0.840]\n",
      "tensor[1] [0.139] tensor[1] cuda:0 [0.122]\n",
      "tensor[1] [0.705] tensor[1] cuda:0 [0.601]\n",
      "tensor[1] [0.406] tensor[1] cuda:0 [0.601]\n",
      "tensor[1] [1.090] tensor[1] cuda:0 [0.920]\n",
      "tensor[1] [1.109] tensor[1] cuda:0 [0.760]\n",
      "tensor[1] [0.305] tensor[1] cuda:0 [0.281]\n",
      "tensor[1] [1.045] tensor[1] cuda:0 [1.000]\n",
      "tensor[1] [0.200] tensor[1] cuda:0 [0.201]\n",
      "tensor[1] [0.984] tensor[1] cuda:0 [0.920]\n",
      "\n",
      "Train unscaled\n",
      "Preds\tTrue\n",
      "[539.0326768] [550.00001479]\n",
      "[110.63344706] [100.00000206]\n",
      "[465.43968744] [399.99999967]\n",
      "[277.82752653] [399.99999967]\n",
      "[706.19317898] [600.0000074]\n",
      "[718.17360142] [499.99998487]\n",
      "[215.10417542] [199.99999194]\n",
      "[678.08767037] [650.]\n",
      "[148.90432911] [149.99999933]\n",
      "[640.02955024] [600.0000074]\n",
      "\n"
     ]
    },
    {
     "name": "stderr",
     "output_type": "stream",
     "text": [
      "\n"
     ]
    },
    {
     "name": "stdout",
     "output_type": "stream",
     "text": [
      "Val unscaled\n",
      "Preds\tTrue\n",
      "[242.79597148] [199.99999194]\n",
      "[680.12712466] [23.9]\n",
      "[331.89702344] [600.0000074]\n",
      "[460.15404889] [499.99998487]\n",
      "[311.86032742] [350.00000706]\n",
      "[284.08124346] [399.99999967]\n",
      "[816.56150345] [499.99998487]\n",
      "[730.0550553] [650.]\n",
      "[95.70702544] [199.99999194]\n",
      "[416.57395235] [399.99999967]\n",
      "\n",
      "Epoch: 90 | Epoch Time: 0m 0s\n",
      "\tTrain Loss: 0.021| Train sqrt(mse): 0.14\n",
      "\n",
      "\tVal Loss: 0.163|  Val sqrt(mse): 0.40\n",
      "\n"
     ]
    },
    {
     "name": "stderr",
     "output_type": "stream",
     "text": [
      "Train: 100%|██████████| 1/1 [00:00<00:00,  2.45it/s]"
     ]
    },
    {
     "name": "stdout",
     "output_type": "stream",
     "text": [
      "Train (0,1)\n",
      "Preds\tTrue\n",
      "tensor[1] [0.634] tensor[1] cuda:0 [0.601]\n",
      "tensor[1] [0.779] tensor[1] cuda:0 [0.920]\n",
      "tensor[1] [0.237] tensor[1] cuda:0 [0.201]\n",
      "tensor[1] [0.912] tensor[1] cuda:0 [1.000]\n",
      "tensor[1] [0.804] tensor[1] cuda:0 [0.281]\n",
      "tensor[1] [0.860] tensor[1] cuda:0 [0.760]\n",
      "tensor[1] [0.729] tensor[1] cuda:0 [0.840]\n",
      "tensor[1] [0.076] tensor[1] cuda:0 [0.122]\n",
      "tensor[1] [0.939] tensor[1] cuda:0 [0.601]\n",
      "tensor[1] [1.006] tensor[1] cuda:0 [0.920]\n",
      "\n",
      "Train unscaled\n",
      "Preds\tTrue\n",
      "[421.08657615] [399.99999967]\n",
      "[511.90927832] [600.0000074]\n",
      "[172.59582796] [149.99999933]\n",
      "[594.65353975] [650.]\n",
      "[527.28586796] [199.99999194]\n",
      "[562.08630974] [499.99998487]\n",
      "[480.2004104] [550.00001479]\n",
      "[71.48202176] [100.00000206]\n",
      "[611.93094556] [399.99999967]\n",
      "[653.5279387] [600.0000074]\n",
      "\n"
     ]
    },
    {
     "name": "stderr",
     "output_type": "stream",
     "text": [
      "\n"
     ]
    },
    {
     "name": "stdout",
     "output_type": "stream",
     "text": [
      "Val unscaled\n",
      "Preds\tTrue\n",
      "[255.44084925] [199.99999194]\n",
      "[675.43932797] [23.9]\n",
      "[344.76377817] [600.0000074]\n",
      "[434.37359281] [499.99998487]\n",
      "[309.1474987] [350.00000706]\n",
      "[279.13766599] [399.99999967]\n",
      "[793.69005927] [499.99998487]\n",
      "[679.28096571] [650.]\n",
      "[101.71235064] [199.99999194]\n",
      "[395.4743144] [399.99999967]\n",
      "\n",
      "Epoch: 91 | Epoch Time: 0m 0s\n",
      "\tTrain Loss: 0.045| Train sqrt(mse): 0.21\n",
      "\n",
      "\tVal Loss: 0.156|  Val sqrt(mse): 0.39\n",
      "\n"
     ]
    },
    {
     "name": "stderr",
     "output_type": "stream",
     "text": [
      "Train: 100%|██████████| 1/1 [00:00<00:00,  2.56it/s]"
     ]
    },
    {
     "name": "stdout",
     "output_type": "stream",
     "text": [
      "Train (0,1)\n",
      "Preds\tTrue\n",
      "tensor[1] [1.005] tensor[1] cuda:0 [0.760]\n",
      "tensor[1] [0.577] tensor[1] cuda:0 [0.601]\n",
      "tensor[1] [0.111] tensor[1] cuda:0 [0.122]\n",
      "tensor[1] [0.670] tensor[1] cuda:0 [0.840]\n",
      "tensor[1] [1.087] tensor[1] cuda:0 [0.920]\n",
      "tensor[1] [0.916] tensor[1] cuda:0 [0.920]\n",
      "tensor[1] [0.985] tensor[1] cuda:0 [1.000]\n",
      "tensor[1] [0.370] tensor[1] cuda:0 [0.281]\n",
      "tensor[1] [0.280] tensor[1] cuda:0 [0.201]\n",
      "tensor[1] [0.449] tensor[1] cuda:0 [0.601]\n",
      "\n",
      "Train unscaled\n",
      "Preds\tTrue\n",
      "[653.25760372] [499.99998487]\n",
      "[385.00592433] [399.99999967]\n",
      "[93.25179678] [100.00000206]\n",
      "[443.57296838] [550.00001479]\n",
      "[704.42823935] [600.0000074]\n",
      "[597.33528218] [600.0000074]\n",
      "[640.59731342] [650.]\n",
      "[255.48805712] [199.99999194]\n",
      "[199.29235914] [149.99999933]\n",
      "[305.01968428] [399.99999967]\n",
      "\n"
     ]
    },
    {
     "name": "stderr",
     "output_type": "stream",
     "text": [
      "Train: 100%|██████████| 1/1 [00:00<00:00,  2.13it/s]\n"
     ]
    },
    {
     "name": "stdout",
     "output_type": "stream",
     "text": [
      "Val unscaled\n",
      "Preds\tTrue\n",
      "[294.11769093] [199.99999194]\n",
      "[661.0740315] [23.9]\n",
      "[381.26023237] [600.0000074]\n",
      "[427.24154841] [499.99998487]\n",
      "[324.86861244] [350.00000706]\n",
      "[316.38828911] [399.99999967]\n",
      "[772.79052294] [499.99998487]\n",
      "[642.87915115] [650.]\n",
      "[154.78163331] [199.99999194]\n",
      "[391.0693917] [399.99999967]\n",
      "\n",
      "Epoch: 92 | Epoch Time: 0m 0s\n",
      "\tTrain Loss: 0.015| Train sqrt(mse): 0.12\n",
      "\n",
      "\tVal Loss: 0.141|  Val sqrt(mse): 0.38\n",
      "\n"
     ]
    },
    {
     "name": "stderr",
     "output_type": "stream",
     "text": [
      "Train: 100%|██████████| 1/1 [00:00<00:00,  2.42it/s]"
     ]
    },
    {
     "name": "stdout",
     "output_type": "stream",
     "text": [
      "Train (0,1)\n",
      "Preds\tTrue\n",
      "tensor[1] [0.491] tensor[1] cuda:0 [0.601]\n",
      "tensor[1] [0.679] tensor[1] cuda:0 [0.920]\n",
      "tensor[1] [0.787] tensor[1] cuda:0 [0.920]\n",
      "tensor[1] [0.306] tensor[1] cuda:0 [0.281]\n",
      "tensor[1] [0.101] tensor[1] cuda:0 [0.122]\n",
      "tensor[1] [0.517] tensor[1] cuda:0 [0.601]\n",
      "tensor[1] [1.041] tensor[1] cuda:0 [0.760]\n",
      "tensor[1] [0.465] tensor[1] cuda:0 [0.201]\n",
      "tensor[1] [0.874] tensor[1] cuda:0 [0.840]\n",
      "tensor[1] [1.157] tensor[1] cuda:0 [1.000]\n",
      "\n",
      "Train unscaled\n",
      "Preds\tTrue\n",
      "[331.03254113] [399.99999967]\n",
      "[448.74941308] [600.0000074]\n",
      "[516.59983658] [600.0000074]\n",
      "[215.50277397] [199.99999194]\n",
      "[87.28426585] [100.00000206]\n",
      "[347.72122945] [399.99999967]\n",
      "[675.43395411] [499.99998487]\n",
      "[315.29582827] [149.99999933]\n",
      "[571.19832277] [550.00001479]\n",
      "[748.290053] [650.]\n",
      "\n"
     ]
    },
    {
     "name": "stderr",
     "output_type": "stream",
     "text": [
      "\n"
     ]
    },
    {
     "name": "stdout",
     "output_type": "stream",
     "text": [
      "Val unscaled\n",
      "Preds\tTrue\n",
      "[344.20321746] [199.99999194]\n",
      "[600.74723508] [23.9]\n",
      "[411.2620416] [600.0000074]\n",
      "[438.997351] [499.99998487]\n",
      "[335.40458626] [350.00000706]\n",
      "[336.98500472] [399.99999967]\n",
      "[704.75701505] [499.99998487]\n",
      "[630.07693871] [650.]\n",
      "[229.04111185] [199.99999194]\n",
      "[397.15174223] [399.99999967]\n",
      "\n",
      "Epoch: 93 | Epoch Time: 0m 0s\n",
      "\tTrain Loss: 0.027| Train sqrt(mse): 0.16\n",
      "\n",
      "\tVal Loss: 0.112|  Val sqrt(mse): 0.34\n",
      "\n"
     ]
    },
    {
     "name": "stderr",
     "output_type": "stream",
     "text": [
      "Train: 100%|██████████| 1/1 [00:00<00:00,  2.36it/s]"
     ]
    },
    {
     "name": "stdout",
     "output_type": "stream",
     "text": [
      "Train (0,1)\n",
      "Preds\tTrue\n",
      "tensor[1] [0.790] tensor[1] cuda:0 [0.760]\n",
      "tensor[1] [0.372] tensor[1] cuda:0 [0.201]\n",
      "tensor[1] [0.458] tensor[1] cuda:0 [0.601]\n",
      "tensor[1] [0.229] tensor[1] cuda:0 [0.122]\n",
      "tensor[1] [0.361] tensor[1] cuda:0 [0.281]\n",
      "tensor[1] [0.783] tensor[1] cuda:0 [0.920]\n",
      "tensor[1] [0.508] tensor[1] cuda:0 [0.601]\n",
      "tensor[1] [0.593] tensor[1] cuda:0 [0.920]\n",
      "tensor[1] [0.759] tensor[1] cuda:0 [0.840]\n",
      "tensor[1] [0.972] tensor[1] cuda:0 [1.000]\n",
      "\n",
      "Train unscaled\n",
      "Preds\tTrue\n",
      "[518.82170353] [499.99998487]\n",
      "[256.76315453] [149.99999933]\n",
      "[310.949253] [399.99999967]\n",
      "[167.41188224] [100.00000206]\n",
      "[250.03271284] [199.99999194]\n",
      "[514.17402419] [600.0000074]\n",
      "[342.04441872] [399.99999967]\n",
      "[395.25114996] [600.0000074]\n",
      "[499.01738961] [550.00001479]\n",
      "[632.61175834] [650.]\n",
      "\n"
     ]
    },
    {
     "name": "stderr",
     "output_type": "stream",
     "text": [
      "\n"
     ]
    },
    {
     "name": "stdout",
     "output_type": "stream",
     "text": [
      "Val unscaled\n",
      "Preds\tTrue\n",
      "[383.82957157] [199.99999194]\n",
      "[552.29144337] [23.9]\n",
      "[443.52467828] [600.0000074]\n",
      "[441.78041308] [499.99998487]\n",
      "[342.9500633] [350.00000706]\n",
      "[375.01987545] [399.99999967]\n",
      "[644.50791569] [499.99998487]\n",
      "[625.34118779] [650.]\n",
      "[296.39624463] [199.99999194]\n",
      "[393.88701068] [399.99999967]\n",
      "\n",
      "Epoch: 94 | Epoch Time: 0m 0s\n",
      "\tTrain Loss: 0.021| Train sqrt(mse): 0.14\n",
      "\n",
      "\tVal Loss: 0.095|  Val sqrt(mse): 0.31\n",
      "\n"
     ]
    },
    {
     "name": "stderr",
     "output_type": "stream",
     "text": [
      "Train: 100%|██████████| 1/1 [00:00<00:00,  2.35it/s]"
     ]
    },
    {
     "name": "stdout",
     "output_type": "stream",
     "text": [
      "Train (0,1)\n",
      "Preds\tTrue\n",
      "tensor[1] [0.662] tensor[1] cuda:0 [0.920]\n",
      "tensor[1] [0.553] tensor[1] cuda:0 [0.920]\n",
      "tensor[1] [0.973] tensor[1] cuda:0 [1.000]\n",
      "tensor[1] [0.681] tensor[1] cuda:0 [0.601]\n",
      "tensor[1] [0.814] tensor[1] cuda:0 [0.840]\n",
      "tensor[1] [0.465] tensor[1] cuda:0 [0.601]\n",
      "tensor[1] [0.802] tensor[1] cuda:0 [0.760]\n",
      "tensor[1] [0.127] tensor[1] cuda:0 [0.122]\n",
      "tensor[1] [0.390] tensor[1] cuda:0 [0.281]\n",
      "tensor[1] [0.429] tensor[1] cuda:0 [0.201]\n",
      "\n",
      "Train unscaled\n",
      "Preds\tTrue\n",
      "[438.24198789] [600.0000074]\n",
      "[370.39816977] [600.0000074]\n",
      "[632.91250787] [650.]\n",
      "[450.22438822] [399.99999967]\n",
      "[533.74185098] [550.00001479]\n",
      "[314.90495464] [399.99999967]\n",
      "[525.904189] [499.99998487]\n",
      "[103.2498482] [100.00000206]\n",
      "[268.2587541] [199.99999194]\n",
      "[292.55973818] [149.99999933]\n",
      "\n"
     ]
    },
    {
     "name": "stderr",
     "output_type": "stream",
     "text": [
      "\n"
     ]
    },
    {
     "name": "stdout",
     "output_type": "stream",
     "text": [
      "Val unscaled\n",
      "Preds\tTrue\n",
      "[457.21163695] [199.99999194]\n",
      "[512.39968031] [23.9]\n",
      "[482.04782384] [600.0000074]\n",
      "[473.42714576] [499.99998487]\n",
      "[357.14067202] [350.00000706]\n",
      "[426.2103645] [399.99999967]\n",
      "[606.55130179] [499.99998487]\n",
      "[643.24058051] [650.]\n",
      "[378.57416099] [199.99999194]\n",
      "[413.14412391] [399.99999967]\n",
      "\n",
      "Epoch: 95 | Epoch Time: 0m 0s\n",
      "\tTrain Loss: 0.029| Train sqrt(mse): 0.17\n",
      "\n",
      "\tVal Loss: 0.093|  Val sqrt(mse): 0.30\n",
      "\n"
     ]
    },
    {
     "name": "stderr",
     "output_type": "stream",
     "text": [
      "Train: 100%|██████████| 1/1 [00:00<00:00,  2.42it/s]"
     ]
    },
    {
     "name": "stdout",
     "output_type": "stream",
     "text": [
      "Train (0,1)\n",
      "Preds\tTrue\n",
      "tensor[1] [0.749] tensor[1] cuda:0 [1.000]\n",
      "tensor[1] [0.174] tensor[1] cuda:0 [0.122]\n",
      "tensor[1] [0.685] tensor[1] cuda:0 [0.601]\n",
      "tensor[1] [0.757] tensor[1] cuda:0 [0.840]\n",
      "tensor[1] [0.568] tensor[1] cuda:0 [0.601]\n",
      "tensor[1] [0.682] tensor[1] cuda:0 [0.920]\n",
      "tensor[1] [0.359] tensor[1] cuda:0 [0.281]\n",
      "tensor[1] [0.672] tensor[1] cuda:0 [0.760]\n",
      "tensor[1] [0.897] tensor[1] cuda:0 [0.920]\n",
      "tensor[1] [0.349] tensor[1] cuda:0 [0.201]\n",
      "\n",
      "Train unscaled\n",
      "Preds\tTrue\n",
      "[492.59503052] [650.]\n",
      "[132.8518647] [100.00000206]\n",
      "[452.74219062] [399.99999967]\n",
      "[498.15570618] [550.00001479]\n",
      "[379.42173803] [399.99999967]\n",
      "[451.03845328] [600.0000074]\n",
      "[248.61718602] [199.99999194]\n",
      "[444.46786524] [499.99998487]\n",
      "[585.48002588] [600.0000074]\n",
      "[242.63865548] [149.99999933]\n",
      "\n"
     ]
    },
    {
     "name": "stderr",
     "output_type": "stream",
     "text": [
      "\n"
     ]
    },
    {
     "name": "stdout",
     "output_type": "stream",
     "text": [
      "Val unscaled\n",
      "Preds\tTrue\n",
      "[528.23920555] [199.99999194]\n",
      "[491.7808535] [23.9]\n",
      "[508.64462141] [600.0000074]\n",
      "[535.59960164] [499.99998487]\n",
      "[379.86661149] [350.00000706]\n",
      "[481.71162176] [399.99999967]\n",
      "[592.4106625] [499.99998487]\n",
      "[685.15228029] [650.]\n",
      "[465.66303847] [199.99999194]\n",
      "[469.91592573] [399.99999967]\n",
      "\n",
      "Epoch: 96 | Epoch Time: 0m 0s\n",
      "\tTrain Loss: 0.017| Train sqrt(mse): 0.13\n",
      "\n",
      "\tVal Loss: 0.109|  Val sqrt(mse): 0.33\n",
      "\n"
     ]
    },
    {
     "name": "stderr",
     "output_type": "stream",
     "text": [
      "Train: 100%|██████████| 1/1 [00:00<00:00,  2.42it/s]"
     ]
    },
    {
     "name": "stdout",
     "output_type": "stream",
     "text": [
      "Train (0,1)\n",
      "Preds\tTrue\n",
      "tensor[1] [0.181] tensor[1] cuda:0 [0.122]\n",
      "tensor[1] [0.609] tensor[1] cuda:0 [0.281]\n",
      "tensor[1] [1.029] tensor[1] cuda:0 [0.840]\n",
      "tensor[1] [0.949] tensor[1] cuda:0 [0.920]\n",
      "tensor[1] [0.397] tensor[1] cuda:0 [0.601]\n",
      "tensor[1] [0.774] tensor[1] cuda:0 [0.920]\n",
      "tensor[1] [0.820] tensor[1] cuda:0 [1.000]\n",
      "tensor[1] [0.678] tensor[1] cuda:0 [0.760]\n",
      "tensor[1] [0.167] tensor[1] cuda:0 [0.201]\n",
      "tensor[1] [0.585] tensor[1] cuda:0 [0.601]\n",
      "\n",
      "Train unscaled\n",
      "Preds\tTrue\n",
      "[136.9493392] [100.00000206]\n",
      "[405.37106019] [199.99999194]\n",
      "[668.46988014] [550.00001479]\n",
      "[617.795095] [600.0000074]\n",
      "[272.32155975] [399.99999967]\n",
      "[508.70865991] [600.0000074]\n",
      "[537.46597287] [650.]\n",
      "[448.34917251] [499.99998487]\n",
      "[128.40329805] [149.99999933]\n",
      "[389.87437972] [399.99999967]\n",
      "\n"
     ]
    },
    {
     "name": "stderr",
     "output_type": "stream",
     "text": [
      "\n"
     ]
    },
    {
     "name": "stdout",
     "output_type": "stream",
     "text": [
      "Val unscaled\n",
      "Preds\tTrue\n",
      "[605.2239212] [199.99999194]\n",
      "[495.60457838] [23.9]\n",
      "[536.23367974] [600.0000074]\n",
      "[626.67256146] [499.99998487]\n",
      "[399.43876722] [350.00000706]\n",
      "[532.83430316] [399.99999967]\n",
      "[595.78652844] [499.99998487]\n",
      "[718.8844436] [650.]\n",
      "[569.53668066] [199.99999194]\n",
      "[516.23422754] [399.99999967]\n",
      "\n",
      "Epoch: 97 | Epoch Time: 0m 0s\n",
      "\tTrain Loss: 0.025| Train sqrt(mse): 0.16\n",
      "\n",
      "\tVal Loss: 0.151|  Val sqrt(mse): 0.39\n",
      "\n"
     ]
    },
    {
     "name": "stderr",
     "output_type": "stream",
     "text": [
      "Train: 100%|██████████| 1/1 [00:00<00:00,  2.38it/s]"
     ]
    },
    {
     "name": "stdout",
     "output_type": "stream",
     "text": [
      "Train (0,1)\n",
      "Preds\tTrue\n",
      "tensor[1] [1.036] tensor[1] cuda:0 [0.920]\n",
      "tensor[1] [0.158] tensor[1] cuda:0 [0.201]\n",
      "tensor[1] [0.286] tensor[1] cuda:0 [0.122]\n",
      "tensor[1] [0.682] tensor[1] cuda:0 [1.000]\n",
      "tensor[1] [0.430] tensor[1] cuda:0 [0.601]\n",
      "tensor[1] [0.716] tensor[1] cuda:0 [0.601]\n",
      "tensor[1] [0.933] tensor[1] cuda:0 [0.840]\n",
      "tensor[1] [0.516] tensor[1] cuda:0 [0.281]\n",
      "tensor[1] [0.910] tensor[1] cuda:0 [0.920]\n",
      "tensor[1] [0.654] tensor[1] cuda:0 [0.760]\n",
      "\n",
      "Train unscaled\n",
      "Preds\tTrue\n",
      "[672.47534596] [600.0000074]\n",
      "[122.9553988] [149.99999933]\n",
      "[203.21277617] [100.00000206]\n",
      "[451.06800951] [650.]\n",
      "[292.94544321] [399.99999967]\n",
      "[472.02221739] [399.99999967]\n",
      "[608.26227891] [550.00001479]\n",
      "[347.17369288] [199.99999194]\n",
      "[593.95083299] [600.0000074]\n",
      "[433.17540875] [499.99998487]\n",
      "\n"
     ]
    },
    {
     "name": "stderr",
     "output_type": "stream",
     "text": [
      "\n"
     ]
    },
    {
     "name": "stdout",
     "output_type": "stream",
     "text": [
      "Val unscaled\n",
      "Preds\tTrue\n",
      "[638.92037073] [199.99999194]\n",
      "[516.81714202] [23.9]\n",
      "[542.13615524] [600.0000074]\n",
      "[670.7539943] [499.99998487]\n",
      "[408.86029963] [350.00000706]\n",
      "[540.76313416] [399.99999967]\n",
      "[617.7126585] [499.99998487]\n",
      "[747.71945362] [650.]\n",
      "[609.06320788] [199.99999194]\n",
      "[547.11149073] [399.99999967]\n",
      "\n",
      "Epoch: 98 | Epoch Time: 0m 0s\n",
      "\tTrain Loss: 0.026| Train sqrt(mse): 0.16\n",
      "\n",
      "\tVal Loss: 0.180|  Val sqrt(mse): 0.42\n",
      "\n"
     ]
    },
    {
     "name": "stderr",
     "output_type": "stream",
     "text": [
      "Train: 100%|██████████| 1/1 [00:00<00:00,  2.45it/s]"
     ]
    },
    {
     "name": "stdout",
     "output_type": "stream",
     "text": [
      "Train (0,1)\n",
      "Preds\tTrue\n",
      "tensor[1] [0.946] tensor[1] cuda:0 [1.000]\n",
      "tensor[1] [0.313] tensor[1] cuda:0 [0.122]\n",
      "tensor[1] [1.024] tensor[1] cuda:0 [0.840]\n",
      "tensor[1] [0.569] tensor[1] cuda:0 [0.281]\n",
      "tensor[1] [0.205] tensor[1] cuda:0 [0.201]\n",
      "tensor[1] [0.612] tensor[1] cuda:0 [0.601]\n",
      "tensor[1] [0.961] tensor[1] cuda:0 [0.920]\n",
      "tensor[1] [0.803] tensor[1] cuda:0 [0.760]\n",
      "tensor[1] [0.597] tensor[1] cuda:0 [0.601]\n",
      "tensor[1] [0.997] tensor[1] cuda:0 [0.920]\n",
      "\n",
      "Train unscaled\n",
      "Preds\tTrue\n",
      "[616.19857361] [650.]\n",
      "[219.89972918] [100.00000206]\n",
      "[665.21376916] [550.00001479]\n",
      "[380.13299072] [199.99999194]\n",
      "[152.32688978] [149.99999933]\n",
      "[407.09924113] [399.99999967]\n",
      "[625.70500554] [600.0000074]\n",
      "[526.67231503] [499.99998487]\n",
      "[397.83119957] [399.99999967]\n",
      "[647.93225832] [600.0000074]\n",
      "\n"
     ]
    },
    {
     "name": "stderr",
     "output_type": "stream",
     "text": [
      "\n"
     ]
    },
    {
     "name": "stdout",
     "output_type": "stream",
     "text": [
      "Val unscaled\n",
      "Preds\tTrue\n",
      "[651.23957024] [199.99999194]\n",
      "[539.41351177] [23.9]\n",
      "[521.29591796] [600.0000074]\n",
      "[703.88503172] [499.99998487]\n",
      "[387.07530802] [350.00000706]\n",
      "[529.24090787] [399.99999967]\n",
      "[632.67867035] [499.99998487]\n",
      "[762.96703331] [650.]\n",
      "[630.97112653] [199.99999194]\n",
      "[564.80156416] [399.99999967]\n",
      "\n",
      "Epoch: 99 | Epoch Time: 0m 0s\n",
      "\tTrain Loss: 0.017| Train sqrt(mse): 0.13\n",
      "\n",
      "\tVal Loss: 0.199|  Val sqrt(mse): 0.45\n",
      "\n"
     ]
    },
    {
     "name": "stderr",
     "output_type": "stream",
     "text": [
      "Train: 100%|██████████| 1/1 [00:00<00:00,  2.37it/s]"
     ]
    },
    {
     "name": "stdout",
     "output_type": "stream",
     "text": [
      "Train (0,1)\n",
      "Preds\tTrue\n",
      "tensor[1] [0.901] tensor[1] cuda:0 [0.920]\n",
      "tensor[1] [0.406] tensor[1] cuda:0 [0.281]\n",
      "tensor[1] [0.972] tensor[1] cuda:0 [0.840]\n",
      "tensor[1] [0.124] tensor[1] cuda:0 [0.201]\n",
      "tensor[1] [0.736] tensor[1] cuda:0 [0.601]\n",
      "tensor[1] [0.781] tensor[1] cuda:0 [1.000]\n",
      "tensor[1] [0.141] tensor[1] cuda:0 [0.122]\n",
      "tensor[1] [1.001] tensor[1] cuda:0 [0.920]\n",
      "tensor[1] [0.716] tensor[1] cuda:0 [0.760]\n",
      "tensor[1] [0.553] tensor[1] cuda:0 [0.601]\n",
      "\n",
      "Train unscaled\n",
      "Preds\tTrue\n",
      "[588.12814437] [600.0000074]\n",
      "[278.02126536] [199.99999194]\n",
      "[632.70688311] [550.00001479]\n",
      "[101.29113243] [149.99999933]\n",
      "[484.94063953] [399.99999967]\n",
      "[513.07059173] [650.]\n",
      "[112.42471487] [100.00000206]\n",
      "[650.54865612] [600.0000074]\n",
      "[472.29426902] [499.99998487]\n",
      "[369.92500891] [399.99999967]\n",
      "\n"
     ]
    },
    {
     "name": "stderr",
     "output_type": "stream",
     "text": [
      "\n"
     ]
    },
    {
     "name": "stdout",
     "output_type": "stream",
     "text": [
      "Val unscaled\n",
      "Preds\tTrue\n",
      "[627.38721012] [199.99999194]\n",
      "[576.57755604] [23.9]\n",
      "[483.76943673] [600.0000074]\n",
      "[716.624885] [499.99998487]\n",
      "[344.90898433] [350.00000706]\n",
      "[480.56392959] [399.99999967]\n",
      "[657.68163347] [499.99998487]\n",
      "[784.66391603] [650.]\n",
      "[610.69074091] [199.99999194]\n",
      "[579.77552484] [399.99999967]\n",
      "\n",
      "Epoch: 100 | Epoch Time: 0m 0s\n",
      "\tTrain Loss: 0.012| Train sqrt(mse): 0.11\n",
      "\n",
      "\tVal Loss: 0.204|  Val sqrt(mse): 0.45\n",
      "\n"
     ]
    },
    {
     "data": {
      "image/png": "[encoded data removed]",
      "text/plain": [
       "<Figure size 600x800 with 4 Axes>"
      ]
     },
     "metadata": {},
     "output_type": "display_data"
    }
   ],
   "source": [
    "train('/kaggle/working/temperature_states', calc_sqrt_mse, calc_sqrt_mse, 'sqrt(mse)', 1, need_to_reshape=True)"
   ]
  },
  {
   "cell_type": "code",
   "execution_count": null,
   "metadata": {
    "trusted": true
   },
   "outputs": [],
   "source": []
  },
  {
   "cell_type": "code",
   "execution_count": null,
   "metadata": {
    "trusted": true
   },
   "outputs": [],
   "source": []
  },
  {
   "cell_type": "code",
   "execution_count": null,
   "metadata": {
    "trusted": true
   },
   "outputs": [],
   "source": []
  },
  {
   "cell_type": "code",
   "execution_count": 132,
   "metadata": {
    "execution": {
     "iopub.execute_input": "2025-04-17T17:13:50.681623Z",
     "iopub.status.busy": "2025-04-17T17:13:50.681219Z",
     "iopub.status.idle": "2025-04-17T17:13:50.937561Z",
     "shell.execute_reply": "2025-04-17T17:13:50.936380Z",
     "shell.execute_reply.started": "2025-04-17T17:13:50.681581Z"
    },
    "trusted": true
   },
   "outputs": [
    {
     "name": "stderr",
     "output_type": "stream",
     "text": [
      "Using cache found in /root/.cache/torch/hub/pytorch_vision_v0.10.0\n",
      "<ipython-input-132-52d423e745e5>:3: FutureWarning: You are using `torch.load` with `weights_only=False` (the current default value), which uses the default pickle module implicitly. It is possible to construct malicious pickle data which will execute arbitrary code during unpickling (See https://github.com/pytorch/pytorch/blob/main/SECURITY.md#untrusted-models for more details). In a future release, the default value for `weights_only` will be flipped to `True`. This limits the functions that could be executed during unpickling. Arbitrary objects will no longer be allowed to be loaded via this mode unless they are explicitly allowlisted by the user via `torch.serialization.add_safe_globals`. We recommend you start setting `weights_only=True` for any use case where you don't have full control of the loaded file. Please open an issue on GitHub for any issues related to this experimental feature.\n",
      "  model.load_state_dict(torch.load('/kaggle/working/states/best_model.pt'))\n"
     ]
    },
    {
     "ename": "FileNotFoundError",
     "evalue": "[Errno 2] No such file or directory: '/kaggle/working/states/best_model.pt'",
     "output_type": "error",
     "traceback": [
      "\u001b[0;31m---------------------------------------------------------------------------\u001b[0m",
      "\u001b[0;31mFileNotFoundError\u001b[0m                         Traceback (most recent call last)",
      "\u001b[0;32m<ipython-input-132-52d423e745e5>\u001b[0m in \u001b[0;36m<cell line: 3>\u001b[0;34m()\u001b[0m\n\u001b[1;32m      1\u001b[0m \u001b[0mmodel\u001b[0m \u001b[0;34m=\u001b[0m \u001b[0mtorch\u001b[0m\u001b[0;34m.\u001b[0m\u001b[0mhub\u001b[0m\u001b[0;34m.\u001b[0m\u001b[0mload\u001b[0m\u001b[0;34m(\u001b[0m\u001b[0;34m'pytorch/vision:v0.10.0'\u001b[0m\u001b[0;34m,\u001b[0m \u001b[0;34m'resnet18'\u001b[0m\u001b[0;34m,\u001b[0m \u001b[0mweights\u001b[0m\u001b[0;34m=\u001b[0m\u001b[0;34m'DEFAULT'\u001b[0m\u001b[0;34m)\u001b[0m\u001b[0;34m\u001b[0m\u001b[0;34m\u001b[0m\u001b[0m\n\u001b[1;32m      2\u001b[0m \u001b[0mmodel\u001b[0m\u001b[0;34m.\u001b[0m\u001b[0mfc\u001b[0m \u001b[0;34m=\u001b[0m \u001b[0mnn\u001b[0m\u001b[0;34m.\u001b[0m\u001b[0mLinear\u001b[0m\u001b[0;34m(\u001b[0m\u001b[0min_features\u001b[0m\u001b[0;34m=\u001b[0m\u001b[0;36m512\u001b[0m\u001b[0;34m,\u001b[0m \u001b[0mout_features\u001b[0m\u001b[0;34m=\u001b[0m\u001b[0;36m3\u001b[0m\u001b[0;34m,\u001b[0m \u001b[0mbias\u001b[0m\u001b[0;34m=\u001b[0m\u001b[0;32mTrue\u001b[0m\u001b[0;34m)\u001b[0m\u001b[0;34m\u001b[0m\u001b[0;34m\u001b[0m\u001b[0m\n\u001b[0;32m----> 3\u001b[0;31m \u001b[0mmodel\u001b[0m\u001b[0;34m.\u001b[0m\u001b[0mload_state_dict\u001b[0m\u001b[0;34m(\u001b[0m\u001b[0mtorch\u001b[0m\u001b[0;34m.\u001b[0m\u001b[0mload\u001b[0m\u001b[0;34m(\u001b[0m\u001b[0;34m'/kaggle/working/states/best_model.pt'\u001b[0m\u001b[0;34m)\u001b[0m\u001b[0;34m)\u001b[0m\u001b[0;34m\u001b[0m\u001b[0;34m\u001b[0m\u001b[0m\n\u001b[0m\u001b[1;32m      4\u001b[0m \u001b[0;34m\u001b[0m\u001b[0m\n\u001b[1;32m      5\u001b[0m \u001b[0mmodel_scripted\u001b[0m \u001b[0;34m=\u001b[0m \u001b[0mtorch\u001b[0m\u001b[0;34m.\u001b[0m\u001b[0mjit\u001b[0m\u001b[0;34m.\u001b[0m\u001b[0mscript\u001b[0m\u001b[0;34m(\u001b[0m\u001b[0mmodel\u001b[0m\u001b[0;34m)\u001b[0m \u001b[0;31m# Export to TorchScript\u001b[0m\u001b[0;34m\u001b[0m\u001b[0;34m\u001b[0m\u001b[0m\n",
      "\u001b[0;32m/usr/local/lib/python3.10/dist-packages/torch/serialization.py\u001b[0m in \u001b[0;36mload\u001b[0;34m(f, map_location, pickle_module, weights_only, mmap, **pickle_load_args)\u001b[0m\n\u001b[1;32m   1317\u001b[0m         \u001b[0mpickle_load_args\u001b[0m\u001b[0;34m[\u001b[0m\u001b[0;34m\"encoding\"\u001b[0m\u001b[0;34m]\u001b[0m \u001b[0;34m=\u001b[0m \u001b[0;34m\"utf-8\"\u001b[0m\u001b[0;34m\u001b[0m\u001b[0;34m\u001b[0m\u001b[0m\n\u001b[1;32m   1318\u001b[0m \u001b[0;34m\u001b[0m\u001b[0m\n\u001b[0;32m-> 1319\u001b[0;31m     \u001b[0;32mwith\u001b[0m \u001b[0m_open_file_like\u001b[0m\u001b[0;34m(\u001b[0m\u001b[0mf\u001b[0m\u001b[0;34m,\u001b[0m \u001b[0;34m\"rb\"\u001b[0m\u001b[0;34m)\u001b[0m \u001b[0;32mas\u001b[0m \u001b[0mopened_file\u001b[0m\u001b[0;34m:\u001b[0m\u001b[0;34m\u001b[0m\u001b[0;34m\u001b[0m\u001b[0m\n\u001b[0m\u001b[1;32m   1320\u001b[0m         \u001b[0;32mif\u001b[0m \u001b[0m_is_zipfile\u001b[0m\u001b[0;34m(\u001b[0m\u001b[0mopened_file\u001b[0m\u001b[0;34m)\u001b[0m\u001b[0;34m:\u001b[0m\u001b[0;34m\u001b[0m\u001b[0;34m\u001b[0m\u001b[0m\n\u001b[1;32m   1321\u001b[0m             \u001b[0;31m# The zipfile reader is going to advance the current file position.\u001b[0m\u001b[0;34m\u001b[0m\u001b[0;34m\u001b[0m\u001b[0m\n",
      "\u001b[0;32m/usr/local/lib/python3.10/dist-packages/torch/serialization.py\u001b[0m in \u001b[0;36m_open_file_like\u001b[0;34m(name_or_buffer, mode)\u001b[0m\n\u001b[1;32m    657\u001b[0m \u001b[0;32mdef\u001b[0m \u001b[0m_open_file_like\u001b[0m\u001b[0;34m(\u001b[0m\u001b[0mname_or_buffer\u001b[0m\u001b[0;34m,\u001b[0m \u001b[0mmode\u001b[0m\u001b[0;34m)\u001b[0m\u001b[0;34m:\u001b[0m\u001b[0;34m\u001b[0m\u001b[0;34m\u001b[0m\u001b[0m\n\u001b[1;32m    658\u001b[0m     \u001b[0;32mif\u001b[0m \u001b[0m_is_path\u001b[0m\u001b[0;34m(\u001b[0m\u001b[0mname_or_buffer\u001b[0m\u001b[0;34m)\u001b[0m\u001b[0;34m:\u001b[0m\u001b[0;34m\u001b[0m\u001b[0;34m\u001b[0m\u001b[0m\n\u001b[0;32m--> 659\u001b[0;31m         \u001b[0;32mreturn\u001b[0m \u001b[0m_open_file\u001b[0m\u001b[0;34m(\u001b[0m\u001b[0mname_or_buffer\u001b[0m\u001b[0;34m,\u001b[0m \u001b[0mmode\u001b[0m\u001b[0;34m)\u001b[0m\u001b[0;34m\u001b[0m\u001b[0;34m\u001b[0m\u001b[0m\n\u001b[0m\u001b[1;32m    660\u001b[0m     \u001b[0;32melse\u001b[0m\u001b[0;34m:\u001b[0m\u001b[0;34m\u001b[0m\u001b[0;34m\u001b[0m\u001b[0m\n\u001b[1;32m    661\u001b[0m         \u001b[0;32mif\u001b[0m \u001b[0;34m\"w\"\u001b[0m \u001b[0;32min\u001b[0m \u001b[0mmode\u001b[0m\u001b[0;34m:\u001b[0m\u001b[0;34m\u001b[0m\u001b[0;34m\u001b[0m\u001b[0m\n",
      "\u001b[0;32m/usr/local/lib/python3.10/dist-packages/torch/serialization.py\u001b[0m in \u001b[0;36m__init__\u001b[0;34m(self, name, mode)\u001b[0m\n\u001b[1;32m    638\u001b[0m \u001b[0;32mclass\u001b[0m \u001b[0m_open_file\u001b[0m\u001b[0;34m(\u001b[0m\u001b[0m_opener\u001b[0m\u001b[0;34m)\u001b[0m\u001b[0;34m:\u001b[0m\u001b[0;34m\u001b[0m\u001b[0;34m\u001b[0m\u001b[0m\n\u001b[1;32m    639\u001b[0m     \u001b[0;32mdef\u001b[0m \u001b[0m__init__\u001b[0m\u001b[0;34m(\u001b[0m\u001b[0mself\u001b[0m\u001b[0;34m,\u001b[0m \u001b[0mname\u001b[0m\u001b[0;34m,\u001b[0m \u001b[0mmode\u001b[0m\u001b[0;34m)\u001b[0m\u001b[0;34m:\u001b[0m\u001b[0;34m\u001b[0m\u001b[0;34m\u001b[0m\u001b[0m\n\u001b[0;32m--> 640\u001b[0;31m         \u001b[0msuper\u001b[0m\u001b[0;34m(\u001b[0m\u001b[0;34m)\u001b[0m\u001b[0;34m.\u001b[0m\u001b[0m__init__\u001b[0m\u001b[0;34m(\u001b[0m\u001b[0mopen\u001b[0m\u001b[0;34m(\u001b[0m\u001b[0mname\u001b[0m\u001b[0;34m,\u001b[0m \u001b[0mmode\u001b[0m\u001b[0;34m)\u001b[0m\u001b[0;34m)\u001b[0m\u001b[0;34m\u001b[0m\u001b[0;34m\u001b[0m\u001b[0m\n\u001b[0m\u001b[1;32m    641\u001b[0m \u001b[0;34m\u001b[0m\u001b[0m\n\u001b[1;32m    642\u001b[0m     \u001b[0;32mdef\u001b[0m \u001b[0m__exit__\u001b[0m\u001b[0;34m(\u001b[0m\u001b[0mself\u001b[0m\u001b[0;34m,\u001b[0m \u001b[0;34m*\u001b[0m\u001b[0margs\u001b[0m\u001b[0;34m)\u001b[0m\u001b[0;34m:\u001b[0m\u001b[0;34m\u001b[0m\u001b[0;34m\u001b[0m\u001b[0m\n",
      "\u001b[0;31mFileNotFoundError\u001b[0m: [Errno 2] No such file or directory: '/kaggle/working/states/best_model.pt'"
     ]
    }
   ],
   "source": [
    "model = torch.hub.load('pytorch/vision:v0.10.0', 'resnet18', weights='DEFAULT')\n",
    "model.fc = nn.Linear(in_features=512, out_features=3, bias=True)\n",
    "model.load_state_dict(torch.load('/kaggle/working/states/best_model.pt'))\n",
    "\n",
    "model_scripted = torch.jit.script(model) # Export to TorchScript\n",
    "model_scripted.save('/kaggle/working/states/model_scripted.pt') "
   ]
  },
  {
   "cell_type": "code",
   "execution_count": null,
   "metadata": {
    "trusted": true
   },
   "outputs": [],
   "source": []
  },
  {
   "cell_type": "code",
   "execution_count": null,
   "metadata": {
    "trusted": true
   },
   "outputs": [],
   "source": []
  },
  {
   "cell_type": "code",
   "execution_count": null,
   "metadata": {
    "trusted": true
   },
   "outputs": [],
   "source": []
  },
  {
   "cell_type": "code",
   "execution_count": null,
   "metadata": {
    "trusted": true
   },
   "outputs": [],
   "source": []
  }
 ],
 "metadata": {
  "accelerator": "GPU",
  "colab": {
   "gpuType": "T4",
   "provenance": []
  },
  "kaggle": {
   "accelerator": "gpu",
   "dataSources": [
    {
     "datasetId": 3861645,
     "sourceId": 6699587,
     "sourceType": "datasetVersion"
    },
    {
     "datasetId": 6886554,
     "sourceId": 11053642,
     "sourceType": "datasetVersion"
    },
    {
     "datasetId": 6805297,
     "sourceId": 11326630,
     "sourceType": "datasetVersion"
    }
   ],
   "dockerImageVersionId": 30839,
   "isGpuEnabled": true,
   "isInternetEnabled": true,
   "language": "python",
   "sourceType": "notebook"
  },
  "kernelspec": {
   "display_name": "Python 3",
   "language": "python",
   "name": "python3"
  },
  "language_info": {
   "codemirror_mode": {
    "name": "ipython",
    "version": 3
   },
   "file_extension": ".py",
   "mimetype": "text/x-python",
   "name": "python",
   "nbconvert_exporter": "python",
   "pygments_lexer": "ipython3",
   "version": "3.12.4"
  }
 },
 "nbformat": 4,
 "nbformat_minor": 4
}
